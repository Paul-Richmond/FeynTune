{
 "cells": [
  {
   "cell_type": "markdown",
   "id": "8f6d4c50",
   "metadata": {
    "papermill": {
     "duration": 0.018828,
     "end_time": "2024-09-20T08:46:55.232907",
     "exception": false,
     "start_time": "2024-09-20T08:46:55.214079",
     "status": "completed"
    },
    "tags": []
   },
   "source": [
    "# Creation of datasets for finetuning LLMs on arXiv abstracts\n",
    "\n",
    "Useful info can be found here: https://info.arxiv.org/help/arxiv_identifier_for_services.html\n",
    "\n",
    "# Outline\n",
    "\n",
    "- [ 1 - Packages and setup](#1)\n",
    "    - [1.1 - Log into huggingface hub](#1.1)\n",
    "    - [1.2 - Define variables to automate extraction and upload](#1.2)\n",
    "- [ 2 - Load full arXiv metadata (currently ~4.2Gb)](#2)\n",
    "- [ 3 - Data manipulation](#3)\n",
    "    - [3.1 - Identify small set of papers which we authored](#3.1)\n",
    "    - [3.2 - Explore categories](#3.2)\n",
    "    - [3.3 - Extract specific category/categories](#3.3)\n",
    "    - [3.4 - Remove papers that have been withdrawn](#3.4)\n",
    "- [ 4 - Look at the abstracts](#4)    \n",
    "    - [4.1 - Length of abstracts](#4.1)\n",
    "    - [4.2 - Keywords/PACS at end of abstracts](#4.2)\n",
    "    - [4.3 - Multi-lingual abstracts](#4.3)\n",
    "    - [4.4 - Look at distribution of dates from `id` column](#4.4)\n",
    "- [ 5 - Clean the abstract data](#5)\n",
    "- [ 6 - Convert to Huggingface dataset and push](#6)\n",
    "    - [ 6.1 - Convert Pandas DataFrame to dataset Dataset](#6.1)\n",
    "    - [ 6.2 - Split dataset into train, test and validation datasets](#6.2)\n",
    "    - [ 6.3 - Upload data to Huggingface](#6.3)"
   ]
  },
  {
   "cell_type": "markdown",
   "id": "657a97d2",
   "metadata": {
    "papermill": {
     "duration": 0.019029,
     "end_time": "2024-09-20T08:46:55.270808",
     "exception": false,
     "start_time": "2024-09-20T08:46:55.251779",
     "status": "completed"
    },
    "tags": []
   },
   "source": [
    "<a name=\"1\"></a>\n",
    "## 1 - Packages and setup"
   ]
  },
  {
   "cell_type": "code",
   "execution_count": 1,
   "id": "9c62bd66",
   "metadata": {
    "execution": {
     "iopub.execute_input": "2024-09-20T08:46:55.310293Z",
     "iopub.status.busy": "2024-09-20T08:46:55.309878Z",
     "iopub.status.idle": "2024-09-20T08:46:57.766851Z",
     "shell.execute_reply": "2024-09-20T08:46:57.765500Z"
    },
    "papermill": {
     "duration": 2.480658,
     "end_time": "2024-09-20T08:46:57.769795",
     "exception": false,
     "start_time": "2024-09-20T08:46:55.289137",
     "status": "completed"
    },
    "tags": []
   },
   "outputs": [],
   "source": [
    "import numpy as np \n",
    "import pandas as pd\n",
    "import json\n",
    "import re\n",
    "\n",
    "import huggingface_hub\n",
    "import datasets"
   ]
  },
  {
   "cell_type": "markdown",
   "id": "3dbe3ff8",
   "metadata": {
    "papermill": {
     "duration": 0.017888,
     "end_time": "2024-09-20T08:46:57.807889",
     "exception": false,
     "start_time": "2024-09-20T08:46:57.790001",
     "status": "completed"
    },
    "tags": []
   },
   "source": [
    "<a name=\"1.1\"></a>\n",
    "### 1.1 - Log into huggingface hub"
   ]
  },
  {
   "cell_type": "code",
   "execution_count": 2,
   "id": "c7dc1b3d",
   "metadata": {
    "execution": {
     "iopub.execute_input": "2024-09-20T08:46:57.846312Z",
     "iopub.status.busy": "2024-09-20T08:46:57.845735Z",
     "iopub.status.idle": "2024-09-20T08:46:58.178917Z",
     "shell.execute_reply": "2024-09-20T08:46:58.177616Z"
    },
    "papermill": {
     "duration": 0.355703,
     "end_time": "2024-09-20T08:46:58.181828",
     "exception": false,
     "start_time": "2024-09-20T08:46:57.826125",
     "status": "completed"
    },
    "tags": []
   },
   "outputs": [
    {
     "name": "stdout",
     "output_type": "stream",
     "text": [
      "Token has not been saved to git credential helper. Pass `add_to_git_credential=True` if you want to set the git credential as well.\n",
      "Token is valid (permission: write).\n",
      "Your token has been saved to /root/.cache/huggingface/token\n",
      "Login successful\n"
     ]
    }
   ],
   "source": [
    "try:\n",
    "    from kaggle_secrets import UserSecretsClient\n",
    "    user_secrets = UserSecretsClient()\n",
    "    secret_value_0 = user_secrets.get_secret(\"HFapi\")\n",
    "    huggingface_hub.login(secret_value_0)\n",
    "except:\n",
    "    huggingface_hub.login()"
   ]
  },
  {
   "cell_type": "markdown",
   "id": "4fb7870c",
   "metadata": {
    "papermill": {
     "duration": 0.018045,
     "end_time": "2024-09-20T08:46:58.218557",
     "exception": false,
     "start_time": "2024-09-20T08:46:58.200512",
     "status": "completed"
    },
    "tags": []
   },
   "source": [
    "<a name=\"1.2\"></a>\n",
    "### 1.2 - Define variables to automate extraction and upload\n",
    "\n",
    "In this subsection we define several variables which control how this notebook operates. Once these variables are set you can click `Run All`.\n",
    "\n",
    "The variables are\n",
    "1. `repo_id`: String. This is the name of the Huggingface repository that the dataset will be upload to. If the repository does not already exist it will be created.\n",
    "2. `commit_message`: String or None. An optional commit message used in the `push_to_hub` function. Set it to `None` for an initial commit.\n",
    "3. `wanted_categories`: List. A list of strings corresponding to arXiv categories. The code looks at the string data in the `categories` column and checks if any of the entries in `wanted_categories` appears.\n",
    "4. `primary_classification_only`: Boolean. \n",
    "    * `True` will only match entries in `wanted_categories` to the first substring which appears in the `categories` column. \n",
    "    * `False` will match entries in `wanted_categories` if they appear *anywhere* in the `categories` column.\n",
    "5. `train_size`: Float. Represents a percentage of data to use in creating a training dataset. `(1-train_size)` is used as a non-train dataset *i.e.* combined test and validation set.\n",
    "6. `validation_size`: Float. Represents a percentage of data from the non-train dataset to use as a validation dataset. The remaining percentage, `(1-validation_size)`, is used as a test dataset. The test set is to be used for hyperparameter tuning etc with the validation set left unused until the end to determine final model performance."
   ]
  },
  {
   "cell_type": "code",
   "execution_count": 3,
   "id": "83f7bb7c",
   "metadata": {
    "execution": {
     "iopub.execute_input": "2024-09-20T08:46:58.257921Z",
     "iopub.status.busy": "2024-09-20T08:46:58.256812Z",
     "iopub.status.idle": "2024-09-20T08:46:58.262500Z",
     "shell.execute_reply": "2024-09-20T08:46:58.261450Z"
    },
    "papermill": {
     "duration": 0.028148,
     "end_time": "2024-09-20T08:46:58.265153",
     "exception": false,
     "start_time": "2024-09-20T08:46:58.237005",
     "status": "completed"
    },
    "tags": []
   },
   "outputs": [],
   "source": [
    "repo_id = \"LLMsForHepth/hepth_primary_cleaned\"\n",
    "commit_message = None # None will use default in `push_to_hub` which is `\"Upload dataset\"`\n",
    "\n",
    "wanted_categories = ['hep-th'] # ['hep-th', 'hep-ph', 'gr-qc'] \n",
    "primary_classification_only = True\n",
    "\n",
    "train_size = 0.7 # use 70% of the dataset for training, 30% for testing & validation\n",
    "validation_size = 0.5 # test_size is 1 - validation_size"
   ]
  },
  {
   "cell_type": "markdown",
   "id": "6d3f89e2",
   "metadata": {
    "papermill": {
     "duration": 0.018122,
     "end_time": "2024-09-20T08:46:58.301807",
     "exception": false,
     "start_time": "2024-09-20T08:46:58.283685",
     "status": "completed"
    },
    "tags": []
   },
   "source": [
    "<a name=\"2\"></a>\n",
    "## 2 - Load full arXiv metadata (currently ~4.2Gb)\n",
    "\n",
    "The Kaggle dataset is described here: https://www.kaggle.com/datasets/Cornell-University/arxiv\n",
    "\n",
    "In this notebook we've pinned the dataset to be v193 which includes submissions upto around 22nd August 2024.\n",
    "\n",
    "\n",
    "Arxiv submissions are tightly controlled and should follow the instructions given here https://info.arxiv.org/help/prep.html.\n",
    "\n",
    "In particular, the Title and Abstract metadata must be in ASCII input and Unicode characters should be converted to LaTex equivalent.\n",
    "Since ASCII is a subset of utf-8 we can use utf-8 encoding to parse the json file."
   ]
  },
  {
   "cell_type": "code",
   "execution_count": 4,
   "id": "b8514267",
   "metadata": {
    "execution": {
     "iopub.execute_input": "2024-09-20T08:46:58.340239Z",
     "iopub.status.busy": "2024-09-20T08:46:58.339831Z",
     "iopub.status.idle": "2024-09-20T08:49:28.074276Z",
     "shell.execute_reply": "2024-09-20T08:49:28.072953Z"
    },
    "papermill": {
     "duration": 149.757107,
     "end_time": "2024-09-20T08:49:28.077280",
     "exception": false,
     "start_time": "2024-09-20T08:46:58.320173",
     "status": "completed"
    },
    "tags": []
   },
   "outputs": [],
   "source": [
    "df_dir='/kaggle/input/arxiv/arxiv-metadata-oai-snapshot.json'\n",
    "json_data = []\n",
    "\n",
    "with open(df_dir, 'r', encoding='utf-8') as f:\n",
    "    for line in f:\n",
    "        # Parse JSON from each line\n",
    "        try:\n",
    "            json_object = json.loads(line)\n",
    "            json_data.append(json_object)\n",
    "        except json.JSONDecodeError as e:\n",
    "            print(f\"Error decoding JSON: {e}\")\n",
    "            continue\n",
    "            \n",
    "df = pd.DataFrame(json_data)\n",
    "del json_data"
   ]
  },
  {
   "cell_type": "markdown",
   "id": "8a706256",
   "metadata": {
    "papermill": {
     "duration": 0.018246,
     "end_time": "2024-09-20T08:49:28.114440",
     "exception": false,
     "start_time": "2024-09-20T08:49:28.096194",
     "status": "completed"
    },
    "tags": []
   },
   "source": [
    "<a name=\"3\"></a>\n",
    "## 3 - Data manipulation"
   ]
  },
  {
   "cell_type": "code",
   "execution_count": 5,
   "id": "9c84cc6f",
   "metadata": {
    "execution": {
     "iopub.execute_input": "2024-09-20T08:49:28.154505Z",
     "iopub.status.busy": "2024-09-20T08:49:28.154010Z",
     "iopub.status.idle": "2024-09-20T08:49:28.178927Z",
     "shell.execute_reply": "2024-09-20T08:49:28.177709Z"
    },
    "papermill": {
     "duration": 0.048899,
     "end_time": "2024-09-20T08:49:28.181736",
     "exception": false,
     "start_time": "2024-09-20T08:49:28.132837",
     "status": "completed"
    },
    "tags": []
   },
   "outputs": [
    {
     "data": {
      "text/plain": [
       "(2542615, 14)"
      ]
     },
     "execution_count": 5,
     "metadata": {},
     "output_type": "execute_result"
    }
   ],
   "source": [
    "df.shape"
   ]
  },
  {
   "cell_type": "code",
   "execution_count": 6,
   "id": "d45a04b7",
   "metadata": {
    "execution": {
     "iopub.execute_input": "2024-09-20T08:49:28.223863Z",
     "iopub.status.busy": "2024-09-20T08:49:28.223412Z",
     "iopub.status.idle": "2024-09-20T08:49:28.439468Z",
     "shell.execute_reply": "2024-09-20T08:49:28.438268Z"
    },
    "papermill": {
     "duration": 0.2417,
     "end_time": "2024-09-20T08:49:28.442162",
     "exception": false,
     "start_time": "2024-09-20T08:49:28.200462",
     "status": "completed"
    },
    "tags": []
   },
   "outputs": [
    {
     "data": {
      "text/html": [
       "<div>\n",
       "<style scoped>\n",
       "    .dataframe tbody tr th:only-of-type {\n",
       "        vertical-align: middle;\n",
       "    }\n",
       "\n",
       "    .dataframe tbody tr th {\n",
       "        vertical-align: top;\n",
       "    }\n",
       "\n",
       "    .dataframe thead th {\n",
       "        text-align: right;\n",
       "    }\n",
       "</style>\n",
       "<table border=\"1\" class=\"dataframe\">\n",
       "  <thead>\n",
       "    <tr style=\"text-align: right;\">\n",
       "      <th></th>\n",
       "      <th>id</th>\n",
       "      <th>submitter</th>\n",
       "      <th>authors</th>\n",
       "      <th>title</th>\n",
       "      <th>comments</th>\n",
       "      <th>journal-ref</th>\n",
       "      <th>doi</th>\n",
       "      <th>report-no</th>\n",
       "      <th>categories</th>\n",
       "      <th>license</th>\n",
       "      <th>abstract</th>\n",
       "      <th>versions</th>\n",
       "      <th>update_date</th>\n",
       "      <th>authors_parsed</th>\n",
       "    </tr>\n",
       "  </thead>\n",
       "  <tbody>\n",
       "    <tr>\n",
       "      <th>0</th>\n",
       "      <td>0704.0001</td>\n",
       "      <td>Pavel Nadolsky</td>\n",
       "      <td>C. Bal\\'azs, E. L. Berger, P. M. Nadolsky, C.-...</td>\n",
       "      <td>Calculation of prompt diphoton production cros...</td>\n",
       "      <td>37 pages, 15 figures; published version</td>\n",
       "      <td>Phys.Rev.D76:013009,2007</td>\n",
       "      <td>10.1103/PhysRevD.76.013009</td>\n",
       "      <td>ANL-HEP-PR-07-12</td>\n",
       "      <td>hep-ph</td>\n",
       "      <td>None</td>\n",
       "      <td>A fully differential calculation in perturba...</td>\n",
       "      <td>[{'version': 'v1', 'created': 'Mon, 2 Apr 2007...</td>\n",
       "      <td>2008-11-26</td>\n",
       "      <td>[[Balázs, C., ], [Berger, E. L., ], [Nadolsky,...</td>\n",
       "    </tr>\n",
       "    <tr>\n",
       "      <th>1</th>\n",
       "      <td>0704.0002</td>\n",
       "      <td>Louis Theran</td>\n",
       "      <td>Ileana Streinu and Louis Theran</td>\n",
       "      <td>Sparsity-certifying Graph Decompositions</td>\n",
       "      <td>To appear in Graphs and Combinatorics</td>\n",
       "      <td>None</td>\n",
       "      <td>None</td>\n",
       "      <td>None</td>\n",
       "      <td>math.CO cs.CG</td>\n",
       "      <td>http://arxiv.org/licenses/nonexclusive-distrib...</td>\n",
       "      <td>We describe a new algorithm, the $(k,\\ell)$-...</td>\n",
       "      <td>[{'version': 'v1', 'created': 'Sat, 31 Mar 200...</td>\n",
       "      <td>2008-12-13</td>\n",
       "      <td>[[Streinu, Ileana, ], [Theran, Louis, ]]</td>\n",
       "    </tr>\n",
       "    <tr>\n",
       "      <th>2</th>\n",
       "      <td>0704.0003</td>\n",
       "      <td>Hongjun Pan</td>\n",
       "      <td>Hongjun Pan</td>\n",
       "      <td>The evolution of the Earth-Moon system based o...</td>\n",
       "      <td>23 pages, 3 figures</td>\n",
       "      <td>None</td>\n",
       "      <td>None</td>\n",
       "      <td>None</td>\n",
       "      <td>physics.gen-ph</td>\n",
       "      <td>None</td>\n",
       "      <td>The evolution of Earth-Moon system is descri...</td>\n",
       "      <td>[{'version': 'v1', 'created': 'Sun, 1 Apr 2007...</td>\n",
       "      <td>2008-01-13</td>\n",
       "      <td>[[Pan, Hongjun, ]]</td>\n",
       "    </tr>\n",
       "    <tr>\n",
       "      <th>3</th>\n",
       "      <td>0704.0004</td>\n",
       "      <td>David Callan</td>\n",
       "      <td>David Callan</td>\n",
       "      <td>A determinant of Stirling cycle numbers counts...</td>\n",
       "      <td>11 pages</td>\n",
       "      <td>None</td>\n",
       "      <td>None</td>\n",
       "      <td>None</td>\n",
       "      <td>math.CO</td>\n",
       "      <td>None</td>\n",
       "      <td>We show that a determinant of Stirling cycle...</td>\n",
       "      <td>[{'version': 'v1', 'created': 'Sat, 31 Mar 200...</td>\n",
       "      <td>2007-05-23</td>\n",
       "      <td>[[Callan, David, ]]</td>\n",
       "    </tr>\n",
       "    <tr>\n",
       "      <th>4</th>\n",
       "      <td>0704.0005</td>\n",
       "      <td>Alberto Torchinsky</td>\n",
       "      <td>Wael Abu-Shammala and Alberto Torchinsky</td>\n",
       "      <td>From dyadic $\\Lambda_{\\alpha}$ to $\\Lambda_{\\a...</td>\n",
       "      <td>None</td>\n",
       "      <td>Illinois J. Math. 52 (2008) no.2, 681-689</td>\n",
       "      <td>None</td>\n",
       "      <td>None</td>\n",
       "      <td>math.CA math.FA</td>\n",
       "      <td>None</td>\n",
       "      <td>In this paper we show how to compute the $\\L...</td>\n",
       "      <td>[{'version': 'v1', 'created': 'Mon, 2 Apr 2007...</td>\n",
       "      <td>2013-10-15</td>\n",
       "      <td>[[Abu-Shammala, Wael, ], [Torchinsky, Alberto, ]]</td>\n",
       "    </tr>\n",
       "  </tbody>\n",
       "</table>\n",
       "</div>"
      ],
      "text/plain": [
       "          id           submitter  \\\n",
       "0  0704.0001      Pavel Nadolsky   \n",
       "1  0704.0002        Louis Theran   \n",
       "2  0704.0003         Hongjun Pan   \n",
       "3  0704.0004        David Callan   \n",
       "4  0704.0005  Alberto Torchinsky   \n",
       "\n",
       "                                             authors  \\\n",
       "0  C. Bal\\'azs, E. L. Berger, P. M. Nadolsky, C.-...   \n",
       "1                    Ileana Streinu and Louis Theran   \n",
       "2                                        Hongjun Pan   \n",
       "3                                       David Callan   \n",
       "4           Wael Abu-Shammala and Alberto Torchinsky   \n",
       "\n",
       "                                               title  \\\n",
       "0  Calculation of prompt diphoton production cros...   \n",
       "1           Sparsity-certifying Graph Decompositions   \n",
       "2  The evolution of the Earth-Moon system based o...   \n",
       "3  A determinant of Stirling cycle numbers counts...   \n",
       "4  From dyadic $\\Lambda_{\\alpha}$ to $\\Lambda_{\\a...   \n",
       "\n",
       "                                  comments  \\\n",
       "0  37 pages, 15 figures; published version   \n",
       "1    To appear in Graphs and Combinatorics   \n",
       "2                      23 pages, 3 figures   \n",
       "3                                 11 pages   \n",
       "4                                     None   \n",
       "\n",
       "                                 journal-ref                         doi  \\\n",
       "0                   Phys.Rev.D76:013009,2007  10.1103/PhysRevD.76.013009   \n",
       "1                                       None                        None   \n",
       "2                                       None                        None   \n",
       "3                                       None                        None   \n",
       "4  Illinois J. Math. 52 (2008) no.2, 681-689                        None   \n",
       "\n",
       "          report-no       categories  \\\n",
       "0  ANL-HEP-PR-07-12           hep-ph   \n",
       "1              None    math.CO cs.CG   \n",
       "2              None   physics.gen-ph   \n",
       "3              None          math.CO   \n",
       "4              None  math.CA math.FA   \n",
       "\n",
       "                                             license  \\\n",
       "0                                               None   \n",
       "1  http://arxiv.org/licenses/nonexclusive-distrib...   \n",
       "2                                               None   \n",
       "3                                               None   \n",
       "4                                               None   \n",
       "\n",
       "                                            abstract  \\\n",
       "0    A fully differential calculation in perturba...   \n",
       "1    We describe a new algorithm, the $(k,\\ell)$-...   \n",
       "2    The evolution of Earth-Moon system is descri...   \n",
       "3    We show that a determinant of Stirling cycle...   \n",
       "4    In this paper we show how to compute the $\\L...   \n",
       "\n",
       "                                            versions update_date  \\\n",
       "0  [{'version': 'v1', 'created': 'Mon, 2 Apr 2007...  2008-11-26   \n",
       "1  [{'version': 'v1', 'created': 'Sat, 31 Mar 200...  2008-12-13   \n",
       "2  [{'version': 'v1', 'created': 'Sun, 1 Apr 2007...  2008-01-13   \n",
       "3  [{'version': 'v1', 'created': 'Sat, 31 Mar 200...  2007-05-23   \n",
       "4  [{'version': 'v1', 'created': 'Mon, 2 Apr 2007...  2013-10-15   \n",
       "\n",
       "                                      authors_parsed  \n",
       "0  [[Balázs, C., ], [Berger, E. L., ], [Nadolsky,...  \n",
       "1           [[Streinu, Ileana, ], [Theran, Louis, ]]  \n",
       "2                                 [[Pan, Hongjun, ]]  \n",
       "3                                [[Callan, David, ]]  \n",
       "4  [[Abu-Shammala, Wael, ], [Torchinsky, Alberto, ]]  "
      ]
     },
     "execution_count": 6,
     "metadata": {},
     "output_type": "execute_result"
    }
   ],
   "source": [
    "df.head()"
   ]
  },
  {
   "cell_type": "markdown",
   "id": "acc84ebf",
   "metadata": {
    "papermill": {
     "duration": 0.019929,
     "end_time": "2024-09-20T08:49:28.481744",
     "exception": false,
     "start_time": "2024-09-20T08:49:28.461815",
     "status": "completed"
    },
    "tags": []
   },
   "source": [
    "<a name=\"3.1\"></a>\n",
    "### 3.1 - Identify small set of papers which we authored\n",
    "\n",
    "We want to create a very small control dataset so we can see how well a LLM completes abstracts as it is being finetuned.\n",
    "\n",
    "We choose the id of the paper which appears as the $n$th entry in each of our inspires record (Sid not included as no hep-th papers)\n",
    "with $n = \\text{entry number of citeable papers} \\, // \\, 2$."
   ]
  },
  {
   "cell_type": "code",
   "execution_count": 7,
   "id": "85c73680",
   "metadata": {
    "execution": {
     "iopub.execute_input": "2024-09-20T08:49:28.522464Z",
     "iopub.status.busy": "2024-09-20T08:49:28.522000Z",
     "iopub.status.idle": "2024-09-20T08:49:29.117216Z",
     "shell.execute_reply": "2024-09-20T08:49:29.115881Z"
    },
    "papermill": {
     "duration": 0.619104,
     "end_time": "2024-09-20T08:49:29.120318",
     "exception": false,
     "start_time": "2024-09-20T08:49:28.501214",
     "status": "completed"
    },
    "tags": []
   },
   "outputs": [
    {
     "data": {
      "text/html": [
       "<div>\n",
       "<style scoped>\n",
       "    .dataframe tbody tr th:only-of-type {\n",
       "        vertical-align: middle;\n",
       "    }\n",
       "\n",
       "    .dataframe tbody tr th {\n",
       "        vertical-align: top;\n",
       "    }\n",
       "\n",
       "    .dataframe thead th {\n",
       "        text-align: right;\n",
       "    }\n",
       "</style>\n",
       "<table border=\"1\" class=\"dataframe\">\n",
       "  <thead>\n",
       "    <tr style=\"text-align: right;\">\n",
       "      <th></th>\n",
       "      <th>id</th>\n",
       "      <th>submitter</th>\n",
       "      <th>authors</th>\n",
       "      <th>title</th>\n",
       "      <th>comments</th>\n",
       "      <th>journal-ref</th>\n",
       "      <th>doi</th>\n",
       "      <th>report-no</th>\n",
       "      <th>categories</th>\n",
       "      <th>license</th>\n",
       "      <th>abstract</th>\n",
       "      <th>versions</th>\n",
       "      <th>update_date</th>\n",
       "      <th>authors_parsed</th>\n",
       "    </tr>\n",
       "  </thead>\n",
       "  <tbody>\n",
       "    <tr>\n",
       "      <th>341087</th>\n",
       "      <td>1205.2086</td>\n",
       "      <td>Vasilis Niarchos</td>\n",
       "      <td>Vasilis Niarchos</td>\n",
       "      <td>Seiberg dualities and the 3d/4d connection</td>\n",
       "      <td>harvmac, 17 pages</td>\n",
       "      <td>None</td>\n",
       "      <td>10.1007/JHEP07(2012)075</td>\n",
       "      <td>CCTP-2012-07</td>\n",
       "      <td>hep-th</td>\n",
       "      <td>http://arxiv.org/licenses/nonexclusive-distrib...</td>\n",
       "      <td>We discuss the degeneration limits of d=4 su...</td>\n",
       "      <td>[{'version': 'v1', 'created': 'Wed, 9 May 2012...</td>\n",
       "      <td>2015-06-05</td>\n",
       "      <td>[[Niarchos, Vasilis, ]]</td>\n",
       "    </tr>\n",
       "    <tr>\n",
       "      <th>373079</th>\n",
       "      <td>1209.5915</td>\n",
       "      <td>Michal P. Heller</td>\n",
       "      <td>Jan de Boer, Borun D. Chowdhury, Michal P. Hel...</td>\n",
       "      <td>Towards a holographic realization of the quark...</td>\n",
       "      <td>31 pages, 16 figures; v2: inset plot in Fig. 1...</td>\n",
       "      <td>Phys. Rev. D 87, 066009 (2013)</td>\n",
       "      <td>10.1103/PhysRevD.87.066009</td>\n",
       "      <td>None</td>\n",
       "      <td>hep-th hep-ph nucl-th</td>\n",
       "      <td>http://arxiv.org/licenses/nonexclusive-distrib...</td>\n",
       "      <td>Large-N_c QCD matter at intermediate baryon ...</td>\n",
       "      <td>[{'version': 'v1', 'created': 'Wed, 26 Sep 201...</td>\n",
       "      <td>2013-03-28</td>\n",
       "      <td>[[de Boer, Jan, ], [Chowdhury, Borun D., ], [H...</td>\n",
       "    </tr>\n",
       "    <tr>\n",
       "      <th>513069</th>\n",
       "      <td>1404.0016</td>\n",
       "      <td>Constantinos Papageorgakis</td>\n",
       "      <td>Constantinos Papageorgakis and Andrew B. Royston</td>\n",
       "      <td>Revisiting Soliton Contributions to Perturbati...</td>\n",
       "      <td>Latex, 25 pages; v2: Clarifications added and ...</td>\n",
       "      <td>None</td>\n",
       "      <td>10.1007/JHEP09(2014)128</td>\n",
       "      <td>RUNHETC-2014-03, QMUL-PH-14-06, MIFPA-14-09</td>\n",
       "      <td>hep-th</td>\n",
       "      <td>http://arxiv.org/licenses/nonexclusive-distrib...</td>\n",
       "      <td>It is often said that soliton contributions ...</td>\n",
       "      <td>[{'version': 'v1', 'created': 'Mon, 31 Mar 201...</td>\n",
       "      <td>2020-08-04</td>\n",
       "      <td>[[Papageorgakis, Constantinos, ], [Royston, An...</td>\n",
       "    </tr>\n",
       "    <tr>\n",
       "      <th>944808</th>\n",
       "      <td>1802.05268</td>\n",
       "      <td>Jaewon Song</td>\n",
       "      <td>Prarit Agarwal, Kazunobu Maruyoshi, Jaewon Song</td>\n",
       "      <td>A \"Lagrangian\" for the E7 Superconformal Theory</td>\n",
       "      <td>13 pages + appendices, v2: typos corrected</td>\n",
       "      <td>None</td>\n",
       "      <td>10.1007/JHEP05(2018)193</td>\n",
       "      <td>SNUTP18-001, KIAS-P18021</td>\n",
       "      <td>hep-th</td>\n",
       "      <td>http://arxiv.org/licenses/nonexclusive-distrib...</td>\n",
       "      <td>We find an N=1 gauge theory that flows to th...</td>\n",
       "      <td>[{'version': 'v1', 'created': 'Wed, 14 Feb 201...</td>\n",
       "      <td>2018-07-04</td>\n",
       "      <td>[[Agarwal, Prarit, ], [Maruyoshi, Kazunobu, ],...</td>\n",
       "    </tr>\n",
       "    <tr>\n",
       "      <th>970318</th>\n",
       "      <td>1804.08625</td>\n",
       "      <td>Pietro Benetti Genolini</td>\n",
       "      <td>Pietro Benetti Genolini, Paul Richmond, James ...</td>\n",
       "      <td>Gravitational free energy in topological AdS/CFT</td>\n",
       "      <td>46 pages; v2: corrected typos, updated references</td>\n",
       "      <td>JHEP 1809 (2018) 100</td>\n",
       "      <td>10.1007/JHEP09(2018)100</td>\n",
       "      <td>None</td>\n",
       "      <td>hep-th</td>\n",
       "      <td>http://arxiv.org/licenses/nonexclusive-distrib...</td>\n",
       "      <td>We define and study a holographic dual to th...</td>\n",
       "      <td>[{'version': 'v1', 'created': 'Mon, 23 Apr 201...</td>\n",
       "      <td>2018-09-21</td>\n",
       "      <td>[[Genolini, Pietro Benetti, ], [Richmond, Paul...</td>\n",
       "    </tr>\n",
       "  </tbody>\n",
       "</table>\n",
       "</div>"
      ],
      "text/plain": [
       "                id                   submitter  \\\n",
       "341087   1205.2086            Vasilis Niarchos   \n",
       "373079   1209.5915            Michal P. Heller   \n",
       "513069   1404.0016  Constantinos Papageorgakis   \n",
       "944808  1802.05268                 Jaewon Song   \n",
       "970318  1804.08625     Pietro Benetti Genolini   \n",
       "\n",
       "                                                  authors  \\\n",
       "341087                                   Vasilis Niarchos   \n",
       "373079  Jan de Boer, Borun D. Chowdhury, Michal P. Hel...   \n",
       "513069   Constantinos Papageorgakis and Andrew B. Royston   \n",
       "944808    Prarit Agarwal, Kazunobu Maruyoshi, Jaewon Song   \n",
       "970318  Pietro Benetti Genolini, Paul Richmond, James ...   \n",
       "\n",
       "                                                    title  \\\n",
       "341087         Seiberg dualities and the 3d/4d connection   \n",
       "373079  Towards a holographic realization of the quark...   \n",
       "513069  Revisiting Soliton Contributions to Perturbati...   \n",
       "944808    A \"Lagrangian\" for the E7 Superconformal Theory   \n",
       "970318   Gravitational free energy in topological AdS/CFT   \n",
       "\n",
       "                                                 comments  \\\n",
       "341087                                  harvmac, 17 pages   \n",
       "373079  31 pages, 16 figures; v2: inset plot in Fig. 1...   \n",
       "513069  Latex, 25 pages; v2: Clarifications added and ...   \n",
       "944808         13 pages + appendices, v2: typos corrected   \n",
       "970318  46 pages; v2: corrected typos, updated references   \n",
       "\n",
       "                           journal-ref                         doi  \\\n",
       "341087                            None     10.1007/JHEP07(2012)075   \n",
       "373079  Phys. Rev. D 87, 066009 (2013)  10.1103/PhysRevD.87.066009   \n",
       "513069                            None     10.1007/JHEP09(2014)128   \n",
       "944808                            None     10.1007/JHEP05(2018)193   \n",
       "970318            JHEP 1809 (2018) 100     10.1007/JHEP09(2018)100   \n",
       "\n",
       "                                          report-no             categories  \\\n",
       "341087                                 CCTP-2012-07                 hep-th   \n",
       "373079                                         None  hep-th hep-ph nucl-th   \n",
       "513069  RUNHETC-2014-03, QMUL-PH-14-06, MIFPA-14-09                 hep-th   \n",
       "944808                     SNUTP18-001, KIAS-P18021                 hep-th   \n",
       "970318                                         None                 hep-th   \n",
       "\n",
       "                                                  license  \\\n",
       "341087  http://arxiv.org/licenses/nonexclusive-distrib...   \n",
       "373079  http://arxiv.org/licenses/nonexclusive-distrib...   \n",
       "513069  http://arxiv.org/licenses/nonexclusive-distrib...   \n",
       "944808  http://arxiv.org/licenses/nonexclusive-distrib...   \n",
       "970318  http://arxiv.org/licenses/nonexclusive-distrib...   \n",
       "\n",
       "                                                 abstract  \\\n",
       "341087    We discuss the degeneration limits of d=4 su...   \n",
       "373079    Large-N_c QCD matter at intermediate baryon ...   \n",
       "513069    It is often said that soliton contributions ...   \n",
       "944808    We find an N=1 gauge theory that flows to th...   \n",
       "970318    We define and study a holographic dual to th...   \n",
       "\n",
       "                                                 versions update_date  \\\n",
       "341087  [{'version': 'v1', 'created': 'Wed, 9 May 2012...  2015-06-05   \n",
       "373079  [{'version': 'v1', 'created': 'Wed, 26 Sep 201...  2013-03-28   \n",
       "513069  [{'version': 'v1', 'created': 'Mon, 31 Mar 201...  2020-08-04   \n",
       "944808  [{'version': 'v1', 'created': 'Wed, 14 Feb 201...  2018-07-04   \n",
       "970318  [{'version': 'v1', 'created': 'Mon, 23 Apr 201...  2018-09-21   \n",
       "\n",
       "                                           authors_parsed  \n",
       "341087                            [[Niarchos, Vasilis, ]]  \n",
       "373079  [[de Boer, Jan, ], [Chowdhury, Borun D., ], [H...  \n",
       "513069  [[Papageorgakis, Constantinos, ], [Royston, An...  \n",
       "944808  [[Agarwal, Prarit, ], [Maruyoshi, Kazunobu, ],...  \n",
       "970318  [[Genolini, Pietro Benetti, ], [Richmond, Paul...  "
      ]
     },
     "execution_count": 7,
     "metadata": {},
     "output_type": "execute_result"
    }
   ],
   "source": [
    "ids = [\"1804.08625\", \"1404.0016\", \"1205.2086\", \"1209.5915\", \"1802.05268\"]\n",
    "df_overfit = df[df['id'].isin(ids)]\n",
    "df_overfit"
   ]
  },
  {
   "cell_type": "code",
   "execution_count": 8,
   "id": "e72bcc43",
   "metadata": {
    "execution": {
     "iopub.execute_input": "2024-09-20T08:49:29.163164Z",
     "iopub.status.busy": "2024-09-20T08:49:29.162739Z",
     "iopub.status.idle": "2024-09-20T08:49:30.824859Z",
     "shell.execute_reply": "2024-09-20T08:49:30.823613Z"
    },
    "papermill": {
     "duration": 1.687034,
     "end_time": "2024-09-20T08:49:30.827812",
     "exception": false,
     "start_time": "2024-09-20T08:49:29.140778",
     "status": "completed"
    },
    "tags": []
   },
   "outputs": [],
   "source": [
    "# remove our papers from main dataframe so we don't double count\n",
    "df = df[~df['id'].isin(ids)]"
   ]
  },
  {
   "cell_type": "markdown",
   "id": "3115bc58",
   "metadata": {
    "papermill": {
     "duration": 0.020169,
     "end_time": "2024-09-20T08:49:30.868292",
     "exception": false,
     "start_time": "2024-09-20T08:49:30.848123",
     "status": "completed"
    },
    "tags": []
   },
   "source": [
    "<a name=\"3.2\"></a>\n",
    "### 3.2 - Explore categories\n",
    "\n",
    "See https://arxiv.org/category_taxonomy for a desciption of the values which can appear.\n",
    "Each arXiv article has a primary category and may also have one or more cross-lists to other categories.\n",
    "\n",
    "Inspecting `df.head()` we see that `df.iloc[1]['categories'] = 'math.CO cs.CG'`. The *primary* classifcation is `math.CO` and it is also cross-listed to the `cs.BG` category."
   ]
  },
  {
   "cell_type": "code",
   "execution_count": 9,
   "id": "28aea2b8",
   "metadata": {
    "execution": {
     "iopub.execute_input": "2024-09-20T08:49:30.910077Z",
     "iopub.status.busy": "2024-09-20T08:49:30.908888Z",
     "iopub.status.idle": "2024-09-20T08:49:31.896440Z",
     "shell.execute_reply": "2024-09-20T08:49:31.895020Z"
    },
    "papermill": {
     "duration": 1.011261,
     "end_time": "2024-09-20T08:49:31.899196",
     "exception": false,
     "start_time": "2024-09-20T08:49:30.887935",
     "status": "completed"
    },
    "tags": []
   },
   "outputs": [
    {
     "data": {
      "text/plain": [
       "categories\n",
       "astro-ph                                                            86911\n",
       "hep-ph                                                              81611\n",
       "quant-ph                                                            70092\n",
       "cs.CV                                                               60946\n",
       "hep-th                                                              59147\n",
       "                                                                    ...  \n",
       "physics.hist-ph astro-ph.IM eess.SP                                     1\n",
       "physics.plasm-ph cond-mat.mtrl-sci cond-mat.soft physics.flu-dyn        1\n",
       "cs.NA cs.NE physics.comp-ph                                             1\n",
       "physics.soc-ph nucl-ex physics.ins-det                                  1\n",
       "supr-con cond-mat.supr-con quant-ph                                     1\n",
       "Name: count, Length: 84868, dtype: int64"
      ]
     },
     "execution_count": 9,
     "metadata": {},
     "output_type": "execute_result"
    }
   ],
   "source": [
    "# there are many combinations of primary and cross-list categories\n",
    "df['categories'].value_counts()"
   ]
  },
  {
   "cell_type": "code",
   "execution_count": 10,
   "id": "69a3eaeb",
   "metadata": {
    "execution": {
     "iopub.execute_input": "2024-09-20T08:49:31.941288Z",
     "iopub.status.busy": "2024-09-20T08:49:31.940883Z",
     "iopub.status.idle": "2024-09-20T08:49:46.339839Z",
     "shell.execute_reply": "2024-09-20T08:49:46.338713Z"
    },
    "papermill": {
     "duration": 14.423661,
     "end_time": "2024-09-20T08:49:46.342699",
     "exception": false,
     "start_time": "2024-09-20T08:49:31.919038",
     "status": "completed"
    },
    "tags": []
   },
   "outputs": [],
   "source": [
    "# split string appearing in `categories` on white space and expand\n",
    "# split_cats[0] is the *primary* classification\n",
    "split_cats = df['categories'].str.split(n=-1, expand=True)\n",
    "primary_cat = split_cats[0]"
   ]
  },
  {
   "cell_type": "code",
   "execution_count": 11,
   "id": "30d072d9",
   "metadata": {
    "execution": {
     "iopub.execute_input": "2024-09-20T08:49:46.384447Z",
     "iopub.status.busy": "2024-09-20T08:49:46.384014Z",
     "iopub.status.idle": "2024-09-20T08:49:47.805174Z",
     "shell.execute_reply": "2024-09-20T08:49:47.803927Z"
    },
    "papermill": {
     "duration": 1.445812,
     "end_time": "2024-09-20T08:49:47.808366",
     "exception": false,
     "start_time": "2024-09-20T08:49:46.362554",
     "status": "completed"
    },
    "tags": []
   },
   "outputs": [
    {
     "data": {
      "text/plain": [
       "[('hep-ph', 132678),\n",
       " ('quant-ph', 109916),\n",
       " ('hep-th', 105617),\n",
       " ('cs.CV', 99967),\n",
       " ('astro-ph', 94246),\n",
       " ('cs.LG', 87968),\n",
       " ('gr-qc', 63776),\n",
       " ('cond-mat.mes-hall', 63246),\n",
       " ('cond-mat.mtrl-sci', 60664),\n",
       " ('cs.CL', 51717),\n",
       " ('math.AP', 48821),\n",
       " ('cond-mat.str-el', 47924),\n",
       " ('astro-ph.GA', 46346),\n",
       " ('math.CO', 45184),\n",
       " ('astro-ph.SR', 43046),\n",
       " ('cond-mat.stat-mech', 40585),\n",
       " ('astro-ph.CO', 40024),\n",
       " ('astro-ph.HE', 39238),\n",
       " ('math.PR', 38798),\n",
       " ('math.AG', 35704),\n",
       " ('cs.IT', 35461),\n",
       " ('nucl-th', 33374),\n",
       " ('math.NT', 32267),\n",
       " ('math-ph', 31717),\n",
       " ('math.OC', 31480),\n",
       " ('cond-mat.supr-con', 31443),\n",
       " ('physics.optics', 29206),\n",
       " ('math.DG', 28872),\n",
       " ('math.NA', 28631),\n",
       " ('cond-mat.soft', 28076),\n",
       " ('cs.RO', 24310),\n",
       " ('hep-ex', 23111),\n",
       " ('math.DS', 22575),\n",
       " ('cs.CR', 22570),\n",
       " ('cs.AI', 22356),\n",
       " ('astro-ph.EP', 22309),\n",
       " ('math.FA', 19889),\n",
       " ('stat.ME', 19555),\n",
       " ('physics.flu-dyn', 19071),\n",
       " ('astro-ph.IM', 17963),\n",
       " ('hep-lat', 17952),\n",
       " ('stat.ML', 16779),\n",
       " ('eess.SP', 16132),\n",
       " ('cs.NI', 16004),\n",
       " ('math.GT', 15522),\n",
       " ('cs.DS', 15458),\n",
       " ('math.CA', 15097),\n",
       " ('math.RT', 15094),\n",
       " ('eess.IV', 14620),\n",
       " ('math.ST', 14576),\n",
       " ('physics.ins-det', 14211),\n",
       " ('math.GR', 14084),\n",
       " ('eess.SY', 13885),\n",
       " ('cond-mat.quant-gas', 13722),\n",
       " ('cs.SE', 13518),\n",
       " ('cs.DC', 13275),\n",
       " ('physics.soc-ph', 12438),\n",
       " ('physics.atom-ph', 12293),\n",
       " ('physics.chem-ph', 11672),\n",
       " ('nucl-ex', 11597),\n",
       " ('cond-mat.dis-nn', 11548),\n",
       " ('cond-mat', 11357),\n",
       " ('physics.plasm-ph', 11239),\n",
       " ('cs.HC', 11172),\n",
       " ('math.RA', 10794),\n",
       " ('cs.CY', 10565),\n",
       " ('math.CV', 10438),\n",
       " ('cs.LO', 10367),\n",
       " ('cs.IR', 10249),\n",
       " ('cs.SI', 10031),\n",
       " ('physics.app-ph', 9691),\n",
       " ('math.LO', 9637),\n",
       " ('stat.AP', 9101),\n",
       " ('physics.gen-ph', 9008),\n",
       " ('math.QA', 8918),\n",
       " ('math.AT', 8842),\n",
       " ('math.AC', 8387),\n",
       " ('math.OA', 8017),\n",
       " ('physics.comp-ph', 7755),\n",
       " ('cs.GT', 7460),\n",
       " ('q-bio.PE', 7181),\n",
       " ('cs.NE', 6757),\n",
       " ('cond-mat.other', 6735),\n",
       " ('nlin.CD', 6451),\n",
       " ('cs.SD', 6438),\n",
       " ('physics.bio-ph', 6273),\n",
       " ('eess.AS', 6175),\n",
       " ('physics.acc-ph', 6158),\n",
       " ('q-bio.NC', 6070),\n",
       " ('math.MG', 6055),\n",
       " ('cs.DB', 6033),\n",
       " ('nlin.SI', 5116),\n",
       " ('cs.SY', 5113),\n",
       " ('cs.CC', 5106),\n",
       " ('q-bio.QM', 4907),\n",
       " ('cs.PL', 4841),\n",
       " ('math.SG', 4786),\n",
       " ('physics.class-ph', 4755),\n",
       " ('physics.med-ph', 4672),\n",
       " ('math.SP', 4643),\n",
       " ('cs.DM', 4636),\n",
       " ('nlin.PS', 4317),\n",
       " ('cs.CG', 4215),\n",
       " ('math.CT', 4024),\n",
       " ('physics.geo-ph', 3865),\n",
       " ('cs.CE', 3835),\n",
       " ('math.GM', 3798),\n",
       " ('stat.CO', 3638),\n",
       " ('physics.ao-ph', 3617),\n",
       " ('cs.DL', 3404),\n",
       " ('physics.data-an', 3268),\n",
       " ('econ.GN', 3267),\n",
       " ('math.GN', 3234),\n",
       " ('physics.hist-ph', 3137),\n",
       " ('cs.AR', 3101),\n",
       " ('physics.ed-ph', 3085),\n",
       " ('q-bio.BM', 2916),\n",
       " ('math.HO', 2895),\n",
       " ('cs.FL', 2875),\n",
       " ('nlin.AO', 2710),\n",
       " ('cs.MA', 2636),\n",
       " ('econ.EM', 2532),\n",
       " ('cs.GR', 2503),\n",
       " ('math.KT', 2451),\n",
       " ('q-bio.MN', 2216),\n",
       " ('physics.space-ph', 2194),\n",
       " ('cs.MM', 2178),\n",
       " ('cs.ET', 2110),\n",
       " ('cs.OH', 2037),\n",
       " ('q-fin.ST', 1972),\n",
       " ('q-bio.GN', 1791),\n",
       " ('chao-dyn', 1770),\n",
       " ('econ.TH', 1700),\n",
       " ('q-fin.GN', 1536),\n",
       " ('q-fin.MF', 1522),\n",
       " ('physics.pop-ph', 1331),\n",
       " ('q-fin.RM', 1265),\n",
       " ('cs.SC', 1254),\n",
       " ('physics.atm-clus', 1221),\n",
       " ('q-fin.PR', 1210),\n",
       " ('alg-geom', 1209),\n",
       " ('q-fin.CP', 1209),\n",
       " ('q-alg', 1177),\n",
       " ('q-bio.TO', 1155),\n",
       " ('q-fin.PM', 1152),\n",
       " ('cs.PF', 1112),\n",
       " ('cs.NA', 1081),\n",
       " ('q-fin.TR', 1065),\n",
       " ('cs.MS', 1043),\n",
       " ('q-bio.CB', 955),\n",
       " ('cmp-lg', 894),\n",
       " ('q-bio.OT', 865),\n",
       " ('solv-int', 844),\n",
       " ('q-bio.SC', 667),\n",
       " ('stat.OT', 633),\n",
       " ('dg-ga', 562),\n",
       " ('nlin.CG', 523),\n",
       " ('cs.OS', 482),\n",
       " ('patt-sol', 452),\n",
       " ('q-fin.EC', 385),\n",
       " ('funct-an', 320),\n",
       " ('adap-org', 306),\n",
       " ('mtrl-th', 165),\n",
       " ('comp-gas', 140),\n",
       " ('chem-ph', 129),\n",
       " ('cs.GL', 113),\n",
       " ('supr-con', 69),\n",
       " ('atom-ph', 68),\n",
       " ('acc-phys', 46),\n",
       " ('plasm-ph', 28),\n",
       " ('ao-sci', 13),\n",
       " ('bayes-an', 11)]"
      ]
     },
     "execution_count": 11,
     "metadata": {},
     "output_type": "execute_result"
    }
   ],
   "source": [
    "# get a list of primary classifications and associated count\n",
    "# list is ordered in descending count  \n",
    "primary_cats_and_counts = list(zip(split_cats[0].value_counts().keys().tolist(), split_cats[0].value_counts().tolist()))\n",
    "primary_cats_and_counts"
   ]
  },
  {
   "cell_type": "markdown",
   "id": "b7db1ddc",
   "metadata": {
    "papermill": {
     "duration": 0.021017,
     "end_time": "2024-09-20T08:49:47.850118",
     "exception": false,
     "start_time": "2024-09-20T08:49:47.829101",
     "status": "completed"
    },
    "tags": []
   },
   "source": [
    "<a name=\"3.3\"></a>\n",
    "### 3.3 - Extract specific category/categories\n",
    "\n",
    "**NB:** The variables `wanted_categories` and `primary_classification_only` are defined in section [1.2](#1.2)"
   ]
  },
  {
   "cell_type": "code",
   "execution_count": 12,
   "id": "d110add3",
   "metadata": {
    "execution": {
     "iopub.execute_input": "2024-09-20T08:49:47.961584Z",
     "iopub.status.busy": "2024-09-20T08:49:47.960522Z",
     "iopub.status.idle": "2024-09-20T08:49:51.535202Z",
     "shell.execute_reply": "2024-09-20T08:49:51.534068Z"
    },
    "papermill": {
     "duration": 3.665798,
     "end_time": "2024-09-20T08:49:51.538040",
     "exception": false,
     "start_time": "2024-09-20T08:49:47.872242",
     "status": "completed"
    },
    "tags": []
   },
   "outputs": [],
   "source": [
    "if primary_classification_only:\n",
    "    # we get those papers whose *primary* classification is in `wanted_categories`\n",
    "    df = df[primary_cat.apply(lambda x: any(k in x for k in wanted_categories))]\n",
    "else:\n",
    "    # we get papers where `wanted_categories` appears anywhere in `categories` i.e. primary and also in cross-listing\n",
    "    df = df[df['categories'].apply(lambda x: any(k in x for k in wanted_categories))]"
   ]
  },
  {
   "cell_type": "code",
   "execution_count": 13,
   "id": "ba3ee76c",
   "metadata": {
    "execution": {
     "iopub.execute_input": "2024-09-20T08:49:51.580834Z",
     "iopub.status.busy": "2024-09-20T08:49:51.580398Z",
     "iopub.status.idle": "2024-09-20T08:49:51.587372Z",
     "shell.execute_reply": "2024-09-20T08:49:51.586233Z"
    },
    "papermill": {
     "duration": 0.031085,
     "end_time": "2024-09-20T08:49:51.589829",
     "exception": false,
     "start_time": "2024-09-20T08:49:51.558744",
     "status": "completed"
    },
    "tags": []
   },
   "outputs": [
    {
     "data": {
      "text/plain": [
       "(105617, 14)"
      ]
     },
     "execution_count": 13,
     "metadata": {},
     "output_type": "execute_result"
    }
   ],
   "source": [
    "df.shape"
   ]
  },
  {
   "cell_type": "markdown",
   "id": "71cfc02c",
   "metadata": {
    "papermill": {
     "duration": 0.019813,
     "end_time": "2024-09-20T08:49:51.630015",
     "exception": false,
     "start_time": "2024-09-20T08:49:51.610202",
     "status": "completed"
    },
    "tags": []
   },
   "source": [
    "<a name=\"3.4\"></a>\n",
    "### 3.4 - Remove papers that have been withdrawn\n",
    "\n",
    "See https://info.arxiv.org/help/withdraw.html"
   ]
  },
  {
   "cell_type": "code",
   "execution_count": 14,
   "id": "2b9a78ca",
   "metadata": {
    "execution": {
     "iopub.execute_input": "2024-09-20T08:49:51.675138Z",
     "iopub.status.busy": "2024-09-20T08:49:51.674723Z",
     "iopub.status.idle": "2024-09-20T08:49:51.886751Z",
     "shell.execute_reply": "2024-09-20T08:49:51.885547Z"
    },
    "papermill": {
     "duration": 0.238345,
     "end_time": "2024-09-20T08:49:51.889351",
     "exception": false,
     "start_time": "2024-09-20T08:49:51.651006",
     "status": "completed"
    },
    "tags": []
   },
   "outputs": [
    {
     "name": "stderr",
     "output_type": "stream",
     "text": [
      "/tmp/ipykernel_18/270111922.py:3: FutureWarning: Downcasting object dtype arrays on .fillna, .ffill, .bfill is deprecated and will change in a future version. Call result.infer_objects(copy=False) instead. To opt-in to the future behavior, set `pd.set_option('future.no_silent_downcasting', True)`\n",
      "  withdrawn.fillna(value=False, inplace=True) # replace None with False\n"
     ]
    },
    {
     "data": {
      "text/plain": [
       "comments\n",
       "False    105399\n",
       "True        218\n",
       "Name: count, dtype: int64"
      ]
     },
     "execution_count": 14,
     "metadata": {},
     "output_type": "execute_result"
    }
   ],
   "source": [
    "# make an index of comments which contain either 'Withdrawn' or 'withdrawn'\n",
    "withdrawn = df['comments'].str.contains('Withdrawn', case=False) # empty comments return None\n",
    "withdrawn.fillna(value=False, inplace=True) # replace None with False\n",
    "withdrawn.value_counts()"
   ]
  },
  {
   "cell_type": "code",
   "execution_count": 15,
   "id": "b83ed310",
   "metadata": {
    "execution": {
     "iopub.execute_input": "2024-09-20T08:49:51.933182Z",
     "iopub.status.busy": "2024-09-20T08:49:51.932776Z",
     "iopub.status.idle": "2024-09-20T08:49:52.210036Z",
     "shell.execute_reply": "2024-09-20T08:49:52.208866Z"
    },
    "papermill": {
     "duration": 0.30246,
     "end_time": "2024-09-20T08:49:52.212715",
     "exception": false,
     "start_time": "2024-09-20T08:49:51.910255",
     "status": "completed"
    },
    "tags": []
   },
   "outputs": [
    {
     "data": {
      "text/plain": [
       "abstract\n",
       "False    105496\n",
       "True        121\n",
       "Name: count, dtype: int64"
      ]
     },
     "execution_count": 15,
     "metadata": {},
     "output_type": "execute_result"
    }
   ],
   "source": [
    "# sanity check but takes a while\n",
    "# make an index of abstracts which contain either 'Withdrawn' or 'withdrawn'\n",
    "# this way is quicker than using contains('withdrawn', case=False)\n",
    "withdrawn_abs = df['abstract'].str.contains('Withdrawn') | df['abstract'].str.contains('withdrawn') #| df['abstract'].str.contains('removed') \n",
    "withdrawn_abs.value_counts()"
   ]
  },
  {
   "cell_type": "code",
   "execution_count": 16,
   "id": "fa79008e",
   "metadata": {
    "execution": {
     "iopub.execute_input": "2024-09-20T08:49:52.256369Z",
     "iopub.status.busy": "2024-09-20T08:49:52.255973Z",
     "iopub.status.idle": "2024-09-20T08:49:52.315775Z",
     "shell.execute_reply": "2024-09-20T08:49:52.314608Z"
    },
    "papermill": {
     "duration": 0.084885,
     "end_time": "2024-09-20T08:49:52.318831",
     "exception": false,
     "start_time": "2024-09-20T08:49:52.233946",
     "status": "completed"
    },
    "tags": []
   },
   "outputs": [
    {
     "data": {
      "text/html": [
       "<div>\n",
       "<style scoped>\n",
       "    .dataframe tbody tr th:only-of-type {\n",
       "        vertical-align: middle;\n",
       "    }\n",
       "\n",
       "    .dataframe tbody tr th {\n",
       "        vertical-align: top;\n",
       "    }\n",
       "\n",
       "    .dataframe thead th {\n",
       "        text-align: right;\n",
       "    }\n",
       "</style>\n",
       "<table border=\"1\" class=\"dataframe\">\n",
       "  <thead>\n",
       "    <tr style=\"text-align: right;\">\n",
       "      <th></th>\n",
       "      <th>id</th>\n",
       "      <th>submitter</th>\n",
       "      <th>authors</th>\n",
       "      <th>title</th>\n",
       "      <th>comments</th>\n",
       "      <th>journal-ref</th>\n",
       "      <th>doi</th>\n",
       "      <th>report-no</th>\n",
       "      <th>categories</th>\n",
       "      <th>license</th>\n",
       "      <th>abstract</th>\n",
       "      <th>versions</th>\n",
       "      <th>update_date</th>\n",
       "      <th>authors_parsed</th>\n",
       "    </tr>\n",
       "  </thead>\n",
       "  <tbody>\n",
       "    <tr>\n",
       "      <th>71809</th>\n",
       "      <td>0807.0816</td>\n",
       "      <td>Patricio Gaete</td>\n",
       "      <td>Patricio Gaete and Iv\\'an Schmidt</td>\n",
       "      <td>Confinement effects from massive photons</td>\n",
       "      <td>4 pages</td>\n",
       "      <td>None</td>\n",
       "      <td>None</td>\n",
       "      <td>USM-TH-235</td>\n",
       "      <td>hep-th</td>\n",
       "      <td>http://arxiv.org/licenses/nonexclusive-distrib...</td>\n",
       "      <td>This paper has been withdrawn by the author ...</td>\n",
       "      <td>[{'version': 'v1', 'created': 'Fri, 4 Jul 2008...</td>\n",
       "      <td>2010-04-12</td>\n",
       "      <td>[[Gaete, Patricio, ], [Schmidt, Iván, ]]</td>\n",
       "    </tr>\n",
       "    <tr>\n",
       "      <th>2381575</th>\n",
       "      <td>hep-th/0001079</td>\n",
       "      <td>Valerie Nowak</td>\n",
       "      <td>Stephen L. Adler</td>\n",
       "      <td>Lifshitz Phase Gauge Symmetry Breaking and App...</td>\n",
       "      <td>Withdrawal</td>\n",
       "      <td>None</td>\n",
       "      <td>None</td>\n",
       "      <td>IASSNS-HEP-00/04</td>\n",
       "      <td>hep-th</td>\n",
       "      <td>None</td>\n",
       "      <td>This paper has been withdrawn, because the a...</td>\n",
       "      <td>[{'version': 'v1', 'created': 'Wed, 12 Jan 200...</td>\n",
       "      <td>2007-05-23</td>\n",
       "      <td>[[Adler, Stephen L., ]]</td>\n",
       "    </tr>\n",
       "    <tr>\n",
       "      <th>2383274</th>\n",
       "      <td>hep-th/0007251</td>\n",
       "      <td>Klaus Kirsten</td>\n",
       "      <td>Klaus Kirsten</td>\n",
       "      <td>Spectral functions in mathematics and physics</td>\n",
       "      <td>225 pages, LaTeX</td>\n",
       "      <td>None</td>\n",
       "      <td>None</td>\n",
       "      <td>Habilitationsschrift May 1999, Universitaet Le...</td>\n",
       "      <td>hep-th</td>\n",
       "      <td>None</td>\n",
       "      <td>This manuscript has been withdrawn by the au...</td>\n",
       "      <td>[{'version': 'v1', 'created': 'Mon, 31 Jul 200...</td>\n",
       "      <td>2007-05-23</td>\n",
       "      <td>[[Kirsten, Klaus, ]]</td>\n",
       "    </tr>\n",
       "    <tr>\n",
       "      <th>2386358</th>\n",
       "      <td>hep-th/0107129</td>\n",
       "      <td>Chehyon Shio</td>\n",
       "      <td>C. Shio</td>\n",
       "      <td>Polarization Effects on Fermion Mass</td>\n",
       "      <td>Withdrawing this paper due to crucial errors i...</td>\n",
       "      <td>None</td>\n",
       "      <td>None</td>\n",
       "      <td>HLP-703</td>\n",
       "      <td>hep-th</td>\n",
       "      <td>None</td>\n",
       "      <td>Due to unsuitable attempt to connect the bas...</td>\n",
       "      <td>[{'version': 'v1', 'created': 'Sun, 15 Jul 200...</td>\n",
       "      <td>2007-05-23</td>\n",
       "      <td>[[Shio, C., ]]</td>\n",
       "    </tr>\n",
       "    <tr>\n",
       "      <th>2387437</th>\n",
       "      <td>hep-th/0111170</td>\n",
       "      <td>Tom Banks</td>\n",
       "      <td>T. Banks, W. Fischler</td>\n",
       "      <td>Black Crunch</td>\n",
       "      <td>JHEP LaTeX, 9 pages</td>\n",
       "      <td>None</td>\n",
       "      <td>None</td>\n",
       "      <td>RUNHETC-2001-33, SCIPP-01/25, UTTG-20-01</td>\n",
       "      <td>hep-th</td>\n",
       "      <td>None</td>\n",
       "      <td>This paper has been withdrawn.\\n</td>\n",
       "      <td>[{'version': 'v1', 'created': 'Tue, 20 Nov 200...</td>\n",
       "      <td>2007-05-23</td>\n",
       "      <td>[[Banks, T., ], [Fischler, W., ]]</td>\n",
       "    </tr>\n",
       "    <tr>\n",
       "      <th>2387481</th>\n",
       "      <td>hep-th/0111214</td>\n",
       "      <td>Antonio F. Ranada</td>\n",
       "      <td>Antonio F. Ranada (Universidad Complutense, Ma...</td>\n",
       "      <td>A topological formulation of the Planck-Einste...</td>\n",
       "      <td>18 pages, no figures Reason of replacement: th...</td>\n",
       "      <td>None</td>\n",
       "      <td>None</td>\n",
       "      <td>None</td>\n",
       "      <td>hep-th quant-ph</td>\n",
       "      <td>None</td>\n",
       "      <td>The paper has been withdrawn\\n</td>\n",
       "      <td>[{'version': 'v1', 'created': 'Fri, 23 Nov 200...</td>\n",
       "      <td>2007-05-23</td>\n",
       "      <td>[[Ranada, Antonio F., , Universidad Complutens...</td>\n",
       "    </tr>\n",
       "    <tr>\n",
       "      <th>2387683</th>\n",
       "      <td>hep-th/0112124</td>\n",
       "      <td>Tomohiko Takahashi</td>\n",
       "      <td>Tomohiko Takahashi, Seriko Tanimoto</td>\n",
       "      <td>Dilaton Condensation in Cubic Open String Fiel...</td>\n",
       "      <td>None</td>\n",
       "      <td>None</td>\n",
       "      <td>None</td>\n",
       "      <td>None</td>\n",
       "      <td>hep-th</td>\n",
       "      <td>None</td>\n",
       "      <td>This paper has been withdrawn by the authors...</td>\n",
       "      <td>[{'version': 'v1', 'created': 'Fri, 14 Dec 200...</td>\n",
       "      <td>2007-05-23</td>\n",
       "      <td>[[Takahashi, Tomohiko, ], [Tanimoto, Seriko, ]]</td>\n",
       "    </tr>\n",
       "    <tr>\n",
       "      <th>2390224</th>\n",
       "      <td>hep-th/0210021</td>\n",
       "      <td>Nejat Tevfik Yilmaz</td>\n",
       "      <td>N.T.Yilmaz</td>\n",
       "      <td>The Projection Conditions and Discrete Torsion...</td>\n",
       "      <td>12 pages</td>\n",
       "      <td>None</td>\n",
       "      <td>None</td>\n",
       "      <td>None</td>\n",
       "      <td>hep-th</td>\n",
       "      <td>None</td>\n",
       "      <td>This work has been withdrawn.\\n</td>\n",
       "      <td>[{'version': 'v1', 'created': 'Thu, 3 Oct 2002...</td>\n",
       "      <td>2007-05-23</td>\n",
       "      <td>[[Yilmaz, N. T., ]]</td>\n",
       "    </tr>\n",
       "    <tr>\n",
       "      <th>2390771</th>\n",
       "      <td>hep-th/0211255</td>\n",
       "      <td>Sviatoslav Solganik</td>\n",
       "      <td>S. Solganik</td>\n",
       "      <td>Rolling Tachyon and Fields on the Brane</td>\n",
       "      <td>None</td>\n",
       "      <td>None</td>\n",
       "      <td>None</td>\n",
       "      <td>None</td>\n",
       "      <td>hep-th</td>\n",
       "      <td>None</td>\n",
       "      <td>This paper has been withdrawn by the author.\\n</td>\n",
       "      <td>[{'version': 'v1', 'created': 'Tue, 26 Nov 200...</td>\n",
       "      <td>2007-05-23</td>\n",
       "      <td>[[Solganik, S., ]]</td>\n",
       "    </tr>\n",
       "    <tr>\n",
       "      <th>2396911</th>\n",
       "      <td>hep-th/0410036</td>\n",
       "      <td>Kelly Davis</td>\n",
       "      <td>Kelly C. Davis</td>\n",
       "      <td>Holography and Quantum Gravity in 3+1 Dimensions</td>\n",
       "      <td>71 pages and 4 figures. Uses JHEP style, xy-pi...</td>\n",
       "      <td>None</td>\n",
       "      <td>None</td>\n",
       "      <td>AEI-2004-076</td>\n",
       "      <td>hep-th gr-qc</td>\n",
       "      <td>None</td>\n",
       "      <td>This paper has been withdrawn by the author,...</td>\n",
       "      <td>[{'version': 'v1', 'created': 'Tue, 5 Oct 2004...</td>\n",
       "      <td>2007-05-23</td>\n",
       "      <td>[[Davis, Kelly C., ]]</td>\n",
       "    </tr>\n",
       "    <tr>\n",
       "      <th>2399175</th>\n",
       "      <td>hep-th/0506125</td>\n",
       "      <td>Pedro Castelo Ferreira</td>\n",
       "      <td>P. Castelo Ferreira, P. Vargas Moniz</td>\n",
       "      <td>Stabilization of Compactification Radius by Bu...</td>\n",
       "      <td>Withdraw: see abstract. New version in prepara...</td>\n",
       "      <td>None</td>\n",
       "      <td>None</td>\n",
       "      <td>None</td>\n",
       "      <td>hep-th gr-qc</td>\n",
       "      <td>None</td>\n",
       "      <td>This paper has been withdrawn by the authors...</td>\n",
       "      <td>[{'version': 'v1', 'created': 'Wed, 15 Jun 200...</td>\n",
       "      <td>2007-05-23</td>\n",
       "      <td>[[Ferreira, P. Castelo, ], [Moniz, P. Vargas, ]]</td>\n",
       "    </tr>\n",
       "    <tr>\n",
       "      <th>2399571</th>\n",
       "      <td>hep-th/0507254</td>\n",
       "      <td>Michael Volkov</td>\n",
       "      <td>Mikhail Volkov, Sebastien Reuillon, Peter Forgacs</td>\n",
       "      <td>Superconducting Semilocal Strings</td>\n",
       "      <td>None</td>\n",
       "      <td>None</td>\n",
       "      <td>None</td>\n",
       "      <td>None</td>\n",
       "      <td>hep-th</td>\n",
       "      <td>None</td>\n",
       "      <td>This paper has been withdrawn\\n</td>\n",
       "      <td>[{'version': 'v1', 'created': 'Tue, 26 Jul 200...</td>\n",
       "      <td>2007-05-23</td>\n",
       "      <td>[[Volkov, Mikhail, ], [Reuillon, Sebastien, ],...</td>\n",
       "    </tr>\n",
       "    <tr>\n",
       "      <th>2420674</th>\n",
       "      <td>hep-th/9808065</td>\n",
       "      <td>Bernard Piette</td>\n",
       "      <td>T. Ioannidou, B. Piette and W.J. Zakrzewski</td>\n",
       "      <td>Low Energy Configurations in the SU(N) Skyrme ...</td>\n",
       "      <td>ascii : withdrawing the paper</td>\n",
       "      <td>None</td>\n",
       "      <td>None</td>\n",
       "      <td>DTP-98/33</td>\n",
       "      <td>hep-th</td>\n",
       "      <td>None</td>\n",
       "      <td>Due to a computational mistake this paper ha...</td>\n",
       "      <td>[{'version': 'v1', 'created': 'Wed, 12 Aug 199...</td>\n",
       "      <td>2007-05-23</td>\n",
       "      <td>[[Ioannidou, T., ], [Piette, B., ], [Zakrzewsk...</td>\n",
       "    </tr>\n",
       "    <tr>\n",
       "      <th>2420675</th>\n",
       "      <td>hep-th/9808066</td>\n",
       "      <td>Bernard Piette</td>\n",
       "      <td>T. Ioannidou, B. Piette and W.J. Zakrzewski</td>\n",
       "      <td>Low Energy Baryons in the SU(3) Skyrme Model</td>\n",
       "      <td>ascii : withdrawing the paper</td>\n",
       "      <td>None</td>\n",
       "      <td>None</td>\n",
       "      <td>DTP-98/53</td>\n",
       "      <td>hep-th</td>\n",
       "      <td>None</td>\n",
       "      <td>Due to a computational mistake this paper ha...</td>\n",
       "      <td>[{'version': 'v1', 'created': 'Wed, 12 Aug 199...</td>\n",
       "      <td>2007-05-23</td>\n",
       "      <td>[[Ioannidou, T., ], [Piette, B., ], [Zakrzewsk...</td>\n",
       "    </tr>\n",
       "    <tr>\n",
       "      <th>2422572</th>\n",
       "      <td>hep-th/9904138</td>\n",
       "      <td>None</td>\n",
       "      <td>C.D. Fosco and J.C. Le Guillou</td>\n",
       "      <td>On the Radiatively Induced CPT-Odd Term in QED</td>\n",
       "      <td>withdrawal notice</td>\n",
       "      <td>None</td>\n",
       "      <td>None</td>\n",
       "      <td>LAPTH-731</td>\n",
       "      <td>hep-th</td>\n",
       "      <td>None</td>\n",
       "      <td>The paper has been temporarily withdrawn.\\n</td>\n",
       "      <td>[{'version': 'v1', 'created': 'Tue, 20 Apr 199...</td>\n",
       "      <td>2007-05-23</td>\n",
       "      <td>[[Fosco, C. D., ], [Guillou, J. C. Le, ]]</td>\n",
       "    </tr>\n",
       "  </tbody>\n",
       "</table>\n",
       "</div>"
      ],
      "text/plain": [
       "                     id               submitter  \\\n",
       "71809         0807.0816          Patricio Gaete   \n",
       "2381575  hep-th/0001079           Valerie Nowak   \n",
       "2383274  hep-th/0007251           Klaus Kirsten   \n",
       "2386358  hep-th/0107129            Chehyon Shio   \n",
       "2387437  hep-th/0111170               Tom Banks   \n",
       "2387481  hep-th/0111214       Antonio F. Ranada   \n",
       "2387683  hep-th/0112124      Tomohiko Takahashi   \n",
       "2390224  hep-th/0210021     Nejat Tevfik Yilmaz   \n",
       "2390771  hep-th/0211255     Sviatoslav Solganik   \n",
       "2396911  hep-th/0410036             Kelly Davis   \n",
       "2399175  hep-th/0506125  Pedro Castelo Ferreira   \n",
       "2399571  hep-th/0507254          Michael Volkov   \n",
       "2420674  hep-th/9808065          Bernard Piette   \n",
       "2420675  hep-th/9808066          Bernard Piette   \n",
       "2422572  hep-th/9904138                    None   \n",
       "\n",
       "                                                   authors  \\\n",
       "71809                    Patricio Gaete and Iv\\'an Schmidt   \n",
       "2381575                                   Stephen L. Adler   \n",
       "2383274                                      Klaus Kirsten   \n",
       "2386358                                            C. Shio   \n",
       "2387437                              T. Banks, W. Fischler   \n",
       "2387481  Antonio F. Ranada (Universidad Complutense, Ma...   \n",
       "2387683                Tomohiko Takahashi, Seriko Tanimoto   \n",
       "2390224                                         N.T.Yilmaz   \n",
       "2390771                                        S. Solganik   \n",
       "2396911                                     Kelly C. Davis   \n",
       "2399175               P. Castelo Ferreira, P. Vargas Moniz   \n",
       "2399571  Mikhail Volkov, Sebastien Reuillon, Peter Forgacs   \n",
       "2420674        T. Ioannidou, B. Piette and W.J. Zakrzewski   \n",
       "2420675        T. Ioannidou, B. Piette and W.J. Zakrzewski   \n",
       "2422572                     C.D. Fosco and J.C. Le Guillou   \n",
       "\n",
       "                                                     title  \\\n",
       "71809             Confinement effects from massive photons   \n",
       "2381575  Lifshitz Phase Gauge Symmetry Breaking and App...   \n",
       "2383274      Spectral functions in mathematics and physics   \n",
       "2386358               Polarization Effects on Fermion Mass   \n",
       "2387437                                       Black Crunch   \n",
       "2387481  A topological formulation of the Planck-Einste...   \n",
       "2387683  Dilaton Condensation in Cubic Open String Fiel...   \n",
       "2390224  The Projection Conditions and Discrete Torsion...   \n",
       "2390771            Rolling Tachyon and Fields on the Brane   \n",
       "2396911   Holography and Quantum Gravity in 3+1 Dimensions   \n",
       "2399175  Stabilization of Compactification Radius by Bu...   \n",
       "2399571                  Superconducting Semilocal Strings   \n",
       "2420674  Low Energy Configurations in the SU(N) Skyrme ...   \n",
       "2420675       Low Energy Baryons in the SU(3) Skyrme Model   \n",
       "2422572     On the Radiatively Induced CPT-Odd Term in QED   \n",
       "\n",
       "                                                  comments journal-ref   doi  \\\n",
       "71809                                              4 pages        None  None   \n",
       "2381575                                         Withdrawal        None  None   \n",
       "2383274                                   225 pages, LaTeX        None  None   \n",
       "2386358  Withdrawing this paper due to crucial errors i...        None  None   \n",
       "2387437                                JHEP LaTeX, 9 pages        None  None   \n",
       "2387481  18 pages, no figures Reason of replacement: th...        None  None   \n",
       "2387683                                               None        None  None   \n",
       "2390224                                           12 pages        None  None   \n",
       "2390771                                               None        None  None   \n",
       "2396911  71 pages and 4 figures. Uses JHEP style, xy-pi...        None  None   \n",
       "2399175  Withdraw: see abstract. New version in prepara...        None  None   \n",
       "2399571                                               None        None  None   \n",
       "2420674                      ascii : withdrawing the paper        None  None   \n",
       "2420675                      ascii : withdrawing the paper        None  None   \n",
       "2422572                                  withdrawal notice        None  None   \n",
       "\n",
       "                                                 report-no       categories  \\\n",
       "71809                                           USM-TH-235           hep-th   \n",
       "2381575                                   IASSNS-HEP-00/04           hep-th   \n",
       "2383274  Habilitationsschrift May 1999, Universitaet Le...           hep-th   \n",
       "2386358                                            HLP-703           hep-th   \n",
       "2387437           RUNHETC-2001-33, SCIPP-01/25, UTTG-20-01           hep-th   \n",
       "2387481                                               None  hep-th quant-ph   \n",
       "2387683                                               None           hep-th   \n",
       "2390224                                               None           hep-th   \n",
       "2390771                                               None           hep-th   \n",
       "2396911                                       AEI-2004-076     hep-th gr-qc   \n",
       "2399175                                               None     hep-th gr-qc   \n",
       "2399571                                               None           hep-th   \n",
       "2420674                                          DTP-98/33           hep-th   \n",
       "2420675                                          DTP-98/53           hep-th   \n",
       "2422572                                          LAPTH-731           hep-th   \n",
       "\n",
       "                                                   license  \\\n",
       "71809    http://arxiv.org/licenses/nonexclusive-distrib...   \n",
       "2381575                                               None   \n",
       "2383274                                               None   \n",
       "2386358                                               None   \n",
       "2387437                                               None   \n",
       "2387481                                               None   \n",
       "2387683                                               None   \n",
       "2390224                                               None   \n",
       "2390771                                               None   \n",
       "2396911                                               None   \n",
       "2399175                                               None   \n",
       "2399571                                               None   \n",
       "2420674                                               None   \n",
       "2420675                                               None   \n",
       "2422572                                               None   \n",
       "\n",
       "                                                  abstract  \\\n",
       "71809      This paper has been withdrawn by the author ...   \n",
       "2381575    This paper has been withdrawn, because the a...   \n",
       "2383274    This manuscript has been withdrawn by the au...   \n",
       "2386358    Due to unsuitable attempt to connect the bas...   \n",
       "2387437                   This paper has been withdrawn.\\n   \n",
       "2387481                     The paper has been withdrawn\\n   \n",
       "2387683    This paper has been withdrawn by the authors...   \n",
       "2390224                    This work has been withdrawn.\\n   \n",
       "2390771     This paper has been withdrawn by the author.\\n   \n",
       "2396911    This paper has been withdrawn by the author,...   \n",
       "2399175    This paper has been withdrawn by the authors...   \n",
       "2399571                    This paper has been withdrawn\\n   \n",
       "2420674    Due to a computational mistake this paper ha...   \n",
       "2420675    Due to a computational mistake this paper ha...   \n",
       "2422572        The paper has been temporarily withdrawn.\\n   \n",
       "\n",
       "                                                  versions update_date  \\\n",
       "71809    [{'version': 'v1', 'created': 'Fri, 4 Jul 2008...  2010-04-12   \n",
       "2381575  [{'version': 'v1', 'created': 'Wed, 12 Jan 200...  2007-05-23   \n",
       "2383274  [{'version': 'v1', 'created': 'Mon, 31 Jul 200...  2007-05-23   \n",
       "2386358  [{'version': 'v1', 'created': 'Sun, 15 Jul 200...  2007-05-23   \n",
       "2387437  [{'version': 'v1', 'created': 'Tue, 20 Nov 200...  2007-05-23   \n",
       "2387481  [{'version': 'v1', 'created': 'Fri, 23 Nov 200...  2007-05-23   \n",
       "2387683  [{'version': 'v1', 'created': 'Fri, 14 Dec 200...  2007-05-23   \n",
       "2390224  [{'version': 'v1', 'created': 'Thu, 3 Oct 2002...  2007-05-23   \n",
       "2390771  [{'version': 'v1', 'created': 'Tue, 26 Nov 200...  2007-05-23   \n",
       "2396911  [{'version': 'v1', 'created': 'Tue, 5 Oct 2004...  2007-05-23   \n",
       "2399175  [{'version': 'v1', 'created': 'Wed, 15 Jun 200...  2007-05-23   \n",
       "2399571  [{'version': 'v1', 'created': 'Tue, 26 Jul 200...  2007-05-23   \n",
       "2420674  [{'version': 'v1', 'created': 'Wed, 12 Aug 199...  2007-05-23   \n",
       "2420675  [{'version': 'v1', 'created': 'Wed, 12 Aug 199...  2007-05-23   \n",
       "2422572  [{'version': 'v1', 'created': 'Tue, 20 Apr 199...  2007-05-23   \n",
       "\n",
       "                                            authors_parsed  \n",
       "71809             [[Gaete, Patricio, ], [Schmidt, Iván, ]]  \n",
       "2381575                            [[Adler, Stephen L., ]]  \n",
       "2383274                               [[Kirsten, Klaus, ]]  \n",
       "2386358                                     [[Shio, C., ]]  \n",
       "2387437                  [[Banks, T., ], [Fischler, W., ]]  \n",
       "2387481  [[Ranada, Antonio F., , Universidad Complutens...  \n",
       "2387683    [[Takahashi, Tomohiko, ], [Tanimoto, Seriko, ]]  \n",
       "2390224                                [[Yilmaz, N. T., ]]  \n",
       "2390771                                 [[Solganik, S., ]]  \n",
       "2396911                              [[Davis, Kelly C., ]]  \n",
       "2399175   [[Ferreira, P. Castelo, ], [Moniz, P. Vargas, ]]  \n",
       "2399571  [[Volkov, Mikhail, ], [Reuillon, Sebastien, ],...  \n",
       "2420674  [[Ioannidou, T., ], [Piette, B., ], [Zakrzewsk...  \n",
       "2420675  [[Ioannidou, T., ], [Piette, B., ], [Zakrzewsk...  \n",
       "2422572          [[Fosco, C. D., ], [Guillou, J. C. Le, ]]  "
      ]
     },
     "execution_count": 16,
     "metadata": {},
     "output_type": "execute_result"
    }
   ],
   "source": [
    "# look at entries with `withdrawn` in abstract but not in comments\n",
    "df[~withdrawn & withdrawn_abs]"
   ]
  },
  {
   "cell_type": "code",
   "execution_count": 17,
   "id": "67b6447f",
   "metadata": {
    "execution": {
     "iopub.execute_input": "2024-09-20T08:49:52.364418Z",
     "iopub.status.busy": "2024-09-20T08:49:52.364017Z",
     "iopub.status.idle": "2024-09-20T08:49:52.441698Z",
     "shell.execute_reply": "2024-09-20T08:49:52.440566Z"
    },
    "papermill": {
     "duration": 0.103876,
     "end_time": "2024-09-20T08:49:52.444476",
     "exception": false,
     "start_time": "2024-09-20T08:49:52.340600",
     "status": "completed"
    },
    "tags": []
   },
   "outputs": [
    {
     "data": {
      "text/plain": [
       "(105384, 14)"
      ]
     },
     "execution_count": 17,
     "metadata": {},
     "output_type": "execute_result"
    }
   ],
   "source": [
    "# drop the withdrawn papers\n",
    "df = df[~(withdrawn | withdrawn_abs)]\n",
    "df.shape"
   ]
  },
  {
   "cell_type": "markdown",
   "id": "67dacc0d",
   "metadata": {
    "papermill": {
     "duration": 0.022147,
     "end_time": "2024-09-20T08:49:52.488626",
     "exception": false,
     "start_time": "2024-09-20T08:49:52.466479",
     "status": "completed"
    },
    "tags": []
   },
   "source": [
    "<a name=\"4\"></a>\n",
    "## 4 - Look at the abstracts"
   ]
  },
  {
   "cell_type": "markdown",
   "id": "f1ffebe2",
   "metadata": {
    "papermill": {
     "duration": 0.021725,
     "end_time": "2024-09-20T08:49:52.532406",
     "exception": false,
     "start_time": "2024-09-20T08:49:52.510681",
     "status": "completed"
    },
    "tags": []
   },
   "source": [
    "<a name=\"4.1\"></a>\n",
    "### 4.1 - Length of abstracts"
   ]
  },
  {
   "cell_type": "code",
   "execution_count": 18,
   "id": "d8018a20",
   "metadata": {
    "execution": {
     "iopub.execute_input": "2024-09-20T08:49:52.577888Z",
     "iopub.status.busy": "2024-09-20T08:49:52.577073Z",
     "iopub.status.idle": "2024-09-20T08:49:52.582549Z",
     "shell.execute_reply": "2024-09-20T08:49:52.581290Z"
    },
    "papermill": {
     "duration": 0.030857,
     "end_time": "2024-09-20T08:49:52.585013",
     "exception": false,
     "start_time": "2024-09-20T08:49:52.554156",
     "status": "completed"
    },
    "tags": []
   },
   "outputs": [],
   "source": [
    "df.reset_index(drop=True, inplace=True)"
   ]
  },
  {
   "cell_type": "code",
   "execution_count": 19,
   "id": "8dbf575b",
   "metadata": {
    "execution": {
     "iopub.execute_input": "2024-09-20T08:49:52.631162Z",
     "iopub.status.busy": "2024-09-20T08:49:52.630769Z",
     "iopub.status.idle": "2024-09-20T08:49:52.748865Z",
     "shell.execute_reply": "2024-09-20T08:49:52.747723Z"
    },
    "papermill": {
     "duration": 0.144472,
     "end_time": "2024-09-20T08:49:52.751759",
     "exception": false,
     "start_time": "2024-09-20T08:49:52.607287",
     "status": "completed"
    },
    "tags": []
   },
   "outputs": [
    {
     "data": {
      "text/plain": [
       "count    105384.000000\n",
       "mean        762.322127\n",
       "std         353.951587\n",
       "min          21.000000\n",
       "25%         501.000000\n",
       "50%         710.000000\n",
       "75%         972.000000\n",
       "max        2114.000000\n",
       "Name: abstract, dtype: float64"
      ]
     },
     "execution_count": 19,
     "metadata": {},
     "output_type": "execute_result"
    }
   ],
   "source": [
    "# get the number of characters in each abstract\n",
    "abstract_len = df['abstract'].map(lambda x: len(x))\n",
    "# look at the summary statistics for abstract_len\n",
    "abstract_len.describe()\n",
    "# According to https://info.arxiv.org/help/prep.html\n",
    "# abstracts longer than 1920 characters are not accepted. \n",
    "# So when did this rule begin as we have examples of abstract_len > 1920?"
   ]
  },
  {
   "cell_type": "code",
   "execution_count": 20,
   "id": "3b4fbb69",
   "metadata": {
    "execution": {
     "iopub.execute_input": "2024-09-20T08:49:52.799537Z",
     "iopub.status.busy": "2024-09-20T08:49:52.799116Z",
     "iopub.status.idle": "2024-09-20T08:49:53.164762Z",
     "shell.execute_reply": "2024-09-20T08:49:53.163443Z"
    },
    "papermill": {
     "duration": 0.393007,
     "end_time": "2024-09-20T08:49:53.167596",
     "exception": false,
     "start_time": "2024-09-20T08:49:52.774589",
     "status": "completed"
    },
    "tags": []
   },
   "outputs": [
    {
     "data": {
      "text/plain": [
       "<Axes: >"
      ]
     },
     "execution_count": 20,
     "metadata": {},
     "output_type": "execute_result"
    },
    {
     "data": {
      "image/png": "[encoded data removed]",
      "text/plain": [
       "<Figure size 640x480 with 1 Axes>"
      ]
     },
     "metadata": {},
     "output_type": "display_data"
    }
   ],
   "source": [
    "abstract_len.hist()"
   ]
  },
  {
   "cell_type": "code",
   "execution_count": 21,
   "id": "bc91cd7f",
   "metadata": {
    "execution": {
     "iopub.execute_input": "2024-09-20T08:49:53.215553Z",
     "iopub.status.busy": "2024-09-20T08:49:53.215147Z",
     "iopub.status.idle": "2024-09-20T08:49:53.223107Z",
     "shell.execute_reply": "2024-09-20T08:49:53.222098Z"
    },
    "papermill": {
     "duration": 0.034476,
     "end_time": "2024-09-20T08:49:53.225484",
     "exception": false,
     "start_time": "2024-09-20T08:49:53.191008",
     "status": "completed"
    },
    "tags": []
   },
   "outputs": [
    {
     "data": {
      "text/plain": [
       "\"  This work explores the role of thermodynamic fluctuations in the two\\nparameter Hawking radiating black hole configurations. The system is\\ncharacterized by an ensemble of arbitrary mass and radiation frequency of the\\nblack holes. In the due course of the Hawking radiations, we find that the\\nintrinsic geometric description exhibits an intriguing set of exact pair\\ncorrection functions and global correlation lengths. We investigate the nature\\nof the constant amplitude radiation and find that it's not stable under\\nfluctuations of the mass and frequency. Subsequently, the consideration of the\\nYork model decreasing amplitude radiation demonstrates that thermodynamic\\nfluctuations are globally stable in the small frequency region. In connection\\nwith quantum gravity refinements, we take an account of the logarithmic\\ncorrection into the constant amplitude and York amplitude over the Hawking\\nradiation. In both considerations, we notice that the nature of the possible\\nparametric fluctuations may precisely be ascertained without any approximation.\\nIn the frequency domain $w \\\\in (0, \\\\infty)$, we observe that both the local and\\nthe global thermodynamic fluctuations of the radiation energy flux are stable\\nin the s-channel. The intrinsic geometry exemplifies a definite stability\\ncharacter to the thermodynamic fluctuations, and up to finitely many\\ntopological defects on the parametric surface, the notion remains almost the\\nsame for both the constant amplitude and the York model. The Gaussian\\nfluctuations over equilibrium radiation energy flux and fluctuating horizon\\nconfigurations accomplish a well-defined, non-degenerate, curved and regular\\nintrinsic Riemannian manifolds, for all the physically admissible domains of\\nthe radiation parameters.\\n  PACS numbers: 04.70.-s: Physics of black holes; 04.70.-Bw: Classical black\\nholes; 04.70.Dy Quantum aspects of black holes, evaporation, thermodynamics;\\n04.60.Cf Gravitational aspects of string theory.\\n  Keywords: Quantum Gravity, Hawking Radiation; Horizon Perturbations; Vaidya\\nGeometry; York Model; Statistical Fluctuations; Thermodynamic Configurations\\n\""
      ]
     },
     "execution_count": 21,
     "metadata": {},
     "output_type": "execute_result"
    }
   ],
   "source": [
    "# Take a look at the longest abstract\n",
    "df.iloc[abstract_len.idxmax()]['abstract']"
   ]
  },
  {
   "cell_type": "markdown",
   "id": "9982df0a",
   "metadata": {
    "papermill": {
     "duration": 0.022636,
     "end_time": "2024-09-20T08:49:53.271020",
     "exception": false,
     "start_time": "2024-09-20T08:49:53.248384",
     "status": "completed"
    },
    "tags": []
   },
   "source": [
    "Things to notice about the above abstract\n",
    "- there is lots of whitespace at the start\n",
    "- there are many \\n instead of spaces\n",
    "\n",
    "This suggests we replace \\n with ' ' and strip out the extra leading/trailing whitespaces."
   ]
  },
  {
   "cell_type": "markdown",
   "id": "5f661902",
   "metadata": {
    "papermill": {
     "duration": 0.022459,
     "end_time": "2024-09-20T08:49:53.316222",
     "exception": false,
     "start_time": "2024-09-20T08:49:53.293763",
     "status": "completed"
    },
    "tags": []
   },
   "source": [
    "<a name=\"4.2\"></a>\n",
    "### 4.2 - Keywords/PACS at end of abstracts"
   ]
  },
  {
   "cell_type": "code",
   "execution_count": 22,
   "id": "305b9e49",
   "metadata": {
    "execution": {
     "iopub.execute_input": "2024-09-20T08:49:53.363318Z",
     "iopub.status.busy": "2024-09-20T08:49:53.362894Z",
     "iopub.status.idle": "2024-09-20T08:49:59.141244Z",
     "shell.execute_reply": "2024-09-20T08:49:59.139965Z"
    },
    "papermill": {
     "duration": 5.805195,
     "end_time": "2024-09-20T08:49:59.144060",
     "exception": false,
     "start_time": "2024-09-20T08:49:53.338865",
     "status": "completed"
    },
    "tags": []
   },
   "outputs": [
    {
     "data": {
      "text/plain": [
       "67"
      ]
     },
     "execution_count": 22,
     "metadata": {},
     "output_type": "execute_result"
    }
   ],
   "source": [
    "# Turns out there's PACS numbers and Keywords at the end of some abstracts,\n",
    "# should we remove these for training a LLM?\n",
    "# Find which abstracts contain either 'Keyword' or 'PACS'\n",
    "has_keyword = df['abstract'].str.contains('Keyword|PACS', case=False)\n",
    "df[has_keyword].shape[0]"
   ]
  },
  {
   "cell_type": "code",
   "execution_count": 23,
   "id": "65804b9f",
   "metadata": {
    "execution": {
     "iopub.execute_input": "2024-09-20T08:49:59.192798Z",
     "iopub.status.busy": "2024-09-20T08:49:59.192351Z",
     "iopub.status.idle": "2024-09-20T08:49:59.197853Z",
     "shell.execute_reply": "2024-09-20T08:49:59.196356Z"
    },
    "papermill": {
     "duration": 0.032794,
     "end_time": "2024-09-20T08:49:59.200592",
     "exception": false,
     "start_time": "2024-09-20T08:49:59.167798",
     "status": "completed"
    },
    "tags": []
   },
   "outputs": [],
   "source": [
    "# df[has_keyword].iloc[0]['abstract']"
   ]
  },
  {
   "cell_type": "code",
   "execution_count": 24,
   "id": "7c7a43b1",
   "metadata": {
    "execution": {
     "iopub.execute_input": "2024-09-20T08:49:59.249892Z",
     "iopub.status.busy": "2024-09-20T08:49:59.248748Z",
     "iopub.status.idle": "2024-09-20T08:49:59.255960Z",
     "shell.execute_reply": "2024-09-20T08:49:59.254738Z"
    },
    "papermill": {
     "duration": 0.036239,
     "end_time": "2024-09-20T08:49:59.260424",
     "exception": false,
     "start_time": "2024-09-20T08:49:59.224185",
     "status": "completed"
    },
    "tags": []
   },
   "outputs": [
    {
     "name": "stdout",
     "output_type": "stream",
     "text": [
      "Percentage of abstacts with Keywords or PACS is 0.064%\n"
     ]
    }
   ],
   "source": [
    "print(f\"Percentage of abstacts with Keywords or PACS is {100 * df[has_keyword].shape[0] / df.shape[0]:.3f}%\")"
   ]
  },
  {
   "cell_type": "markdown",
   "id": "120ef5c4",
   "metadata": {
    "papermill": {
     "duration": 0.023325,
     "end_time": "2024-09-20T08:49:59.306949",
     "exception": false,
     "start_time": "2024-09-20T08:49:59.283624",
     "status": "completed"
    },
    "tags": []
   },
   "source": [
    "<a name=\"4.3\"></a>\n",
    "### 4.3 - Multi-lingual abstracts\n",
    "\n",
    "See https://info.arxiv.org/help/faq/multilang.html"
   ]
  },
  {
   "cell_type": "markdown",
   "id": "23f8b9f4",
   "metadata": {
    "papermill": {
     "duration": 0.022914,
     "end_time": "2024-09-20T08:49:59.353916",
     "exception": false,
     "start_time": "2024-09-20T08:49:59.331002",
     "status": "completed"
    },
    "tags": []
   },
   "source": [
    "First we find any multi-lingual abstracts"
   ]
  },
  {
   "cell_type": "code",
   "execution_count": 25,
   "id": "74fd4ed3",
   "metadata": {
    "execution": {
     "iopub.execute_input": "2024-09-20T08:49:59.406093Z",
     "iopub.status.busy": "2024-09-20T08:49:59.405690Z",
     "iopub.status.idle": "2024-09-20T08:49:59.544529Z",
     "shell.execute_reply": "2024-09-20T08:49:59.543322Z"
    },
    "papermill": {
     "duration": 0.168133,
     "end_time": "2024-09-20T08:49:59.547152",
     "exception": false,
     "start_time": "2024-09-20T08:49:59.379019",
     "status": "completed"
    },
    "tags": []
   },
   "outputs": [
    {
     "data": {
      "text/plain": [
       "abstract\n",
       "False    105384\n",
       "Name: count, dtype: int64"
      ]
     },
     "execution_count": 25,
     "metadata": {},
     "output_type": "execute_result"
    }
   ],
   "source": [
    "multi = df['abstract'].str.contains(\"-----\")\n",
    "multi.value_counts()"
   ]
  },
  {
   "cell_type": "code",
   "execution_count": 26,
   "id": "49f872ee",
   "metadata": {
    "execution": {
     "iopub.execute_input": "2024-09-20T08:49:59.596133Z",
     "iopub.status.busy": "2024-09-20T08:49:59.595167Z",
     "iopub.status.idle": "2024-09-20T08:49:59.601873Z",
     "shell.execute_reply": "2024-09-20T08:49:59.600805Z"
    },
    "papermill": {
     "duration": 0.033986,
     "end_time": "2024-09-20T08:49:59.604806",
     "exception": false,
     "start_time": "2024-09-20T08:49:59.570820",
     "status": "completed"
    },
    "tags": []
   },
   "outputs": [
    {
     "name": "stdout",
     "output_type": "stream",
     "text": [
      "Percentage of multi-lingual abstacts is 0.000%\n"
     ]
    }
   ],
   "source": [
    "print(f\"Percentage of multi-lingual abstacts is {100 * df[multi].shape[0] / df.shape[0]:.3f}%\")"
   ]
  },
  {
   "cell_type": "code",
   "execution_count": 27,
   "id": "40246663",
   "metadata": {
    "execution": {
     "iopub.execute_input": "2024-09-20T08:49:59.654506Z",
     "iopub.status.busy": "2024-09-20T08:49:59.654092Z",
     "iopub.status.idle": "2024-09-20T08:49:59.759511Z",
     "shell.execute_reply": "2024-09-20T08:49:59.758002Z"
    },
    "papermill": {
     "duration": 0.133696,
     "end_time": "2024-09-20T08:49:59.762828",
     "exception": false,
     "start_time": "2024-09-20T08:49:59.629132",
     "status": "completed"
    },
    "tags": []
   },
   "outputs": [],
   "source": [
    "english_only = df['abstract'].apply(lambda x: x.split(\"-----\")[0])"
   ]
  },
  {
   "cell_type": "markdown",
   "id": "6ffb242c",
   "metadata": {
    "papermill": {
     "duration": 0.023937,
     "end_time": "2024-09-20T08:49:59.813122",
     "exception": false,
     "start_time": "2024-09-20T08:49:59.789185",
     "status": "completed"
    },
    "tags": []
   },
   "source": [
    "We have to be careful because there are some abstracts which have metric signatures denoted by $+-----$ as can be seen below!"
   ]
  },
  {
   "cell_type": "code",
   "execution_count": 28,
   "id": "202cbadd",
   "metadata": {
    "execution": {
     "iopub.execute_input": "2024-09-20T08:49:59.861796Z",
     "iopub.status.busy": "2024-09-20T08:49:59.861341Z",
     "iopub.status.idle": "2024-09-20T08:49:59.866854Z",
     "shell.execute_reply": "2024-09-20T08:49:59.865434Z"
    },
    "papermill": {
     "duration": 0.033399,
     "end_time": "2024-09-20T08:49:59.869853",
     "exception": false,
     "start_time": "2024-09-20T08:49:59.836454",
     "status": "completed"
    },
    "tags": []
   },
   "outputs": [],
   "source": [
    "# df[multi]['abstract'].iloc[3]"
   ]
  },
  {
   "cell_type": "markdown",
   "id": "28f52141",
   "metadata": {
    "papermill": {
     "duration": 0.023694,
     "end_time": "2024-09-20T08:49:59.917525",
     "exception": false,
     "start_time": "2024-09-20T08:49:59.893831",
     "status": "completed"
    },
    "tags": []
   },
   "source": [
    "To remove the \"-----\" and everything after it we would use the following"
   ]
  },
  {
   "cell_type": "code",
   "execution_count": 29,
   "id": "af6a0dc9",
   "metadata": {
    "execution": {
     "iopub.execute_input": "2024-09-20T08:49:59.966889Z",
     "iopub.status.busy": "2024-09-20T08:49:59.966481Z",
     "iopub.status.idle": "2024-09-20T08:50:00.076678Z",
     "shell.execute_reply": "2024-09-20T08:50:00.075276Z"
    },
    "papermill": {
     "duration": 0.137985,
     "end_time": "2024-09-20T08:50:00.079777",
     "exception": false,
     "start_time": "2024-09-20T08:49:59.941792",
     "status": "completed"
    },
    "tags": []
   },
   "outputs": [],
   "source": [
    "english_only = df['abstract'].apply(lambda x: x.split(\"-----\")[0])"
   ]
  },
  {
   "cell_type": "markdown",
   "id": "a24aee06",
   "metadata": {
    "papermill": {
     "duration": 0.02302,
     "end_time": "2024-09-20T08:50:00.126803",
     "exception": false,
     "start_time": "2024-09-20T08:50:00.103783",
     "status": "completed"
    },
    "tags": []
   },
   "source": [
    "However, since there are very few examples we leave things as they are"
   ]
  },
  {
   "cell_type": "markdown",
   "id": "bfcd4005",
   "metadata": {
    "papermill": {
     "duration": 0.023165,
     "end_time": "2024-09-20T08:50:00.173412",
     "exception": false,
     "start_time": "2024-09-20T08:50:00.150247",
     "status": "completed"
    },
    "tags": []
   },
   "source": [
    "## 4.4 - Look at distribution of dates from `id` column\n",
    "\n",
    "Old scheme identifiers are of the form hep-th/9901001.\n",
    "\n",
    "New scheme identifiers are of the form 0704.0001 or 1501.00001"
   ]
  },
  {
   "cell_type": "code",
   "execution_count": 30,
   "id": "55a31abb",
   "metadata": {
    "execution": {
     "iopub.execute_input": "2024-09-20T08:50:00.222315Z",
     "iopub.status.busy": "2024-09-20T08:50:00.221871Z",
     "iopub.status.idle": "2024-09-20T08:50:00.232121Z",
     "shell.execute_reply": "2024-09-20T08:50:00.230866Z"
    },
    "papermill": {
     "duration": 0.037695,
     "end_time": "2024-09-20T08:50:00.234796",
     "exception": false,
     "start_time": "2024-09-20T08:50:00.197101",
     "status": "completed"
    },
    "tags": []
   },
   "outputs": [
    {
     "data": {
      "text/plain": [
       "0              0704.0015\n",
       "1              0704.0018\n",
       "2              0704.0052\n",
       "3              0704.0064\n",
       "4              0704.0066\n",
       "               ...      \n",
       "105369    hep-th/9912280\n",
       "105370    hep-th/9912281\n",
       "105371    hep-th/9912282\n",
       "105372    hep-th/9912283\n",
       "105373    hep-th/9912284\n",
       "Name: id, Length: 105374, dtype: object"
      ]
     },
     "execution_count": 30,
     "metadata": {},
     "output_type": "execute_result"
    }
   ],
   "source": [
    "# The dataframes look to be ordered by identifier\n",
    "df['id'][:-10]"
   ]
  },
  {
   "cell_type": "code",
   "execution_count": 31,
   "id": "1b52b02a",
   "metadata": {
    "execution": {
     "iopub.execute_input": "2024-09-20T08:50:00.283950Z",
     "iopub.status.busy": "2024-09-20T08:50:00.283518Z",
     "iopub.status.idle": "2024-09-20T08:50:00.290547Z",
     "shell.execute_reply": "2024-09-20T08:50:00.289430Z"
    },
    "papermill": {
     "duration": 0.034758,
     "end_time": "2024-09-20T08:50:00.293320",
     "exception": false,
     "start_time": "2024-09-20T08:50:00.258562",
     "status": "completed"
    },
    "tags": []
   },
   "outputs": [],
   "source": [
    "def get_year_from_id(id):\n",
    "    if '.' in id:\n",
    "        year = id[:2]\n",
    "    else:\n",
    "        tmp = id.split('/')[1]\n",
    "        year = tmp[:2]\n",
    "    if year[0] == '9':\n",
    "        year = '19' + year\n",
    "    else:\n",
    "        year = '20' + year\n",
    "    return year"
   ]
  },
  {
   "cell_type": "code",
   "execution_count": 32,
   "id": "822bfeb3",
   "metadata": {
    "execution": {
     "iopub.execute_input": "2024-09-20T08:50:00.345239Z",
     "iopub.status.busy": "2024-09-20T08:50:00.344819Z",
     "iopub.status.idle": "2024-09-20T08:50:00.476986Z",
     "shell.execute_reply": "2024-09-20T08:50:00.475450Z"
    },
    "papermill": {
     "duration": 0.162262,
     "end_time": "2024-09-20T08:50:00.480044",
     "exception": false,
     "start_time": "2024-09-20T08:50:00.317782",
     "status": "completed"
    },
    "tags": []
   },
   "outputs": [],
   "source": [
    "years = df['id'].map(get_year_from_id)"
   ]
  },
  {
   "cell_type": "code",
   "execution_count": 33,
   "id": "f2d5742d",
   "metadata": {
    "execution": {
     "iopub.execute_input": "2024-09-20T08:50:00.529310Z",
     "iopub.status.busy": "2024-09-20T08:50:00.528862Z",
     "iopub.status.idle": "2024-09-20T08:50:01.334169Z",
     "shell.execute_reply": "2024-09-20T08:50:01.332886Z"
    },
    "papermill": {
     "duration": 0.833474,
     "end_time": "2024-09-20T08:50:01.336909",
     "exception": false,
     "start_time": "2024-09-20T08:50:00.503435",
     "status": "completed"
    },
    "tags": []
   },
   "outputs": [
    {
     "data": {
      "text/plain": [
       "<Axes: >"
      ]
     },
     "execution_count": 33,
     "metadata": {},
     "output_type": "execute_result"
    },
    {
     "data": {
      "image/png": "[encoded data removed]",
      "text/plain": [
       "<Figure size 1500x300 with 1 Axes>"
      ]
     },
     "metadata": {},
     "output_type": "display_data"
    }
   ],
   "source": [
    "years.sort_values(ascending=True).hist(figsize=(15,3))"
   ]
  },
  {
   "cell_type": "markdown",
   "id": "a7b49d5b",
   "metadata": {
    "papermill": {
     "duration": 0.023711,
     "end_time": "2024-09-20T08:50:01.385430",
     "exception": false,
     "start_time": "2024-09-20T08:50:01.361719",
     "status": "completed"
    },
    "tags": []
   },
   "source": [
    "<a name=\"5\"></a>\n",
    "## 5 - Clean the abstract data"
   ]
  },
  {
   "cell_type": "code",
   "execution_count": 34,
   "id": "5bb916b3",
   "metadata": {
    "execution": {
     "iopub.execute_input": "2024-09-20T08:50:01.437596Z",
     "iopub.status.busy": "2024-09-20T08:50:01.437181Z",
     "iopub.status.idle": "2024-09-20T08:50:01.443273Z",
     "shell.execute_reply": "2024-09-20T08:50:01.442084Z"
    },
    "papermill": {
     "duration": 0.034476,
     "end_time": "2024-09-20T08:50:01.445680",
     "exception": false,
     "start_time": "2024-09-20T08:50:01.411204",
     "status": "completed"
    },
    "tags": []
   },
   "outputs": [],
   "source": [
    "def clean_abstracts(abstract):\n",
    "    abstract = re.sub(r'\\n\\s*', ' ', abstract)  # replace '\\n' and any whitespace immediately after it with a single whitespace\n",
    "    abstract = abstract.strip()  # remove leading/trailing whitespace\n",
    "    return abstract"
   ]
  },
  {
   "cell_type": "code",
   "execution_count": 35,
   "id": "0a0c35d7",
   "metadata": {
    "execution": {
     "iopub.execute_input": "2024-09-20T08:50:01.495983Z",
     "iopub.status.busy": "2024-09-20T08:50:01.495046Z",
     "iopub.status.idle": "2024-09-20T08:50:02.502979Z",
     "shell.execute_reply": "2024-09-20T08:50:02.501459Z"
    },
    "papermill": {
     "duration": 1.036223,
     "end_time": "2024-09-20T08:50:02.505962",
     "exception": false,
     "start_time": "2024-09-20T08:50:01.469739",
     "status": "completed"
    },
    "tags": []
   },
   "outputs": [],
   "source": [
    "# apply `clean_abstracts` function to Series. Don't know how to do this inplace\n",
    "# so we add a new column and then do some renaming\n",
    "df['cleaned_abstract'] = df['abstract'].map(clean_abstracts)\n",
    "df = df.rename(columns={\"abstract\": \"orig_abstract\", \"cleaned_abstract\": \"abstract\"})"
   ]
  },
  {
   "cell_type": "code",
   "execution_count": 36,
   "id": "af7532c2",
   "metadata": {
    "execution": {
     "iopub.execute_input": "2024-09-20T08:50:02.557459Z",
     "iopub.status.busy": "2024-09-20T08:50:02.557049Z",
     "iopub.status.idle": "2024-09-20T08:50:02.564875Z",
     "shell.execute_reply": "2024-09-20T08:50:02.563711Z"
    },
    "papermill": {
     "duration": 0.037162,
     "end_time": "2024-09-20T08:50:02.567505",
     "exception": false,
     "start_time": "2024-09-20T08:50:02.530343",
     "status": "completed"
    },
    "tags": []
   },
   "outputs": [
    {
     "data": {
      "text/plain": [
       "'The pure spinor formulation of the ten-dimensional superstring leads to manifestly supersymmetric loop amplitudes, expressed as integrals in pure spinor superspace. This paper explores different methods to evaluate these integrals and then uses them to calculate the kinematic factors of the one-loop and two-loop massless four-point amplitudes involving two and four Ramond states.'"
      ]
     },
     "execution_count": 36,
     "metadata": {},
     "output_type": "execute_result"
    }
   ],
   "source": [
    "df['abstract'].iloc[0]"
   ]
  },
  {
   "cell_type": "markdown",
   "id": "ac86e2e2",
   "metadata": {
    "papermill": {
     "duration": 0.023892,
     "end_time": "2024-09-20T08:50:02.616255",
     "exception": false,
     "start_time": "2024-09-20T08:50:02.592363",
     "status": "completed"
    },
    "tags": []
   },
   "source": [
    "<a name=\"6\"></a>\n",
    "## 6 - Convert to Huggingface dataset and push"
   ]
  },
  {
   "cell_type": "markdown",
   "id": "4b7a8641",
   "metadata": {
    "papermill": {
     "duration": 0.023875,
     "end_time": "2024-09-20T08:50:02.664860",
     "exception": false,
     "start_time": "2024-09-20T08:50:02.640985",
     "status": "completed"
    },
    "tags": []
   },
   "source": [
    "<a name=\"6.1\"></a>\n",
    "### 6.1 - Convert Pandas DataFrame to dataset Dataset"
   ]
  },
  {
   "cell_type": "code",
   "execution_count": 37,
   "id": "892faac0",
   "metadata": {
    "execution": {
     "iopub.execute_input": "2024-09-20T08:50:02.715582Z",
     "iopub.status.busy": "2024-09-20T08:50:02.715194Z",
     "iopub.status.idle": "2024-09-20T08:50:05.399282Z",
     "shell.execute_reply": "2024-09-20T08:50:05.398003Z"
    },
    "papermill": {
     "duration": 2.712808,
     "end_time": "2024-09-20T08:50:05.402205",
     "exception": false,
     "start_time": "2024-09-20T08:50:02.689397",
     "status": "completed"
    },
    "tags": []
   },
   "outputs": [],
   "source": [
    "raw_dataset = datasets.Dataset.from_pandas(df, preserve_index=False)"
   ]
  },
  {
   "cell_type": "markdown",
   "id": "c071e1cc",
   "metadata": {
    "papermill": {
     "duration": 0.023985,
     "end_time": "2024-09-20T08:50:05.451091",
     "exception": false,
     "start_time": "2024-09-20T08:50:05.427106",
     "status": "completed"
    },
    "tags": []
   },
   "source": [
    "<a name=\"6.2\"></a>\n",
    "### 6.2 - Split dataset into train, test and validation datasets\n",
    "\n",
    "use `?datasets.Dataset.train_test_split` to get full documentation.\n",
    "\n",
    "Since the DataFrame seems to be ordered by `id` column we must randomly shuffle before splitting.\n",
    "\n",
    "**NB:** The variables `train_size` and `validation_size` are defined in section [1.2](#1.2)"
   ]
  },
  {
   "cell_type": "code",
   "execution_count": 38,
   "id": "c95a9d14",
   "metadata": {
    "execution": {
     "iopub.execute_input": "2024-09-20T08:50:05.501760Z",
     "iopub.status.busy": "2024-09-20T08:50:05.501310Z",
     "iopub.status.idle": "2024-09-20T08:50:05.605231Z",
     "shell.execute_reply": "2024-09-20T08:50:05.604042Z"
    },
    "papermill": {
     "duration": 0.132192,
     "end_time": "2024-09-20T08:50:05.608068",
     "exception": false,
     "start_time": "2024-09-20T08:50:05.475876",
     "status": "completed"
    },
    "tags": []
   },
   "outputs": [],
   "source": [
    "train_testvalid = raw_dataset.train_test_split(train_size=train_size, seed=42, shuffle=True)\n",
    "test_valid = train_testvalid['test'].train_test_split(test_size=validation_size, seed=42, shuffle=True)\n",
    "\n",
    "train_test_valid_dataset = datasets.DatasetDict({'train': train_testvalid['train'],\n",
    "                                                 'test': test_valid['test'],\n",
    "                                                 'validation': test_valid['train']})"
   ]
  },
  {
   "cell_type": "code",
   "execution_count": 39,
   "id": "f6949d74",
   "metadata": {
    "execution": {
     "iopub.execute_input": "2024-09-20T08:50:05.659359Z",
     "iopub.status.busy": "2024-09-20T08:50:05.658372Z",
     "iopub.status.idle": "2024-09-20T08:50:05.665332Z",
     "shell.execute_reply": "2024-09-20T08:50:05.663759Z"
    },
    "papermill": {
     "duration": 0.035976,
     "end_time": "2024-09-20T08:50:05.668884",
     "exception": false,
     "start_time": "2024-09-20T08:50:05.632908",
     "status": "completed"
    },
    "tags": []
   },
   "outputs": [
    {
     "name": "stdout",
     "output_type": "stream",
     "text": [
      "Dataset train has size 73768\n",
      "Dataset test has size 15808\n",
      "Dataset validation has size 15808\n"
     ]
    }
   ],
   "source": [
    "# print the number of entries in each dataset\n",
    "for name, data in train_test_valid_dataset.items():\n",
    "    print(f\"Dataset {name} has size {data.shape[0]}\")"
   ]
  },
  {
   "cell_type": "markdown",
   "id": "183ef9f8",
   "metadata": {
    "papermill": {
     "duration": 0.023993,
     "end_time": "2024-09-20T08:50:05.717365",
     "exception": false,
     "start_time": "2024-09-20T08:50:05.693372",
     "status": "completed"
    },
    "tags": []
   },
   "source": [
    "<a name=\"6.3\"></a>\n",
    "### 6.3 - Upload data to Huggingface\n",
    "\n",
    "See `?datasets.Dataset.push_to_hub` for full documentation.\n",
    "\n",
    "**NB:** The variables `repo_id` and `commit_message` are defined in section [1.2](#1.2)"
   ]
  },
  {
   "cell_type": "code",
   "execution_count": 40,
   "id": "c1e92d69",
   "metadata": {
    "execution": {
     "iopub.execute_input": "2024-09-20T08:50:05.768678Z",
     "iopub.status.busy": "2024-09-20T08:50:05.768251Z",
     "iopub.status.idle": "2024-09-20T08:50:53.217432Z",
     "shell.execute_reply": "2024-09-20T08:50:53.216179Z"
    },
    "papermill": {
     "duration": 47.478422,
     "end_time": "2024-09-20T08:50:53.220404",
     "exception": false,
     "start_time": "2024-09-20T08:50:05.741982",
     "status": "completed"
    },
    "tags": []
   },
   "outputs": [
    {
     "data": {
      "application/vnd.jupyter.widget-view+json": {
       "model_id": "b414a7ab081740fe90ab4b11244de495",
       "version_major": 2,
       "version_minor": 0
      },
      "text/plain": [
       "Uploading the dataset shards:   0%|          | 0/1 [00:00<?, ?it/s]"
      ]
     },
     "metadata": {},
     "output_type": "display_data"
    },
    {
     "data": {
      "application/vnd.jupyter.widget-view+json": {
       "model_id": "f1bed289788d4321988989036ba67f32",
       "version_major": 2,
       "version_minor": 0
      },
      "text/plain": [
       "Creating parquet from Arrow format:   0%|          | 0/74 [00:00<?, ?ba/s]"
      ]
     },
     "metadata": {},
     "output_type": "display_data"
    },
    {
     "data": {
      "application/vnd.jupyter.widget-view+json": {
       "model_id": "c5bb9ba9d59e46be9df5c4df520fedaf",
       "version_major": 2,
       "version_minor": 0
      },
      "text/plain": [
       "Uploading the dataset shards:   0%|          | 0/1 [00:00<?, ?it/s]"
      ]
     },
     "metadata": {},
     "output_type": "display_data"
    },
    {
     "data": {
      "application/vnd.jupyter.widget-view+json": {
       "model_id": "f44e1c6bdc6c45a580d21523cdef57fe",
       "version_major": 2,
       "version_minor": 0
      },
      "text/plain": [
       "Creating parquet from Arrow format:   0%|          | 0/16 [00:00<?, ?ba/s]"
      ]
     },
     "metadata": {},
     "output_type": "display_data"
    },
    {
     "data": {
      "application/vnd.jupyter.widget-view+json": {
       "model_id": "f8fb37ca469e4a06be51a95951d99743",
       "version_major": 2,
       "version_minor": 0
      },
      "text/plain": [
       "Uploading the dataset shards:   0%|          | 0/1 [00:00<?, ?it/s]"
      ]
     },
     "metadata": {},
     "output_type": "display_data"
    },
    {
     "data": {
      "application/vnd.jupyter.widget-view+json": {
       "model_id": "5fb9609905fc4660b93d6e8258d9e841",
       "version_major": 2,
       "version_minor": 0
      },
      "text/plain": [
       "Creating parquet from Arrow format:   0%|          | 0/16 [00:00<?, ?ba/s]"
      ]
     },
     "metadata": {},
     "output_type": "display_data"
    }
   ],
   "source": [
    "# Push the Dataset to Huggingface\n",
    "try:\n",
    "    train_test_valid_dataset.push_to_hub(repo_id, commit_message=commit_message)\n",
    "except:\n",
    "    huggingface_hub.create_repo(repo_id=repo_id,\n",
    "                                repo_type=\"dataset\",\n",
    "                                private=True,\n",
    "                                commit_message=commit_message)\n",
    "    train_test_valid_dataset.push_to_hub(repo_id)"
   ]
  },
  {
   "cell_type": "code",
   "execution_count": 41,
   "id": "54b452bd",
   "metadata": {
    "execution": {
     "iopub.execute_input": "2024-09-20T08:50:53.274362Z",
     "iopub.status.busy": "2024-09-20T08:50:53.273925Z",
     "iopub.status.idle": "2024-09-20T08:50:53.318933Z",
     "shell.execute_reply": "2024-09-20T08:50:53.317560Z"
    },
    "papermill": {
     "duration": 0.074873,
     "end_time": "2024-09-20T08:50:53.321840",
     "exception": false,
     "start_time": "2024-09-20T08:50:53.246967",
     "status": "completed"
    },
    "tags": []
   },
   "outputs": [
    {
     "name": "stdout",
     "output_type": "stream",
     "text": [
      "Successfully logged out.\n"
     ]
    }
   ],
   "source": [
    "# logout from Huggingface\n",
    "huggingface_hub.logout()"
   ]
  },
  {
   "cell_type": "markdown",
   "id": "d5b2e3a8",
   "metadata": {
    "execution": {
     "iopub.execute_input": "2024-08-28T07:33:04.582462Z",
     "iopub.status.busy": "2024-08-28T07:33:04.581733Z",
     "iopub.status.idle": "2024-08-28T07:33:20.156723Z",
     "shell.execute_reply": "2024-08-28T07:33:20.155819Z",
     "shell.execute_reply.started": "2024-08-28T07:33:04.582423Z"
    },
    "papermill": {
     "duration": 0.025375,
     "end_time": "2024-09-20T08:50:53.373629",
     "exception": false,
     "start_time": "2024-09-20T08:50:53.348254",
     "status": "completed"
    },
    "tags": []
   },
   "source": [
    "****NB: we can get previous instances of datasets by using****\n",
    "\n",
    "```\n",
    "ds_old = datasets.load_dataset('LLMsForHepth/arxiv_hepth_first', \n",
    "                               revision='346140be7a01f109af9845a0e3742b9fcd66fd9a')\n",
    "                               ```\n",
    "                               \n",
    "where '346140be7a01f109af9845a0e3742b9fcd66fd9a' is a commit hash found on the repo website"
   ]
  }
 ],
 "metadata": {
  "kaggle": {
   "accelerator": "none",
   "dataSources": [
    {
     "datasetId": 612177,
     "isSourceIdPinned": true,
     "sourceId": 9193845,
     "sourceType": "datasetVersion"
    }
   ],
   "dockerImageVersionId": 30684,
   "isGpuEnabled": false,
   "isInternetEnabled": true,
   "language": "python",
   "sourceType": "notebook"
  },
  "kernelspec": {
   "display_name": "Python 3",
   "language": "python",
   "name": "python3"
  },
  "language_info": {
   "codemirror_mode": {
    "name": "ipython",
    "version": 3
   },
   "file_extension": ".py",
   "mimetype": "text/x-python",
   "name": "python",
   "nbconvert_exporter": "python",
   "pygments_lexer": "ipython3",
   "version": "3.10.13"
  },
  "papermill": {
   "default_parameters": {},
   "duration": 245.777162,
   "end_time": "2024-09-20T08:50:57.130020",
   "environment_variables": {},
   "exception": null,
   "input_path": "__notebook__.ipynb",
   "output_path": "__notebook__.ipynb",
   "parameters": {},
   "start_time": "2024-09-20T08:46:51.352858",
   "version": "2.5.0"
  },
  "widgets": {
   "application/vnd.jupyter.widget-state+json": {
    "state": {
     "04f4726a14bf4ce99c9dd5e68fc34ebe": {
      "model_module": "@jupyter-widgets/base",
      "model_module_version": "1.2.0",
      "model_name": "LayoutModel",
      "state": {
       "_model_module": "@jupyter-widgets/base",
       "_model_module_version": "1.2.0",
       "_model_name": "LayoutModel",
       "_view_count": null,
       "_view_module": "@jupyter-widgets/base",
       "_view_module_version": "1.2.0",
       "_view_name": "LayoutView",
       "align_content": null,
       "align_items": null,
       "align_self": null,
       "border": null,
       "bottom": null,
       "display": null,
       "flex": null,
       "flex_flow": null,
       "grid_area": null,
       "grid_auto_columns": null,
       "grid_auto_flow": null,
       "grid_auto_rows": null,
       "grid_column": null,
       "grid_gap": null,
       "grid_row": null,
       "grid_template_areas": null,
       "grid_template_columns": null,
       "grid_template_rows": null,
       "height": null,
       "justify_content": null,
       "justify_items": null,
       "left": null,
       "margin": null,
       "max_height": null,
       "max_width": null,
       "min_height": null,
       "min_width": null,
       "object_fit": null,
       "object_position": null,
       "order": null,
       "overflow": null,
       "overflow_x": null,
       "overflow_y": null,
       "padding": null,
       "right": null,
       "top": null,
       "visibility": null,
       "width": null
      }
     },
     "05899334562242669999549c9b642975": {
      "model_module": "@jupyter-widgets/controls",
      "model_module_version": "1.5.0",
      "model_name": "ProgressStyleModel",
      "state": {
       "_model_module": "@jupyter-widgets/controls",
       "_model_module_version": "1.5.0",
       "_model_name": "ProgressStyleModel",
       "_view_count": null,
       "_view_module": "@jupyter-widgets/base",
       "_view_module_version": "1.2.0",
       "_view_name": "StyleView",
       "bar_color": null,
       "description_width": ""
      }
     },
     "0637970f58874bbba8fe49b43f75d696": {
      "model_module": "@jupyter-widgets/base",
      "model_module_version": "1.2.0",
      "model_name": "LayoutModel",
      "state": {
       "_model_module": "@jupyter-widgets/base",
       "_model_module_version": "1.2.0",
       "_model_name": "LayoutModel",
       "_view_count": null,
       "_view_module": "@jupyter-widgets/base",
       "_view_module_version": "1.2.0",
       "_view_name": "LayoutView",
       "align_content": null,
       "align_items": null,
       "align_self": null,
       "border": null,
       "bottom": null,
       "display": null,
       "flex": null,
       "flex_flow": null,
       "grid_area": null,
       "grid_auto_columns": null,
       "grid_auto_flow": null,
       "grid_auto_rows": null,
       "grid_column": null,
       "grid_gap": null,
       "grid_row": null,
       "grid_template_areas": null,
       "grid_template_columns": null,
       "grid_template_rows": null,
       "height": null,
       "justify_content": null,
       "justify_items": null,
       "left": null,
       "margin": null,
       "max_height": null,
       "max_width": null,
       "min_height": null,
       "min_width": null,
       "object_fit": null,
       "object_position": null,
       "order": null,
       "overflow": null,
       "overflow_x": null,
       "overflow_y": null,
       "padding": null,
       "right": null,
       "top": null,
       "visibility": null,
       "width": null
      }
     },
     "06a03988f17d4db7bdc9a5ae771365c6": {
      "model_module": "@jupyter-widgets/base",
      "model_module_version": "1.2.0",
      "model_name": "LayoutModel",
      "state": {
       "_model_module": "@jupyter-widgets/base",
       "_model_module_version": "1.2.0",
       "_model_name": "LayoutModel",
       "_view_count": null,
       "_view_module": "@jupyter-widgets/base",
       "_view_module_version": "1.2.0",
       "_view_name": "LayoutView",
       "align_content": null,
       "align_items": null,
       "align_self": null,
       "border": null,
       "bottom": null,
       "display": null,
       "flex": null,
       "flex_flow": null,
       "grid_area": null,
       "grid_auto_columns": null,
       "grid_auto_flow": null,
       "grid_auto_rows": null,
       "grid_column": null,
       "grid_gap": null,
       "grid_row": null,
       "grid_template_areas": null,
       "grid_template_columns": null,
       "grid_template_rows": null,
       "height": null,
       "justify_content": null,
       "justify_items": null,
       "left": null,
       "margin": null,
       "max_height": null,
       "max_width": null,
       "min_height": null,
       "min_width": null,
       "object_fit": null,
       "object_position": null,
       "order": null,
       "overflow": null,
       "overflow_x": null,
       "overflow_y": null,
       "padding": null,
       "right": null,
       "top": null,
       "visibility": null,
       "width": null
      }
     },
     "0c8063926c8a41a99db6522fceb4337c": {
      "model_module": "@jupyter-widgets/base",
      "model_module_version": "1.2.0",
      "model_name": "LayoutModel",
      "state": {
       "_model_module": "@jupyter-widgets/base",
       "_model_module_version": "1.2.0",
       "_model_name": "LayoutModel",
       "_view_count": null,
       "_view_module": "@jupyter-widgets/base",
       "_view_module_version": "1.2.0",
       "_view_name": "LayoutView",
       "align_content": null,
       "align_items": null,
       "align_self": null,
       "border": null,
       "bottom": null,
       "display": null,
       "flex": null,
       "flex_flow": null,
       "grid_area": null,
       "grid_auto_columns": null,
       "grid_auto_flow": null,
       "grid_auto_rows": null,
       "grid_column": null,
       "grid_gap": null,
       "grid_row": null,
       "grid_template_areas": null,
       "grid_template_columns": null,
       "grid_template_rows": null,
       "height": null,
       "justify_content": null,
       "justify_items": null,
       "left": null,
       "margin": null,
       "max_height": null,
       "max_width": null,
       "min_height": null,
       "min_width": null,
       "object_fit": null,
       "object_position": null,
       "order": null,
       "overflow": null,
       "overflow_x": null,
       "overflow_y": null,
       "padding": null,
       "right": null,
       "top": null,
       "visibility": null,
       "width": null
      }
     },
     "13652648c4e44d4fb08c6fe490a75c00": {
      "model_module": "@jupyter-widgets/base",
      "model_module_version": "1.2.0",
      "model_name": "LayoutModel",
      "state": {
       "_model_module": "@jupyter-widgets/base",
       "_model_module_version": "1.2.0",
       "_model_name": "LayoutModel",
       "_view_count": null,
       "_view_module": "@jupyter-widgets/base",
       "_view_module_version": "1.2.0",
       "_view_name": "LayoutView",
       "align_content": null,
       "align_items": null,
       "align_self": null,
       "border": null,
       "bottom": null,
       "display": null,
       "flex": null,
       "flex_flow": null,
       "grid_area": null,
       "grid_auto_columns": null,
       "grid_auto_flow": null,
       "grid_auto_rows": null,
       "grid_column": null,
       "grid_gap": null,
       "grid_row": null,
       "grid_template_areas": null,
       "grid_template_columns": null,
       "grid_template_rows": null,
       "height": null,
       "justify_content": null,
       "justify_items": null,
       "left": null,
       "margin": null,
       "max_height": null,
       "max_width": null,
       "min_height": null,
       "min_width": null,
       "object_fit": null,
       "object_position": null,
       "order": null,
       "overflow": null,
       "overflow_x": null,
       "overflow_y": null,
       "padding": null,
       "right": null,
       "top": null,
       "visibility": null,
       "width": null
      }
     },
     "14732615eaa140c28f8931548b89129b": {
      "model_module": "@jupyter-widgets/controls",
      "model_module_version": "1.5.0",
      "model_name": "ProgressStyleModel",
      "state": {
       "_model_module": "@jupyter-widgets/controls",
       "_model_module_version": "1.5.0",
       "_model_name": "ProgressStyleModel",
       "_view_count": null,
       "_view_module": "@jupyter-widgets/base",
       "_view_module_version": "1.2.0",
       "_view_name": "StyleView",
       "bar_color": null,
       "description_width": ""
      }
     },
     "1d4f3ad1a93c45fda3fc73bd36e8bf9a": {
      "model_module": "@jupyter-widgets/controls",
      "model_module_version": "1.5.0",
      "model_name": "DescriptionStyleModel",
      "state": {
       "_model_module": "@jupyter-widgets/controls",
       "_model_module_version": "1.5.0",
       "_model_name": "DescriptionStyleModel",
       "_view_count": null,
       "_view_module": "@jupyter-widgets/base",
       "_view_module_version": "1.2.0",
       "_view_name": "StyleView",
       "description_width": ""
      }
     },
     "1ef0799dfcb449c1affb555a5b47d0cc": {
      "model_module": "@jupyter-widgets/base",
      "model_module_version": "1.2.0",
      "model_name": "LayoutModel",
      "state": {
       "_model_module": "@jupyter-widgets/base",
       "_model_module_version": "1.2.0",
       "_model_name": "LayoutModel",
       "_view_count": null,
       "_view_module": "@jupyter-widgets/base",
       "_view_module_version": "1.2.0",
       "_view_name": "LayoutView",
       "align_content": null,
       "align_items": null,
       "align_self": null,
       "border": null,
       "bottom": null,
       "display": null,
       "flex": null,
       "flex_flow": null,
       "grid_area": null,
       "grid_auto_columns": null,
       "grid_auto_flow": null,
       "grid_auto_rows": null,
       "grid_column": null,
       "grid_gap": null,
       "grid_row": null,
       "grid_template_areas": null,
       "grid_template_columns": null,
       "grid_template_rows": null,
       "height": null,
       "justify_content": null,
       "justify_items": null,
       "left": null,
       "margin": null,
       "max_height": null,
       "max_width": null,
       "min_height": null,
       "min_width": null,
       "object_fit": null,
       "object_position": null,
       "order": null,
       "overflow": null,
       "overflow_x": null,
       "overflow_y": null,
       "padding": null,
       "right": null,
       "top": null,
       "visibility": null,
       "width": null
      }
     },
     "249e237bc2544e3baebd6481fbddf0e0": {
      "model_module": "@jupyter-widgets/controls",
      "model_module_version": "1.5.0",
      "model_name": "HTMLModel",
      "state": {
       "_dom_classes": [],
       "_model_module": "@jupyter-widgets/controls",
       "_model_module_version": "1.5.0",
       "_model_name": "HTMLModel",
       "_view_count": null,
       "_view_module": "@jupyter-widgets/controls",
       "_view_module_version": "1.5.0",
       "_view_name": "HTMLView",
       "description": "",
       "description_tooltip": null,
       "layout": "IPY_MODEL_e8d2817153a8487a8863c87eeb7b8831",
       "placeholder": "​",
       "style": "IPY_MODEL_8cda128c8d0e417284bd5771ada97641",
       "value": "Creating parquet from Arrow format: 100%"
      }
     },
     "2df17048684a41b798753141e80d71ec": {
      "model_module": "@jupyter-widgets/base",
      "model_module_version": "1.2.0",
      "model_name": "LayoutModel",
      "state": {
       "_model_module": "@jupyter-widgets/base",
       "_model_module_version": "1.2.0",
       "_model_name": "LayoutModel",
       "_view_count": null,
       "_view_module": "@jupyter-widgets/base",
       "_view_module_version": "1.2.0",
       "_view_name": "LayoutView",
       "align_content": null,
       "align_items": null,
       "align_self": null,
       "border": null,
       "bottom": null,
       "display": null,
       "flex": null,
       "flex_flow": null,
       "grid_area": null,
       "grid_auto_columns": null,
       "grid_auto_flow": null,
       "grid_auto_rows": null,
       "grid_column": null,
       "grid_gap": null,
       "grid_row": null,
       "grid_template_areas": null,
       "grid_template_columns": null,
       "grid_template_rows": null,
       "height": null,
       "justify_content": null,
       "justify_items": null,
       "left": null,
       "margin": null,
       "max_height": null,
       "max_width": null,
       "min_height": null,
       "min_width": null,
       "object_fit": null,
       "object_position": null,
       "order": null,
       "overflow": null,
       "overflow_x": null,
       "overflow_y": null,
       "padding": null,
       "right": null,
       "top": null,
       "visibility": null,
       "width": null
      }
     },
     "2fca5a03bedc4f1fa4efba45eac02e7f": {
      "model_module": "@jupyter-widgets/controls",
      "model_module_version": "1.5.0",
      "model_name": "FloatProgressModel",
      "state": {
       "_dom_classes": [],
       "_model_module": "@jupyter-widgets/controls",
       "_model_module_version": "1.5.0",
       "_model_name": "FloatProgressModel",
       "_view_count": null,
       "_view_module": "@jupyter-widgets/controls",
       "_view_module_version": "1.5.0",
       "_view_name": "ProgressView",
       "bar_style": "success",
       "description": "",
       "description_tooltip": null,
       "layout": "IPY_MODEL_7c80985216c34414bbba090675685ce5",
       "max": 74.0,
       "min": 0.0,
       "orientation": "horizontal",
       "style": "IPY_MODEL_05899334562242669999549c9b642975",
       "value": 74.0
      }
     },
     "3026beb62d5b4eba90ac581909e25bbc": {
      "model_module": "@jupyter-widgets/controls",
      "model_module_version": "1.5.0",
      "model_name": "FloatProgressModel",
      "state": {
       "_dom_classes": [],
       "_model_module": "@jupyter-widgets/controls",
       "_model_module_version": "1.5.0",
       "_model_name": "FloatProgressModel",
       "_view_count": null,
       "_view_module": "@jupyter-widgets/controls",
       "_view_module_version": "1.5.0",
       "_view_name": "ProgressView",
       "bar_style": "success",
       "description": "",
       "description_tooltip": null,
       "layout": "IPY_MODEL_f4cb4d5fe33640d1ae76efbd7984a211",
       "max": 16.0,
       "min": 0.0,
       "orientation": "horizontal",
       "style": "IPY_MODEL_75441fa26daf4b80987e59c1ca545e91",
       "value": 16.0
      }
     },
     "38a6fc655b2b48ff9dd54bf7e4e16a8f": {
      "model_module": "@jupyter-widgets/base",
      "model_module_version": "1.2.0",
      "model_name": "LayoutModel",
      "state": {
       "_model_module": "@jupyter-widgets/base",
       "_model_module_version": "1.2.0",
       "_model_name": "LayoutModel",
       "_view_count": null,
       "_view_module": "@jupyter-widgets/base",
       "_view_module_version": "1.2.0",
       "_view_name": "LayoutView",
       "align_content": null,
       "align_items": null,
       "align_self": null,
       "border": null,
       "bottom": null,
       "display": null,
       "flex": null,
       "flex_flow": null,
       "grid_area": null,
       "grid_auto_columns": null,
       "grid_auto_flow": null,
       "grid_auto_rows": null,
       "grid_column": null,
       "grid_gap": null,
       "grid_row": null,
       "grid_template_areas": null,
       "grid_template_columns": null,
       "grid_template_rows": null,
       "height": null,
       "justify_content": null,
       "justify_items": null,
       "left": null,
       "margin": null,
       "max_height": null,
       "max_width": null,
       "min_height": null,
       "min_width": null,
       "object_fit": null,
       "object_position": null,
       "order": null,
       "overflow": null,
       "overflow_x": null,
       "overflow_y": null,
       "padding": null,
       "right": null,
       "top": null,
       "visibility": null,
       "width": null
      }
     },
     "4100747c2d894a0b80a3afbf73308897": {
      "model_module": "@jupyter-widgets/base",
      "model_module_version": "1.2.0",
      "model_name": "LayoutModel",
      "state": {
       "_model_module": "@jupyter-widgets/base",
       "_model_module_version": "1.2.0",
       "_model_name": "LayoutModel",
       "_view_count": null,
       "_view_module": "@jupyter-widgets/base",
       "_view_module_version": "1.2.0",
       "_view_name": "LayoutView",
       "align_content": null,
       "align_items": null,
       "align_self": null,
       "border": null,
       "bottom": null,
       "display": null,
       "flex": null,
       "flex_flow": null,
       "grid_area": null,
       "grid_auto_columns": null,
       "grid_auto_flow": null,
       "grid_auto_rows": null,
       "grid_column": null,
       "grid_gap": null,
       "grid_row": null,
       "grid_template_areas": null,
       "grid_template_columns": null,
       "grid_template_rows": null,
       "height": null,
       "justify_content": null,
       "justify_items": null,
       "left": null,
       "margin": null,
       "max_height": null,
       "max_width": null,
       "min_height": null,
       "min_width": null,
       "object_fit": null,
       "object_position": null,
       "order": null,
       "overflow": null,
       "overflow_x": null,
       "overflow_y": null,
       "padding": null,
       "right": null,
       "top": null,
       "visibility": null,
       "width": null
      }
     },
     "4253d4a79b0c4a43b4bfb6b3e5f849d8": {
      "model_module": "@jupyter-widgets/controls",
      "model_module_version": "1.5.0",
      "model_name": "ProgressStyleModel",
      "state": {
       "_model_module": "@jupyter-widgets/controls",
       "_model_module_version": "1.5.0",
       "_model_name": "ProgressStyleModel",
       "_view_count": null,
       "_view_module": "@jupyter-widgets/base",
       "_view_module_version": "1.2.0",
       "_view_name": "StyleView",
       "bar_color": null,
       "description_width": ""
      }
     },
     "4c88b8f5bb254059b3291b850a3d0fc8": {
      "model_module": "@jupyter-widgets/controls",
      "model_module_version": "1.5.0",
      "model_name": "FloatProgressModel",
      "state": {
       "_dom_classes": [],
       "_model_module": "@jupyter-widgets/controls",
       "_model_module_version": "1.5.0",
       "_model_name": "FloatProgressModel",
       "_view_count": null,
       "_view_module": "@jupyter-widgets/controls",
       "_view_module_version": "1.5.0",
       "_view_name": "ProgressView",
       "bar_style": "success",
       "description": "",
       "description_tooltip": null,
       "layout": "IPY_MODEL_4100747c2d894a0b80a3afbf73308897",
       "max": 1.0,
       "min": 0.0,
       "orientation": "horizontal",
       "style": "IPY_MODEL_5b7b1bb48e384ea9a0b085a6f73a2639",
       "value": 1.0
      }
     },
     "5319ccb3f6fe411a9db9b67b404c09af": {
      "model_module": "@jupyter-widgets/controls",
      "model_module_version": "1.5.0",
      "model_name": "DescriptionStyleModel",
      "state": {
       "_model_module": "@jupyter-widgets/controls",
       "_model_module_version": "1.5.0",
       "_model_name": "DescriptionStyleModel",
       "_view_count": null,
       "_view_module": "@jupyter-widgets/base",
       "_view_module_version": "1.2.0",
       "_view_name": "StyleView",
       "description_width": ""
      }
     },
     "58a760da28eb4ed6b6150c7e55e86665": {
      "model_module": "@jupyter-widgets/controls",
      "model_module_version": "1.5.0",
      "model_name": "HTMLModel",
      "state": {
       "_dom_classes": [],
       "_model_module": "@jupyter-widgets/controls",
       "_model_module_version": "1.5.0",
       "_model_name": "HTMLModel",
       "_view_count": null,
       "_view_module": "@jupyter-widgets/controls",
       "_view_module_version": "1.5.0",
       "_view_name": "HTMLView",
       "description": "",
       "description_tooltip": null,
       "layout": "IPY_MODEL_688f11f348504176afc456fe3609c9c9",
       "placeholder": "​",
       "style": "IPY_MODEL_5319ccb3f6fe411a9db9b67b404c09af",
       "value": "Creating parquet from Arrow format: 100%"
      }
     },
     "59af7ec6fc9947808a062be52e2281f7": {
      "model_module": "@jupyter-widgets/controls",
      "model_module_version": "1.5.0",
      "model_name": "HTMLModel",
      "state": {
       "_dom_classes": [],
       "_model_module": "@jupyter-widgets/controls",
       "_model_module_version": "1.5.0",
       "_model_name": "HTMLModel",
       "_view_count": null,
       "_view_module": "@jupyter-widgets/controls",
       "_view_module_version": "1.5.0",
       "_view_name": "HTMLView",
       "description": "",
       "description_tooltip": null,
       "layout": "IPY_MODEL_38a6fc655b2b48ff9dd54bf7e4e16a8f",
       "placeholder": "​",
       "style": "IPY_MODEL_9a250c16a23747b3b42cefbbb7fb2e0e",
       "value": " 16/16 [00:05&lt;00:00,  3.07ba/s]"
      }
     },
     "5b7b1bb48e384ea9a0b085a6f73a2639": {
      "model_module": "@jupyter-widgets/controls",
      "model_module_version": "1.5.0",
      "model_name": "ProgressStyleModel",
      "state": {
       "_model_module": "@jupyter-widgets/controls",
       "_model_module_version": "1.5.0",
       "_model_name": "ProgressStyleModel",
       "_view_count": null,
       "_view_module": "@jupyter-widgets/base",
       "_view_module_version": "1.2.0",
       "_view_name": "StyleView",
       "bar_color": null,
       "description_width": ""
      }
     },
     "5ef3bc943ec747bea8a2d0b805024947": {
      "model_module": "@jupyter-widgets/controls",
      "model_module_version": "1.5.0",
      "model_name": "DescriptionStyleModel",
      "state": {
       "_model_module": "@jupyter-widgets/controls",
       "_model_module_version": "1.5.0",
       "_model_name": "DescriptionStyleModel",
       "_view_count": null,
       "_view_module": "@jupyter-widgets/base",
       "_view_module_version": "1.2.0",
       "_view_name": "StyleView",
       "description_width": ""
      }
     },
     "5fb9609905fc4660b93d6e8258d9e841": {
      "model_module": "@jupyter-widgets/controls",
      "model_module_version": "1.5.0",
      "model_name": "HBoxModel",
      "state": {
       "_dom_classes": [],
       "_model_module": "@jupyter-widgets/controls",
       "_model_module_version": "1.5.0",
       "_model_name": "HBoxModel",
       "_view_count": null,
       "_view_module": "@jupyter-widgets/controls",
       "_view_module_version": "1.5.0",
       "_view_name": "HBoxView",
       "box_style": "",
       "children": [
        "IPY_MODEL_58a760da28eb4ed6b6150c7e55e86665",
        "IPY_MODEL_d51b6553a451482a8c8cf6a483f4ef0f",
        "IPY_MODEL_ace4fa630eba440396f6f12d7a5a01b1"
       ],
       "layout": "IPY_MODEL_fc9ad0c60a12485aa90652dbc3ce46df"
      }
     },
     "688f11f348504176afc456fe3609c9c9": {
      "model_module": "@jupyter-widgets/base",
      "model_module_version": "1.2.0",
      "model_name": "LayoutModel",
      "state": {
       "_model_module": "@jupyter-widgets/base",
       "_model_module_version": "1.2.0",
       "_model_name": "LayoutModel",
       "_view_count": null,
       "_view_module": "@jupyter-widgets/base",
       "_view_module_version": "1.2.0",
       "_view_name": "LayoutView",
       "align_content": null,
       "align_items": null,
       "align_self": null,
       "border": null,
       "bottom": null,
       "display": null,
       "flex": null,
       "flex_flow": null,
       "grid_area": null,
       "grid_auto_columns": null,
       "grid_auto_flow": null,
       "grid_auto_rows": null,
       "grid_column": null,
       "grid_gap": null,
       "grid_row": null,
       "grid_template_areas": null,
       "grid_template_columns": null,
       "grid_template_rows": null,
       "height": null,
       "justify_content": null,
       "justify_items": null,
       "left": null,
       "margin": null,
       "max_height": null,
       "max_width": null,
       "min_height": null,
       "min_width": null,
       "object_fit": null,
       "object_position": null,
       "order": null,
       "overflow": null,
       "overflow_x": null,
       "overflow_y": null,
       "padding": null,
       "right": null,
       "top": null,
       "visibility": null,
       "width": null
      }
     },
     "69b1ed0f908c4d6d941122959de46ab2": {
      "model_module": "@jupyter-widgets/controls",
      "model_module_version": "1.5.0",
      "model_name": "HTMLModel",
      "state": {
       "_dom_classes": [],
       "_model_module": "@jupyter-widgets/controls",
       "_model_module_version": "1.5.0",
       "_model_name": "HTMLModel",
       "_view_count": null,
       "_view_module": "@jupyter-widgets/controls",
       "_view_module_version": "1.5.0",
       "_view_name": "HTMLView",
       "description": "",
       "description_tooltip": null,
       "layout": "IPY_MODEL_e0f05f5ee5aa44688e9e102530b0e3e8",
       "placeholder": "​",
       "style": "IPY_MODEL_5ef3bc943ec747bea8a2d0b805024947",
       "value": "Creating parquet from Arrow format: 100%"
      }
     },
     "6c5800f1d00641208def856cc71122de": {
      "model_module": "@jupyter-widgets/base",
      "model_module_version": "1.2.0",
      "model_name": "LayoutModel",
      "state": {
       "_model_module": "@jupyter-widgets/base",
       "_model_module_version": "1.2.0",
       "_model_name": "LayoutModel",
       "_view_count": null,
       "_view_module": "@jupyter-widgets/base",
       "_view_module_version": "1.2.0",
       "_view_name": "LayoutView",
       "align_content": null,
       "align_items": null,
       "align_self": null,
       "border": null,
       "bottom": null,
       "display": null,
       "flex": null,
       "flex_flow": null,
       "grid_area": null,
       "grid_auto_columns": null,
       "grid_auto_flow": null,
       "grid_auto_rows": null,
       "grid_column": null,
       "grid_gap": null,
       "grid_row": null,
       "grid_template_areas": null,
       "grid_template_columns": null,
       "grid_template_rows": null,
       "height": null,
       "justify_content": null,
       "justify_items": null,
       "left": null,
       "margin": null,
       "max_height": null,
       "max_width": null,
       "min_height": null,
       "min_width": null,
       "object_fit": null,
       "object_position": null,
       "order": null,
       "overflow": null,
       "overflow_x": null,
       "overflow_y": null,
       "padding": null,
       "right": null,
       "top": null,
       "visibility": null,
       "width": null
      }
     },
     "6e3db8bfe5f14bf49c17f396ff1ffc4b": {
      "model_module": "@jupyter-widgets/base",
      "model_module_version": "1.2.0",
      "model_name": "LayoutModel",
      "state": {
       "_model_module": "@jupyter-widgets/base",
       "_model_module_version": "1.2.0",
       "_model_name": "LayoutModel",
       "_view_count": null,
       "_view_module": "@jupyter-widgets/base",
       "_view_module_version": "1.2.0",
       "_view_name": "LayoutView",
       "align_content": null,
       "align_items": null,
       "align_self": null,
       "border": null,
       "bottom": null,
       "display": null,
       "flex": null,
       "flex_flow": null,
       "grid_area": null,
       "grid_auto_columns": null,
       "grid_auto_flow": null,
       "grid_auto_rows": null,
       "grid_column": null,
       "grid_gap": null,
       "grid_row": null,
       "grid_template_areas": null,
       "grid_template_columns": null,
       "grid_template_rows": null,
       "height": null,
       "justify_content": null,
       "justify_items": null,
       "left": null,
       "margin": null,
       "max_height": null,
       "max_width": null,
       "min_height": null,
       "min_width": null,
       "object_fit": null,
       "object_position": null,
       "order": null,
       "overflow": null,
       "overflow_x": null,
       "overflow_y": null,
       "padding": null,
       "right": null,
       "top": null,
       "visibility": null,
       "width": null
      }
     },
     "6ea064b26e104b79bd96718f01540454": {
      "model_module": "@jupyter-widgets/controls",
      "model_module_version": "1.5.0",
      "model_name": "DescriptionStyleModel",
      "state": {
       "_model_module": "@jupyter-widgets/controls",
       "_model_module_version": "1.5.0",
       "_model_name": "DescriptionStyleModel",
       "_view_count": null,
       "_view_module": "@jupyter-widgets/base",
       "_view_module_version": "1.2.0",
       "_view_name": "StyleView",
       "description_width": ""
      }
     },
     "707e7f07571646e0b3002bafc13a9703": {
      "model_module": "@jupyter-widgets/base",
      "model_module_version": "1.2.0",
      "model_name": "LayoutModel",
      "state": {
       "_model_module": "@jupyter-widgets/base",
       "_model_module_version": "1.2.0",
       "_model_name": "LayoutModel",
       "_view_count": null,
       "_view_module": "@jupyter-widgets/base",
       "_view_module_version": "1.2.0",
       "_view_name": "LayoutView",
       "align_content": null,
       "align_items": null,
       "align_self": null,
       "border": null,
       "bottom": null,
       "display": null,
       "flex": null,
       "flex_flow": null,
       "grid_area": null,
       "grid_auto_columns": null,
       "grid_auto_flow": null,
       "grid_auto_rows": null,
       "grid_column": null,
       "grid_gap": null,
       "grid_row": null,
       "grid_template_areas": null,
       "grid_template_columns": null,
       "grid_template_rows": null,
       "height": null,
       "justify_content": null,
       "justify_items": null,
       "left": null,
       "margin": null,
       "max_height": null,
       "max_width": null,
       "min_height": null,
       "min_width": null,
       "object_fit": null,
       "object_position": null,
       "order": null,
       "overflow": null,
       "overflow_x": null,
       "overflow_y": null,
       "padding": null,
       "right": null,
       "top": null,
       "visibility": null,
       "width": null
      }
     },
     "75441fa26daf4b80987e59c1ca545e91": {
      "model_module": "@jupyter-widgets/controls",
      "model_module_version": "1.5.0",
      "model_name": "ProgressStyleModel",
      "state": {
       "_model_module": "@jupyter-widgets/controls",
       "_model_module_version": "1.5.0",
       "_model_name": "ProgressStyleModel",
       "_view_count": null,
       "_view_module": "@jupyter-widgets/base",
       "_view_module_version": "1.2.0",
       "_view_name": "StyleView",
       "bar_color": null,
       "description_width": ""
      }
     },
     "7c80985216c34414bbba090675685ce5": {
      "model_module": "@jupyter-widgets/base",
      "model_module_version": "1.2.0",
      "model_name": "LayoutModel",
      "state": {
       "_model_module": "@jupyter-widgets/base",
       "_model_module_version": "1.2.0",
       "_model_name": "LayoutModel",
       "_view_count": null,
       "_view_module": "@jupyter-widgets/base",
       "_view_module_version": "1.2.0",
       "_view_name": "LayoutView",
       "align_content": null,
       "align_items": null,
       "align_self": null,
       "border": null,
       "bottom": null,
       "display": null,
       "flex": null,
       "flex_flow": null,
       "grid_area": null,
       "grid_auto_columns": null,
       "grid_auto_flow": null,
       "grid_auto_rows": null,
       "grid_column": null,
       "grid_gap": null,
       "grid_row": null,
       "grid_template_areas": null,
       "grid_template_columns": null,
       "grid_template_rows": null,
       "height": null,
       "justify_content": null,
       "justify_items": null,
       "left": null,
       "margin": null,
       "max_height": null,
       "max_width": null,
       "min_height": null,
       "min_width": null,
       "object_fit": null,
       "object_position": null,
       "order": null,
       "overflow": null,
       "overflow_x": null,
       "overflow_y": null,
       "padding": null,
       "right": null,
       "top": null,
       "visibility": null,
       "width": null
      }
     },
     "8a0a177e967f4db49d5f3938319bca4f": {
      "model_module": "@jupyter-widgets/controls",
      "model_module_version": "1.5.0",
      "model_name": "HTMLModel",
      "state": {
       "_dom_classes": [],
       "_model_module": "@jupyter-widgets/controls",
       "_model_module_version": "1.5.0",
       "_model_name": "HTMLModel",
       "_view_count": null,
       "_view_module": "@jupyter-widgets/controls",
       "_view_module_version": "1.5.0",
       "_view_name": "HTMLView",
       "description": "",
       "description_tooltip": null,
       "layout": "IPY_MODEL_04f4726a14bf4ce99c9dd5e68fc34ebe",
       "placeholder": "​",
       "style": "IPY_MODEL_f6996fdbc48849e486d22c4d30a2c8ac",
       "value": "Uploading the dataset shards: 100%"
      }
     },
     "8cda128c8d0e417284bd5771ada97641": {
      "model_module": "@jupyter-widgets/controls",
      "model_module_version": "1.5.0",
      "model_name": "DescriptionStyleModel",
      "state": {
       "_model_module": "@jupyter-widgets/controls",
       "_model_module_version": "1.5.0",
       "_model_name": "DescriptionStyleModel",
       "_view_count": null,
       "_view_module": "@jupyter-widgets/base",
       "_view_module_version": "1.2.0",
       "_view_name": "StyleView",
       "description_width": ""
      }
     },
     "8dd38c8b07ed463cbac03cf687774b03": {
      "model_module": "@jupyter-widgets/controls",
      "model_module_version": "1.5.0",
      "model_name": "HTMLModel",
      "state": {
       "_dom_classes": [],
       "_model_module": "@jupyter-widgets/controls",
       "_model_module_version": "1.5.0",
       "_model_name": "HTMLModel",
       "_view_count": null,
       "_view_module": "@jupyter-widgets/controls",
       "_view_module_version": "1.5.0",
       "_view_name": "HTMLView",
       "description": "",
       "description_tooltip": null,
       "layout": "IPY_MODEL_6c5800f1d00641208def856cc71122de",
       "placeholder": "​",
       "style": "IPY_MODEL_1d4f3ad1a93c45fda3fc73bd36e8bf9a",
       "value": "Uploading the dataset shards: 100%"
      }
     },
     "8f2bc01d78bc4a30ade72bb2ecfdecda": {
      "model_module": "@jupyter-widgets/base",
      "model_module_version": "1.2.0",
      "model_name": "LayoutModel",
      "state": {
       "_model_module": "@jupyter-widgets/base",
       "_model_module_version": "1.2.0",
       "_model_name": "LayoutModel",
       "_view_count": null,
       "_view_module": "@jupyter-widgets/base",
       "_view_module_version": "1.2.0",
       "_view_name": "LayoutView",
       "align_content": null,
       "align_items": null,
       "align_self": null,
       "border": null,
       "bottom": null,
       "display": null,
       "flex": null,
       "flex_flow": null,
       "grid_area": null,
       "grid_auto_columns": null,
       "grid_auto_flow": null,
       "grid_auto_rows": null,
       "grid_column": null,
       "grid_gap": null,
       "grid_row": null,
       "grid_template_areas": null,
       "grid_template_columns": null,
       "grid_template_rows": null,
       "height": null,
       "justify_content": null,
       "justify_items": null,
       "left": null,
       "margin": null,
       "max_height": null,
       "max_width": null,
       "min_height": null,
       "min_width": null,
       "object_fit": null,
       "object_position": null,
       "order": null,
       "overflow": null,
       "overflow_x": null,
       "overflow_y": null,
       "padding": null,
       "right": null,
       "top": null,
       "visibility": null,
       "width": null
      }
     },
     "94a7fae686b24cbc882d7e881e9c8bc3": {
      "model_module": "@jupyter-widgets/controls",
      "model_module_version": "1.5.0",
      "model_name": "DescriptionStyleModel",
      "state": {
       "_model_module": "@jupyter-widgets/controls",
       "_model_module_version": "1.5.0",
       "_model_name": "DescriptionStyleModel",
       "_view_count": null,
       "_view_module": "@jupyter-widgets/base",
       "_view_module_version": "1.2.0",
       "_view_name": "StyleView",
       "description_width": ""
      }
     },
     "9a250c16a23747b3b42cefbbb7fb2e0e": {
      "model_module": "@jupyter-widgets/controls",
      "model_module_version": "1.5.0",
      "model_name": "DescriptionStyleModel",
      "state": {
       "_model_module": "@jupyter-widgets/controls",
       "_model_module_version": "1.5.0",
       "_model_name": "DescriptionStyleModel",
       "_view_count": null,
       "_view_module": "@jupyter-widgets/base",
       "_view_module_version": "1.2.0",
       "_view_name": "StyleView",
       "description_width": ""
      }
     },
     "9fd089fd282449dd9e329ffbcd28ba63": {
      "model_module": "@jupyter-widgets/controls",
      "model_module_version": "1.5.0",
      "model_name": "ProgressStyleModel",
      "state": {
       "_model_module": "@jupyter-widgets/controls",
       "_model_module_version": "1.5.0",
       "_model_name": "ProgressStyleModel",
       "_view_count": null,
       "_view_module": "@jupyter-widgets/base",
       "_view_module_version": "1.2.0",
       "_view_name": "StyleView",
       "bar_color": null,
       "description_width": ""
      }
     },
     "a5fbd8a339714de2905d599b103b21e3": {
      "model_module": "@jupyter-widgets/base",
      "model_module_version": "1.2.0",
      "model_name": "LayoutModel",
      "state": {
       "_model_module": "@jupyter-widgets/base",
       "_model_module_version": "1.2.0",
       "_model_name": "LayoutModel",
       "_view_count": null,
       "_view_module": "@jupyter-widgets/base",
       "_view_module_version": "1.2.0",
       "_view_name": "LayoutView",
       "align_content": null,
       "align_items": null,
       "align_self": null,
       "border": null,
       "bottom": null,
       "display": null,
       "flex": null,
       "flex_flow": null,
       "grid_area": null,
       "grid_auto_columns": null,
       "grid_auto_flow": null,
       "grid_auto_rows": null,
       "grid_column": null,
       "grid_gap": null,
       "grid_row": null,
       "grid_template_areas": null,
       "grid_template_columns": null,
       "grid_template_rows": null,
       "height": null,
       "justify_content": null,
       "justify_items": null,
       "left": null,
       "margin": null,
       "max_height": null,
       "max_width": null,
       "min_height": null,
       "min_width": null,
       "object_fit": null,
       "object_position": null,
       "order": null,
       "overflow": null,
       "overflow_x": null,
       "overflow_y": null,
       "padding": null,
       "right": null,
       "top": null,
       "visibility": null,
       "width": null
      }
     },
     "ace4fa630eba440396f6f12d7a5a01b1": {
      "model_module": "@jupyter-widgets/controls",
      "model_module_version": "1.5.0",
      "model_name": "HTMLModel",
      "state": {
       "_dom_classes": [],
       "_model_module": "@jupyter-widgets/controls",
       "_model_module_version": "1.5.0",
       "_model_name": "HTMLModel",
       "_view_count": null,
       "_view_module": "@jupyter-widgets/controls",
       "_view_module_version": "1.5.0",
       "_view_name": "HTMLView",
       "description": "",
       "description_tooltip": null,
       "layout": "IPY_MODEL_a5fbd8a339714de2905d599b103b21e3",
       "placeholder": "​",
       "style": "IPY_MODEL_eb73adf4126d4623b3d32f930fa8e357",
       "value": " 16/16 [00:05&lt;00:00,  2.91ba/s]"
      }
     },
     "b414a7ab081740fe90ab4b11244de495": {
      "model_module": "@jupyter-widgets/controls",
      "model_module_version": "1.5.0",
      "model_name": "HBoxModel",
      "state": {
       "_dom_classes": [],
       "_model_module": "@jupyter-widgets/controls",
       "_model_module_version": "1.5.0",
       "_model_name": "HBoxModel",
       "_view_count": null,
       "_view_module": "@jupyter-widgets/controls",
       "_view_module_version": "1.5.0",
       "_view_name": "HBoxView",
       "box_style": "",
       "children": [
        "IPY_MODEL_8dd38c8b07ed463cbac03cf687774b03",
        "IPY_MODEL_cc387df4dda54f498c768d44ad6cc131",
        "IPY_MODEL_e84bb5a06b5b432faf1d6995483d325d"
       ],
       "layout": "IPY_MODEL_6e3db8bfe5f14bf49c17f396ff1ffc4b"
      }
     },
     "c11382e0043343cbbb8f76c1c92ac3d8": {
      "model_module": "@jupyter-widgets/controls",
      "model_module_version": "1.5.0",
      "model_name": "DescriptionStyleModel",
      "state": {
       "_model_module": "@jupyter-widgets/controls",
       "_model_module_version": "1.5.0",
       "_model_name": "DescriptionStyleModel",
       "_view_count": null,
       "_view_module": "@jupyter-widgets/base",
       "_view_module_version": "1.2.0",
       "_view_name": "StyleView",
       "description_width": ""
      }
     },
     "c4bd161c323f4ac09045c7afdedfe06a": {
      "model_module": "@jupyter-widgets/controls",
      "model_module_version": "1.5.0",
      "model_name": "DescriptionStyleModel",
      "state": {
       "_model_module": "@jupyter-widgets/controls",
       "_model_module_version": "1.5.0",
       "_model_name": "DescriptionStyleModel",
       "_view_count": null,
       "_view_module": "@jupyter-widgets/base",
       "_view_module_version": "1.2.0",
       "_view_name": "StyleView",
       "description_width": ""
      }
     },
     "c5bb9ba9d59e46be9df5c4df520fedaf": {
      "model_module": "@jupyter-widgets/controls",
      "model_module_version": "1.5.0",
      "model_name": "HBoxModel",
      "state": {
       "_dom_classes": [],
       "_model_module": "@jupyter-widgets/controls",
       "_model_module_version": "1.5.0",
       "_model_name": "HBoxModel",
       "_view_count": null,
       "_view_module": "@jupyter-widgets/controls",
       "_view_module_version": "1.5.0",
       "_view_name": "HBoxView",
       "box_style": "",
       "children": [
        "IPY_MODEL_8a0a177e967f4db49d5f3938319bca4f",
        "IPY_MODEL_4c88b8f5bb254059b3291b850a3d0fc8",
        "IPY_MODEL_e793fca53e86496f9a7a5019e4ab7967"
       ],
       "layout": "IPY_MODEL_e9ee618c25814b1ba3d6173265baa29b"
      }
     },
     "c60f8947b9fc4ed5a18f108e5b3244db": {
      "model_module": "@jupyter-widgets/controls",
      "model_module_version": "1.5.0",
      "model_name": "HTMLModel",
      "state": {
       "_dom_classes": [],
       "_model_module": "@jupyter-widgets/controls",
       "_model_module_version": "1.5.0",
       "_model_name": "HTMLModel",
       "_view_count": null,
       "_view_module": "@jupyter-widgets/controls",
       "_view_module_version": "1.5.0",
       "_view_name": "HTMLView",
       "description": "",
       "description_tooltip": null,
       "layout": "IPY_MODEL_707e7f07571646e0b3002bafc13a9703",
       "placeholder": "​",
       "style": "IPY_MODEL_d64edbbb8a8445c98e518705c0a8c58d",
       "value": " 1/1 [00:07&lt;00:00,  7.10s/it]"
      }
     },
     "cc387df4dda54f498c768d44ad6cc131": {
      "model_module": "@jupyter-widgets/controls",
      "model_module_version": "1.5.0",
      "model_name": "FloatProgressModel",
      "state": {
       "_dom_classes": [],
       "_model_module": "@jupyter-widgets/controls",
       "_model_module_version": "1.5.0",
       "_model_name": "FloatProgressModel",
       "_view_count": null,
       "_view_module": "@jupyter-widgets/controls",
       "_view_module_version": "1.5.0",
       "_view_name": "ProgressView",
       "bar_style": "success",
       "description": "",
       "description_tooltip": null,
       "layout": "IPY_MODEL_ece0c9c94bf64afeba2cb942ef89296a",
       "max": 1.0,
       "min": 0.0,
       "orientation": "horizontal",
       "style": "IPY_MODEL_9fd089fd282449dd9e329ffbcd28ba63",
       "value": 1.0
      }
     },
     "d51b6553a451482a8c8cf6a483f4ef0f": {
      "model_module": "@jupyter-widgets/controls",
      "model_module_version": "1.5.0",
      "model_name": "FloatProgressModel",
      "state": {
       "_dom_classes": [],
       "_model_module": "@jupyter-widgets/controls",
       "_model_module_version": "1.5.0",
       "_model_name": "FloatProgressModel",
       "_view_count": null,
       "_view_module": "@jupyter-widgets/controls",
       "_view_module_version": "1.5.0",
       "_view_name": "ProgressView",
       "bar_style": "success",
       "description": "",
       "description_tooltip": null,
       "layout": "IPY_MODEL_13652648c4e44d4fb08c6fe490a75c00",
       "max": 16.0,
       "min": 0.0,
       "orientation": "horizontal",
       "style": "IPY_MODEL_14732615eaa140c28f8931548b89129b",
       "value": 16.0
      }
     },
     "d5e72e040fc54e979dac0ad9955f6b12": {
      "model_module": "@jupyter-widgets/controls",
      "model_module_version": "1.5.0",
      "model_name": "HTMLModel",
      "state": {
       "_dom_classes": [],
       "_model_module": "@jupyter-widgets/controls",
       "_model_module_version": "1.5.0",
       "_model_name": "HTMLModel",
       "_view_count": null,
       "_view_module": "@jupyter-widgets/controls",
       "_view_module_version": "1.5.0",
       "_view_name": "HTMLView",
       "description": "",
       "description_tooltip": null,
       "layout": "IPY_MODEL_1ef0799dfcb449c1affb555a5b47d0cc",
       "placeholder": "​",
       "style": "IPY_MODEL_c11382e0043343cbbb8f76c1c92ac3d8",
       "value": " 74/74 [00:26&lt;00:00,  3.04ba/s]"
      }
     },
     "d64edbbb8a8445c98e518705c0a8c58d": {
      "model_module": "@jupyter-widgets/controls",
      "model_module_version": "1.5.0",
      "model_name": "DescriptionStyleModel",
      "state": {
       "_model_module": "@jupyter-widgets/controls",
       "_model_module_version": "1.5.0",
       "_model_name": "DescriptionStyleModel",
       "_view_count": null,
       "_view_module": "@jupyter-widgets/base",
       "_view_module_version": "1.2.0",
       "_view_name": "StyleView",
       "description_width": ""
      }
     },
     "e0f05f5ee5aa44688e9e102530b0e3e8": {
      "model_module": "@jupyter-widgets/base",
      "model_module_version": "1.2.0",
      "model_name": "LayoutModel",
      "state": {
       "_model_module": "@jupyter-widgets/base",
       "_model_module_version": "1.2.0",
       "_model_name": "LayoutModel",
       "_view_count": null,
       "_view_module": "@jupyter-widgets/base",
       "_view_module_version": "1.2.0",
       "_view_name": "LayoutView",
       "align_content": null,
       "align_items": null,
       "align_self": null,
       "border": null,
       "bottom": null,
       "display": null,
       "flex": null,
       "flex_flow": null,
       "grid_area": null,
       "grid_auto_columns": null,
       "grid_auto_flow": null,
       "grid_auto_rows": null,
       "grid_column": null,
       "grid_gap": null,
       "grid_row": null,
       "grid_template_areas": null,
       "grid_template_columns": null,
       "grid_template_rows": null,
       "height": null,
       "justify_content": null,
       "justify_items": null,
       "left": null,
       "margin": null,
       "max_height": null,
       "max_width": null,
       "min_height": null,
       "min_width": null,
       "object_fit": null,
       "object_position": null,
       "order": null,
       "overflow": null,
       "overflow_x": null,
       "overflow_y": null,
       "padding": null,
       "right": null,
       "top": null,
       "visibility": null,
       "width": null
      }
     },
     "e5792b47a6ff4951a5430b776757de4b": {
      "model_module": "@jupyter-widgets/base",
      "model_module_version": "1.2.0",
      "model_name": "LayoutModel",
      "state": {
       "_model_module": "@jupyter-widgets/base",
       "_model_module_version": "1.2.0",
       "_model_name": "LayoutModel",
       "_view_count": null,
       "_view_module": "@jupyter-widgets/base",
       "_view_module_version": "1.2.0",
       "_view_name": "LayoutView",
       "align_content": null,
       "align_items": null,
       "align_self": null,
       "border": null,
       "bottom": null,
       "display": null,
       "flex": null,
       "flex_flow": null,
       "grid_area": null,
       "grid_auto_columns": null,
       "grid_auto_flow": null,
       "grid_auto_rows": null,
       "grid_column": null,
       "grid_gap": null,
       "grid_row": null,
       "grid_template_areas": null,
       "grid_template_columns": null,
       "grid_template_rows": null,
       "height": null,
       "justify_content": null,
       "justify_items": null,
       "left": null,
       "margin": null,
       "max_height": null,
       "max_width": null,
       "min_height": null,
       "min_width": null,
       "object_fit": null,
       "object_position": null,
       "order": null,
       "overflow": null,
       "overflow_x": null,
       "overflow_y": null,
       "padding": null,
       "right": null,
       "top": null,
       "visibility": null,
       "width": null
      }
     },
     "e793fca53e86496f9a7a5019e4ab7967": {
      "model_module": "@jupyter-widgets/controls",
      "model_module_version": "1.5.0",
      "model_name": "HTMLModel",
      "state": {
       "_dom_classes": [],
       "_model_module": "@jupyter-widgets/controls",
       "_model_module_version": "1.5.0",
       "_model_name": "HTMLModel",
       "_view_count": null,
       "_view_module": "@jupyter-widgets/controls",
       "_view_module_version": "1.5.0",
       "_view_name": "HTMLView",
       "description": "",
       "description_tooltip": null,
       "layout": "IPY_MODEL_0637970f58874bbba8fe49b43f75d696",
       "placeholder": "​",
       "style": "IPY_MODEL_6ea064b26e104b79bd96718f01540454",
       "value": " 1/1 [00:07&lt;00:00,  7.56s/it]"
      }
     },
     "e84bb5a06b5b432faf1d6995483d325d": {
      "model_module": "@jupyter-widgets/controls",
      "model_module_version": "1.5.0",
      "model_name": "HTMLModel",
      "state": {
       "_dom_classes": [],
       "_model_module": "@jupyter-widgets/controls",
       "_model_module_version": "1.5.0",
       "_model_name": "HTMLModel",
       "_view_count": null,
       "_view_module": "@jupyter-widgets/controls",
       "_view_module_version": "1.5.0",
       "_view_name": "HTMLView",
       "description": "",
       "description_tooltip": null,
       "layout": "IPY_MODEL_8f2bc01d78bc4a30ade72bb2ecfdecda",
       "placeholder": "​",
       "style": "IPY_MODEL_94a7fae686b24cbc882d7e881e9c8bc3",
       "value": " 1/1 [00:30&lt;00:00, 30.73s/it]"
      }
     },
     "e8d2817153a8487a8863c87eeb7b8831": {
      "model_module": "@jupyter-widgets/base",
      "model_module_version": "1.2.0",
      "model_name": "LayoutModel",
      "state": {
       "_model_module": "@jupyter-widgets/base",
       "_model_module_version": "1.2.0",
       "_model_name": "LayoutModel",
       "_view_count": null,
       "_view_module": "@jupyter-widgets/base",
       "_view_module_version": "1.2.0",
       "_view_name": "LayoutView",
       "align_content": null,
       "align_items": null,
       "align_self": null,
       "border": null,
       "bottom": null,
       "display": null,
       "flex": null,
       "flex_flow": null,
       "grid_area": null,
       "grid_auto_columns": null,
       "grid_auto_flow": null,
       "grid_auto_rows": null,
       "grid_column": null,
       "grid_gap": null,
       "grid_row": null,
       "grid_template_areas": null,
       "grid_template_columns": null,
       "grid_template_rows": null,
       "height": null,
       "justify_content": null,
       "justify_items": null,
       "left": null,
       "margin": null,
       "max_height": null,
       "max_width": null,
       "min_height": null,
       "min_width": null,
       "object_fit": null,
       "object_position": null,
       "order": null,
       "overflow": null,
       "overflow_x": null,
       "overflow_y": null,
       "padding": null,
       "right": null,
       "top": null,
       "visibility": null,
       "width": null
      }
     },
     "e91e32cd15a148478872c9c1999a0deb": {
      "model_module": "@jupyter-widgets/controls",
      "model_module_version": "1.5.0",
      "model_name": "HTMLModel",
      "state": {
       "_dom_classes": [],
       "_model_module": "@jupyter-widgets/controls",
       "_model_module_version": "1.5.0",
       "_model_name": "HTMLModel",
       "_view_count": null,
       "_view_module": "@jupyter-widgets/controls",
       "_view_module_version": "1.5.0",
       "_view_name": "HTMLView",
       "description": "",
       "description_tooltip": null,
       "layout": "IPY_MODEL_f97b515a72cb4e9d85a61fe6da41a91c",
       "placeholder": "​",
       "style": "IPY_MODEL_c4bd161c323f4ac09045c7afdedfe06a",
       "value": "Uploading the dataset shards: 100%"
      }
     },
     "e946ba9df469403f970a8bb945eb7d62": {
      "model_module": "@jupyter-widgets/controls",
      "model_module_version": "1.5.0",
      "model_name": "FloatProgressModel",
      "state": {
       "_dom_classes": [],
       "_model_module": "@jupyter-widgets/controls",
       "_model_module_version": "1.5.0",
       "_model_name": "FloatProgressModel",
       "_view_count": null,
       "_view_module": "@jupyter-widgets/controls",
       "_view_module_version": "1.5.0",
       "_view_name": "ProgressView",
       "bar_style": "success",
       "description": "",
       "description_tooltip": null,
       "layout": "IPY_MODEL_e5792b47a6ff4951a5430b776757de4b",
       "max": 1.0,
       "min": 0.0,
       "orientation": "horizontal",
       "style": "IPY_MODEL_4253d4a79b0c4a43b4bfb6b3e5f849d8",
       "value": 1.0
      }
     },
     "e9ee618c25814b1ba3d6173265baa29b": {
      "model_module": "@jupyter-widgets/base",
      "model_module_version": "1.2.0",
      "model_name": "LayoutModel",
      "state": {
       "_model_module": "@jupyter-widgets/base",
       "_model_module_version": "1.2.0",
       "_model_name": "LayoutModel",
       "_view_count": null,
       "_view_module": "@jupyter-widgets/base",
       "_view_module_version": "1.2.0",
       "_view_name": "LayoutView",
       "align_content": null,
       "align_items": null,
       "align_self": null,
       "border": null,
       "bottom": null,
       "display": null,
       "flex": null,
       "flex_flow": null,
       "grid_area": null,
       "grid_auto_columns": null,
       "grid_auto_flow": null,
       "grid_auto_rows": null,
       "grid_column": null,
       "grid_gap": null,
       "grid_row": null,
       "grid_template_areas": null,
       "grid_template_columns": null,
       "grid_template_rows": null,
       "height": null,
       "justify_content": null,
       "justify_items": null,
       "left": null,
       "margin": null,
       "max_height": null,
       "max_width": null,
       "min_height": null,
       "min_width": null,
       "object_fit": null,
       "object_position": null,
       "order": null,
       "overflow": null,
       "overflow_x": null,
       "overflow_y": null,
       "padding": null,
       "right": null,
       "top": null,
       "visibility": null,
       "width": null
      }
     },
     "eb73adf4126d4623b3d32f930fa8e357": {
      "model_module": "@jupyter-widgets/controls",
      "model_module_version": "1.5.0",
      "model_name": "DescriptionStyleModel",
      "state": {
       "_model_module": "@jupyter-widgets/controls",
       "_model_module_version": "1.5.0",
       "_model_name": "DescriptionStyleModel",
       "_view_count": null,
       "_view_module": "@jupyter-widgets/base",
       "_view_module_version": "1.2.0",
       "_view_name": "StyleView",
       "description_width": ""
      }
     },
     "ece0c9c94bf64afeba2cb942ef89296a": {
      "model_module": "@jupyter-widgets/base",
      "model_module_version": "1.2.0",
      "model_name": "LayoutModel",
      "state": {
       "_model_module": "@jupyter-widgets/base",
       "_model_module_version": "1.2.0",
       "_model_name": "LayoutModel",
       "_view_count": null,
       "_view_module": "@jupyter-widgets/base",
       "_view_module_version": "1.2.0",
       "_view_name": "LayoutView",
       "align_content": null,
       "align_items": null,
       "align_self": null,
       "border": null,
       "bottom": null,
       "display": null,
       "flex": null,
       "flex_flow": null,
       "grid_area": null,
       "grid_auto_columns": null,
       "grid_auto_flow": null,
       "grid_auto_rows": null,
       "grid_column": null,
       "grid_gap": null,
       "grid_row": null,
       "grid_template_areas": null,
       "grid_template_columns": null,
       "grid_template_rows": null,
       "height": null,
       "justify_content": null,
       "justify_items": null,
       "left": null,
       "margin": null,
       "max_height": null,
       "max_width": null,
       "min_height": null,
       "min_width": null,
       "object_fit": null,
       "object_position": null,
       "order": null,
       "overflow": null,
       "overflow_x": null,
       "overflow_y": null,
       "padding": null,
       "right": null,
       "top": null,
       "visibility": null,
       "width": null
      }
     },
     "f1bed289788d4321988989036ba67f32": {
      "model_module": "@jupyter-widgets/controls",
      "model_module_version": "1.5.0",
      "model_name": "HBoxModel",
      "state": {
       "_dom_classes": [],
       "_model_module": "@jupyter-widgets/controls",
       "_model_module_version": "1.5.0",
       "_model_name": "HBoxModel",
       "_view_count": null,
       "_view_module": "@jupyter-widgets/controls",
       "_view_module_version": "1.5.0",
       "_view_name": "HBoxView",
       "box_style": "",
       "children": [
        "IPY_MODEL_69b1ed0f908c4d6d941122959de46ab2",
        "IPY_MODEL_2fca5a03bedc4f1fa4efba45eac02e7f",
        "IPY_MODEL_d5e72e040fc54e979dac0ad9955f6b12"
       ],
       "layout": "IPY_MODEL_06a03988f17d4db7bdc9a5ae771365c6"
      }
     },
     "f44e1c6bdc6c45a580d21523cdef57fe": {
      "model_module": "@jupyter-widgets/controls",
      "model_module_version": "1.5.0",
      "model_name": "HBoxModel",
      "state": {
       "_dom_classes": [],
       "_model_module": "@jupyter-widgets/controls",
       "_model_module_version": "1.5.0",
       "_model_name": "HBoxModel",
       "_view_count": null,
       "_view_module": "@jupyter-widgets/controls",
       "_view_module_version": "1.5.0",
       "_view_name": "HBoxView",
       "box_style": "",
       "children": [
        "IPY_MODEL_249e237bc2544e3baebd6481fbddf0e0",
        "IPY_MODEL_3026beb62d5b4eba90ac581909e25bbc",
        "IPY_MODEL_59af7ec6fc9947808a062be52e2281f7"
       ],
       "layout": "IPY_MODEL_2df17048684a41b798753141e80d71ec"
      }
     },
     "f4cb4d5fe33640d1ae76efbd7984a211": {
      "model_module": "@jupyter-widgets/base",
      "model_module_version": "1.2.0",
      "model_name": "LayoutModel",
      "state": {
       "_model_module": "@jupyter-widgets/base",
       "_model_module_version": "1.2.0",
       "_model_name": "LayoutModel",
       "_view_count": null,
       "_view_module": "@jupyter-widgets/base",
       "_view_module_version": "1.2.0",
       "_view_name": "LayoutView",
       "align_content": null,
       "align_items": null,
       "align_self": null,
       "border": null,
       "bottom": null,
       "display": null,
       "flex": null,
       "flex_flow": null,
       "grid_area": null,
       "grid_auto_columns": null,
       "grid_auto_flow": null,
       "grid_auto_rows": null,
       "grid_column": null,
       "grid_gap": null,
       "grid_row": null,
       "grid_template_areas": null,
       "grid_template_columns": null,
       "grid_template_rows": null,
       "height": null,
       "justify_content": null,
       "justify_items": null,
       "left": null,
       "margin": null,
       "max_height": null,
       "max_width": null,
       "min_height": null,
       "min_width": null,
       "object_fit": null,
       "object_position": null,
       "order": null,
       "overflow": null,
       "overflow_x": null,
       "overflow_y": null,
       "padding": null,
       "right": null,
       "top": null,
       "visibility": null,
       "width": null
      }
     },
     "f6996fdbc48849e486d22c4d30a2c8ac": {
      "model_module": "@jupyter-widgets/controls",
      "model_module_version": "1.5.0",
      "model_name": "DescriptionStyleModel",
      "state": {
       "_model_module": "@jupyter-widgets/controls",
       "_model_module_version": "1.5.0",
       "_model_name": "DescriptionStyleModel",
       "_view_count": null,
       "_view_module": "@jupyter-widgets/base",
       "_view_module_version": "1.2.0",
       "_view_name": "StyleView",
       "description_width": ""
      }
     },
     "f8fb37ca469e4a06be51a95951d99743": {
      "model_module": "@jupyter-widgets/controls",
      "model_module_version": "1.5.0",
      "model_name": "HBoxModel",
      "state": {
       "_dom_classes": [],
       "_model_module": "@jupyter-widgets/controls",
       "_model_module_version": "1.5.0",
       "_model_name": "HBoxModel",
       "_view_count": null,
       "_view_module": "@jupyter-widgets/controls",
       "_view_module_version": "1.5.0",
       "_view_name": "HBoxView",
       "box_style": "",
       "children": [
        "IPY_MODEL_e91e32cd15a148478872c9c1999a0deb",
        "IPY_MODEL_e946ba9df469403f970a8bb945eb7d62",
        "IPY_MODEL_c60f8947b9fc4ed5a18f108e5b3244db"
       ],
       "layout": "IPY_MODEL_0c8063926c8a41a99db6522fceb4337c"
      }
     },
     "f97b515a72cb4e9d85a61fe6da41a91c": {
      "model_module": "@jupyter-widgets/base",
      "model_module_version": "1.2.0",
      "model_name": "LayoutModel",
      "state": {
       "_model_module": "@jupyter-widgets/base",
       "_model_module_version": "1.2.0",
       "_model_name": "LayoutModel",
       "_view_count": null,
       "_view_module": "@jupyter-widgets/base",
       "_view_module_version": "1.2.0",
       "_view_name": "LayoutView",
       "align_content": null,
       "align_items": null,
       "align_self": null,
       "border": null,
       "bottom": null,
       "display": null,
       "flex": null,
       "flex_flow": null,
       "grid_area": null,
       "grid_auto_columns": null,
       "grid_auto_flow": null,
       "grid_auto_rows": null,
       "grid_column": null,
       "grid_gap": null,
       "grid_row": null,
       "grid_template_areas": null,
       "grid_template_columns": null,
       "grid_template_rows": null,
       "height": null,
       "justify_content": null,
       "justify_items": null,
       "left": null,
       "margin": null,
       "max_height": null,
       "max_width": null,
       "min_height": null,
       "min_width": null,
       "object_fit": null,
       "object_position": null,
       "order": null,
       "overflow": null,
       "overflow_x": null,
       "overflow_y": null,
       "padding": null,
       "right": null,
       "top": null,
       "visibility": null,
       "width": null
      }
     },
     "fc9ad0c60a12485aa90652dbc3ce46df": {
      "model_module": "@jupyter-widgets/base",
      "model_module_version": "1.2.0",
      "model_name": "LayoutModel",
      "state": {
       "_model_module": "@jupyter-widgets/base",
       "_model_module_version": "1.2.0",
       "_model_name": "LayoutModel",
       "_view_count": null,
       "_view_module": "@jupyter-widgets/base",
       "_view_module_version": "1.2.0",
       "_view_name": "LayoutView",
       "align_content": null,
       "align_items": null,
       "align_self": null,
       "border": null,
       "bottom": null,
       "display": null,
       "flex": null,
       "flex_flow": null,
       "grid_area": null,
       "grid_auto_columns": null,
       "grid_auto_flow": null,
       "grid_auto_rows": null,
       "grid_column": null,
       "grid_gap": null,
       "grid_row": null,
       "grid_template_areas": null,
       "grid_template_columns": null,
       "grid_template_rows": null,
       "height": null,
       "justify_content": null,
       "justify_items": null,
       "left": null,
       "margin": null,
       "max_height": null,
       "max_width": null,
       "min_height": null,
       "min_width": null,
       "object_fit": null,
       "object_position": null,
       "order": null,
       "overflow": null,
       "overflow_x": null,
       "overflow_y": null,
       "padding": null,
       "right": null,
       "top": null,
       "visibility": null,
       "width": null
      }
     }
    },
    "version_major": 2,
    "version_minor": 0
   }
  }
 },
 "nbformat": 4,
 "nbformat_minor": 5
}
