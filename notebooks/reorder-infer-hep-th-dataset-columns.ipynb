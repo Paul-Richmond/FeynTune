{
 "cells": [
  {
   "cell_type": "markdown",
   "metadata": {},
   "source": [
    "# How to rearrange columns within a dataset\n",
    "\n",
    "This is useful if you run a script which appends a new column to a dataset and that new column needs to be moved."
   ]
  },
  {
   "cell_type": "code",
   "execution_count": null,
   "metadata": {
    "_cell_guid": "b1076dfc-b9ad-4769-8c92-a6c4dae69d19",
    "_uuid": "8f2839f25d086af736a60e9eeb907d3b93b6e0e5"
   },
   "outputs": [],
   "source": [
    "import os\n",
    "\n",
    "import pandas as pd\n",
    "import huggingface_hub\n",
    "from datasets import load_dataset, Dataset\n",
    "\n",
    "%load_ext dotenv\n",
    "%dotenv"
   ]
  },
  {
   "cell_type": "code",
   "execution_count": null,
   "metadata": {},
   "outputs": [],
   "source": [
    "try:\n",
    "    hf_token = os.getenv(\"HUGGINGFACE_API_KEY\")\n",
    "    huggingface_hub.login(token=hf_token)\n",
    "except:\n",
    "    huggingface_hub.login()"
   ]
  },
  {
   "cell_type": "code",
   "execution_count": null,
   "metadata": {},
   "outputs": [],
   "source": [
    "ds_hep_th = load_dataset('LLMsForHepth/infer_hep_th', split='test')"
   ]
  },
  {
   "cell_type": "code",
   "execution_count": null,
   "metadata": {},
   "outputs": [],
   "source": [
    "ds_hep_th.column_names"
   ]
  },
  {
   "cell_type": "code",
   "execution_count": null,
   "metadata": {},
   "outputs": [],
   "source": [
    "common_cols = ['id',\n",
    " 'submitter',\n",
    " 'authors',\n",
    " 'title',\n",
    " 'comments',\n",
    " 'journal-ref',\n",
    " 'doi',\n",
    " 'report-no',\n",
    " 'categories',\n",
    " 'license',\n",
    " 'orig_abstract',\n",
    " 'versions',\n",
    " 'update_date',\n",
    " 'authors_parsed',\n",
    " 'abstract',\n",
    " 'prompt',\n",
    " 'y_true',]\n",
    "\n",
    "reorder_cols = ['comp_Llama-3.1-8B',\n",
    " 'preds_Llama-3.1-8B',\n",
    " 'comp_s1-L-3.1-8B-base',\n",
    " 'preds_s1-L-3.1-8B-base',\n",
    " 'comp_s2-L-3.1-8B-base',\n",
    " 'preds_s2-L-3.1-8B-base',\n",
    " 'comp_s3-L-3.1-8B-base_v3',\n",
    " 'preds_s3-L-3.1-8B-base_v3',\n",
    " 'comp_s4-L-3.1-8B-base',\n",
    " 'preds_s4-L-3.1-8B-base',\n",
    " 'comp_s5-L-3.1-8B-base',\n",
    " 'preds_s5-L-3.1-8B-base',\n",
    " 'comp_s6-L-3.1-8B-base',\n",
    " 'preds_s6-L-3.1-8B-base',\n",
    " 'comp_s7-L-3.1-8B-base',\n",
    " 'preds_s7-L-3.1-8B-base',\n",
    " 'comp_s8-L-3.1-8B-base',\n",
    " 'preds_s8-L-3.1-8B-base',\n",
    " 'comp_s9-L-3.1-8B-base',\n",
    " 'preds_s9-L-3.1-8B-base',\n",
    " 'comp_s10-L-3.1-8B-base',\n",
    " 'preds_s10-L-3.1-8B-base',\n",
    "'comp_s1-L-3.1-8B-qkv_v2',\n",
    " 'preds_s1-L-3.1-8B-qkv_v2',\n",
    " 'comp_s2-L-3.1-8B-qkv',\n",
    " 'preds_s2-L-3.1-8B-qkv',\n",
    " 'comp_s3-L-3.1-8B-qkv',\n",
    " 'preds_s3-L-3.1-8B-qkv',\n",
    " 'comp_s4-L-3.1-8B-qkv',\n",
    " 'preds_s4-L-3.1-8B-qkv',\n",
    " 'comp_s5-L-3.1-8B-qkv',\n",
    " 'preds_s5-L-3.1-8B-qkv',\n",
    " 'comp_s6-L-3.1-8B-qkv',\n",
    " 'preds_s6-L-3.1-8B-qkv',\n",
    " 'comp_s7-L-3.1-8B-qkv2',\n",
    " 'preds_s7-L-3.1-8B-qkv2',\n",
    " 'comp_s8-L-3.1-8B-qkv',\n",
    " 'preds_s8-L-3.1-8B-qkv',\n",
    " 'comp_s9-L-3.1-8B-qkv',\n",
    " 'preds_s9-L-3.1-8B-qkv',\n",
    "]"
   ]
  },
  {
   "cell_type": "code",
   "execution_count": null,
   "metadata": {},
   "outputs": [],
   "source": [
    "ds_hep_th_reorder = ds_hep_th.select_columns(common_cols)\n",
    "\n",
    "for col in reorder_cols:\n",
    "    ds_hep_th_reorder = ds_hep_th_reorder.add_column(name=col, column=ds_hep_th[col])"
   ]
  },
  {
   "cell_type": "code",
   "execution_count": null,
   "metadata": {},
   "outputs": [],
   "source": [
    "ds_hep_th_reorder.column_names"
   ]
  },
  {
   "cell_type": "code",
   "execution_count": null,
   "metadata": {},
   "outputs": [],
   "source": [
    "ds_hep_th_reorder.push_to_hub('LLMsForHepth/infer_hep-th', commit_message=\"Reorder columns\")"
   ]
  }
 ],
 "metadata": {
  "kaggle": {
   "accelerator": "none",
   "dataSources": [],
   "dockerImageVersionId": 30822,
   "isGpuEnabled": false,
   "isInternetEnabled": true,
   "language": "python",
   "sourceType": "notebook"
  },
  "kernelspec": {
   "display_name": "llmsforhepth",
   "language": "python",
   "name": "llmsforhepth"
  },
  "language_info": {
   "codemirror_mode": {
    "name": "ipython",
    "version": 3
   },
   "file_extension": ".py",
   "mimetype": "text/x-python",
   "name": "python",
   "nbconvert_exporter": "python",
   "pygments_lexer": "ipython3",
   "version": "3.10.10"
  }
 },
 "nbformat": 4,
 "nbformat_minor": 4
}
