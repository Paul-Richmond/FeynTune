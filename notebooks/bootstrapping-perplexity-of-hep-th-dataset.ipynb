{
 "cells": [
  {
   "cell_type": "markdown",
   "metadata": {},
   "source": [
    "# Applying bootstrap method to perplexities"
   ]
  },
  {
   "cell_type": "code",
   "execution_count": null,
   "metadata": {},
   "outputs": [],
   "source": [
    "import os\n",
    "\n",
    "import numpy as np\n",
    "import pandas as pd\n",
    "from scipy.stats import bootstrap  # see: https://docs.scipy.org/doc/scipy/reference/generated/scipy.stats.bootstrap.html\n",
    "import matplotlib.pyplot as plt\n",
    "from datasets import load_dataset\n",
    "from tabulate import tabulate\n",
    "\n",
    "%matplotlib inline\n",
    "%load_ext dotenv\n",
    "%dotenv"
   ]
  },
  {
   "cell_type": "code",
   "execution_count": null,
   "metadata": {
    "_cell_guid": "b1076dfc-b9ad-4769-8c92-a6c4dae69d19",
    "_uuid": "8f2839f25d086af736a60e9eeb907d3b93b6e0e5"
   },
   "outputs": [],
   "source": [
    "try:\n",
    "    hf_token = os.getenv(\"HUGGINGFACE_API_KEY\")\n",
    "    huggingface_hub.login(token=hf_token)\n",
    "except:\n",
    "    huggingface_hub.login()"
   ]
  },
  {
   "cell_type": "code",
   "execution_count": null,
   "metadata": {},
   "outputs": [],
   "source": [
    "ds = load_dataset('LLMsForHepth/hep-th_perplexities', split='test')\n",
    "df = ds.to_pandas()\n",
    "df.describe()"
   ]
  },
  {
   "cell_type": "markdown",
   "metadata": {},
   "source": [
    "## Do bootstrapping"
   ]
  },
  {
   "cell_type": "code",
   "execution_count": null,
   "metadata": {},
   "outputs": [],
   "source": [
    "perplexity_cols = [name for name in ds.column_names if name.startswith('perplexity')]\n",
    "\n",
    "models = ['Llama', \n",
    "          's1', 's2', 's3', 's4', 's5', \n",
    "          's6', 's7', 's8', 's9', 's10', \n",
    "          's1_qkv', 's2_qkv', 's3_qkv', 's4_qkv', 's5_qkv', \n",
    "          's6_qkv', 's7_qkv', 's8_qkv', 's9_qkv', 's10_qkv']\n",
    "\n",
    "col_dict = {perplexity_col: model for perplexity_col, model in zip(perplexity_cols, models)}"
   ]
  },
  {
   "cell_type": "code",
   "execution_count": null,
   "metadata": {},
   "outputs": [],
   "source": [
    "bootstrap_dict = {}\n",
    "for col in perplexity_cols:\n",
    "    data = (df[col],)  # samples must be in a sequence\n",
    "    bootstrap_res = bootstrap(data, np.mean, confidence_level=0.95,\n",
    "                             random_state=1, method='percentile') # change random_state -> rng for scipy > 1.15.0\n",
    "    bootstrap_dict[col] = bootstrap_res\n",
    "\n",
    "bootstrap_dict"
   ]
  },
  {
   "cell_type": "code",
   "execution_count": null,
   "metadata": {},
   "outputs": [],
   "source": [
    "# for plot_col in perplexity_cols:\n",
    "#     fig, ax = plt.subplots()\n",
    "#     ax.hist(bootstrap_dict[plot_col].bootstrap_distribution, bins=25)\n",
    "#     ax.set_title(f'Bootstrap Distribution for {plot_col}')\n",
    "#     ax.set_xlabel('statistic value')\n",
    "#     ax.set_ylabel('frequency')\n",
    "#     plt.show()"
   ]
  },
  {
   "cell_type": "code",
   "execution_count": null,
   "metadata": {},
   "outputs": [],
   "source": [
    "x = range(1,1 + len(perplexity_cols))\n",
    "y = np.array([bootstrap_dict[col].bootstrap_distribution.mean() for col in perplexity_cols])\n",
    "yerr_low = y - np.array([bootstrap_dict[col].confidence_interval.low for col in perplexity_cols])\n",
    "yerr_high = np.array([bootstrap_dict[col].confidence_interval.high for col in perplexity_cols]) - y\n",
    "yerr = [yerr_low, yerr_high]\n",
    "\n",
    "fig, ax = plt.subplots()\n",
    "\n",
    "ax.errorbar(x, y, yerr, fmt='o', linewidth=2, capsize=6)\n",
    "plt.xticks(x, models)\n",
    "plt.xticks(rotation=90)\n",
    "plt.ylabel('Perplexity')\n",
    "plt.xlabel('Model')\n",
    "plt.savefig('bootstrap.jpg')\n",
    "plt.show()"
   ]
  },
  {
   "cell_type": "code",
   "execution_count": null,
   "metadata": {},
   "outputs": [],
   "source": [
    "perp_col_nice = ['perplexity_Llama-3.1-8B',\n",
    " 'perplexity_s1-L-3.1-8B-base',\n",
    "  'perplexity_s1-L-3.1-8B-qkv_v2',\n",
    " 'perplexity_s2-L-3.1-8B-base',\n",
    "  'perplexity_s2-L-3.1-8B-qkv',\n",
    " 'perplexity_s3-L-3.1-8B-base_v3',\n",
    "  'perplexity_s3-L-3.1-8B-qkv',\n",
    " 'perplexity_s4-L-3.1-8B-base',\n",
    "  'perplexity_s4-L-3.1-8B-qkv',\n",
    " 'perplexity_s5-L-3.1-8B-base',\n",
    "  'perplexity_s5-L-3.1-8B-qkv',\n",
    " 'perplexity_s6-L-3.1-8B-base',\n",
    "  'perplexity_s6-L-3.1-8B-qkv',\n",
    " 'perplexity_s7-L-3.1-8B-base',\n",
    "  'perplexity_s7-L-3.1-8B-qkv2',\n",
    " 'perplexity_s8-L-3.1-8B-base',\n",
    " 'perplexity_s8-L-3.1-8B-qkv',\n",
    " 'perplexity_s9-L-3.1-8B-base',\n",
    " 'perplexity_s9-L-3.1-8B-qkv',\n",
    " 'perplexity_s10-L-3.1-8B-base',\n",
    " 'perplexity_s10-L-3.1-8B-qkv']"
   ]
  },
  {
   "cell_type": "code",
   "execution_count": null,
   "metadata": {},
   "outputs": [],
   "source": [
    "models_nice = [col_dict[perp] for perp in perp_col_nice]\n",
    "x = range(1,1 + len(perp_col_nice))\n",
    "y = np.array([bootstrap_dict[col].bootstrap_distribution.mean() for col in perp_col_nice])\n",
    "yerr_low = y - np.array([bootstrap_dict[col].confidence_interval.low for col in perp_col_nice])\n",
    "yerr_high = np.array([bootstrap_dict[col].confidence_interval.high for col in perp_col_nice]) - y\n",
    "yerr = [yerr_low, yerr_high]\n",
    "\n",
    "fig, ax = plt.subplots()\n",
    "\n",
    "ax.errorbar(x, y, yerr, fmt='o', linewidth=2, capsize=6)\n",
    "plt.xticks(x, models_nice)\n",
    "plt.xticks(rotation=90)\n",
    "plt.ylabel('Perplexity')\n",
    "plt.xlabel('Model')\n",
    "plt.savefig('bootstrap_nice.jpg')\n",
    "plt.show()"
   ]
  }
 ],
 "metadata": {
  "kaggle": {
   "accelerator": "none",
   "dataSources": [],
   "dockerImageVersionId": 30839,
   "isGpuEnabled": false,
   "isInternetEnabled": true,
   "language": "python",
   "sourceType": "notebook"
  },
  "kernelspec": {
   "display_name": "llmsforhepth",
   "language": "python",
   "name": "llmsforhepth"
  },
  "language_info": {
   "codemirror_mode": {
    "name": "ipython",
    "version": 3
   },
   "file_extension": ".py",
   "mimetype": "text/x-python",
   "name": "python",
   "nbconvert_exporter": "python",
   "pygments_lexer": "ipython3",
   "version": "3.10.10"
  }
 },
 "nbformat": 4,
 "nbformat_minor": 4
}
