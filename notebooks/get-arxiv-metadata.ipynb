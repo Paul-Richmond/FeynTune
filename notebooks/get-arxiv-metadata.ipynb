{
 "cells": [
  {
   "cell_type": "markdown",
   "metadata": {},
   "source": [
    "# Creation of datasets for finetuning LLMs on arXiv abstracts\n",
    "\n",
    "Datasets created with this notebook are\n",
    "- LLMsForHepth/hep-th_primary\n",
    "- LLMsForHepth/hep-ph_gr-qc_primary\n",
    "- LLMsForHepth/hep-th_hep-ph_gr-qc_primary_v3\n",
    "- LLMsForHepth/gr-qc_primary\n",
    "- LLMsForHepth/hep-ph_primary\n",
    "- LLMsForHepth/cs_primary_200k\n",
    "- LLMsForHepth/q-bio_primary\n",
    "\n",
    "\n",
    "Useful info can be found here: https://info.arxiv.org/help/arxiv_identifier_for_services.html\n",
    "\n",
    "# Outline\n",
    "\n",
    "- [ 1 - Packages and setup](#1)\n",
    "    - [1.1 - Log into huggingface hub](#1.1)\n",
    "    - [1.2 - Define variables to automate extraction and upload](#1.2)\n",
    "- [ 2 - Load full arXiv metadata (currently ~4.2Gb)](#2)\n",
    "- [ 3 - Data manipulation](#3)\n",
    "    - [3.1 - Identify small set of papers which we authored](#3.1)\n",
    "    - [3.2 - Explore categories](#3.2)\n",
    "    - [3.3 - Extract specific category/categories](#3.3)\n",
    "    - [3.4 - Remove papers that have been withdrawn](#3.4)\n",
    "- [ 4 - Look at the abstracts](#4)    \n",
    "    - [4.1 - Length of abstracts](#4.1)\n",
    "    - [4.2 - Keywords/PACS at end of abstracts](#4.2)\n",
    "    - [4.3 - Multi-lingual abstracts](#4.3)\n",
    "    - [4.4 - Look at distribution of dates from `id` column](#4.4)\n",
    "- [ 5 - Clean the abstract data](#5)\n",
    "- [ 6 - Convert to Huggingface dataset and push](#6)\n",
    "    - [ 6.1 - Convert Pandas DataFrame to dataset Dataset](#6.1)\n",
    "    - [ 6.2 - Split dataset into train, test and validation datasets](#6.2)\n",
    "    - [ 6.3 - Upload data to Huggingface](#6.3)\n",
    "- [ 7 - Concatenate hep-th_primary and hep-ph_gr-qc_primary datasets](#7)"
   ]
  },
  {
   "cell_type": "markdown",
   "metadata": {},
   "source": [
    "<a name=\"1\"></a>\n",
    "## 1 - Packages and setup"
   ]
  },
  {
   "cell_type": "code",
   "execution_count": 1,
   "metadata": {
    "execution": {
     "iopub.execute_input": "2025-04-09T14:36:44.202875Z",
     "iopub.status.busy": "2025-04-09T14:36:44.202611Z",
     "iopub.status.idle": "2025-04-09T14:36:46.628274Z",
     "shell.execute_reply": "2025-04-09T14:36:46.627473Z",
     "shell.execute_reply.started": "2025-04-09T14:36:44.202842Z"
    }
   },
   "outputs": [],
   "source": [
    "import numpy as np \n",
    "import pandas as pd\n",
    "import json\n",
    "import re\n",
    "\n",
    "import huggingface_hub\n",
    "import datasets"
   ]
  },
  {
   "cell_type": "markdown",
   "metadata": {},
   "source": [
    "<a name=\"1.1\"></a>\n",
    "### 1.1 - Log into huggingface hub"
   ]
  },
  {
   "cell_type": "code",
   "execution_count": 2,
   "metadata": {
    "execution": {
     "iopub.execute_input": "2025-04-09T14:36:46.630774Z",
     "iopub.status.busy": "2025-04-09T14:36:46.630324Z",
     "iopub.status.idle": "2025-04-09T14:36:47.337611Z",
     "shell.execute_reply": "2025-04-09T14:36:47.336578Z",
     "shell.execute_reply.started": "2025-04-09T14:36:46.630749Z"
    }
   },
   "outputs": [
    {
     "name": "stdout",
     "output_type": "stream",
     "text": [
      "Token has not been saved to git credential helper. Pass `add_to_git_credential=True` if you want to set the git credential as well.\n",
      "Token is valid (permission: write).\n",
      "Your token has been saved to /root/.cache/huggingface/token\n",
      "Login successful\n"
     ]
    }
   ],
   "source": [
    "try:\n",
    "    from kaggle_secrets import UserSecretsClient\n",
    "    user_secrets = UserSecretsClient()\n",
    "    secret_value_0 = user_secrets.get_secret(\"HFapi\")\n",
    "    huggingface_hub.login(secret_value_0)\n",
    "except:\n",
    "    huggingface_hub.login()"
   ]
  },
  {
   "cell_type": "markdown",
   "metadata": {},
   "source": [
    "<a name=\"1.2\"></a>\n",
    "### 1.2 - Define variables to automate extraction and upload\n",
    "\n",
    "In this subsection we define several variables which control how this notebook operates. Once these variables are set you can click `Run All`.\n",
    "\n",
    "The variables are\n",
    "1. `repo_id`: String. This is the name of the Huggingface repository that the dataset will be upload to. If the repository does not already exist it will be created.\n",
    "2. `commit_message`: String or None. An optional commit message used in the `push_to_hub` function. Set it to `None` for an initial commit.\n",
    "3. `wanted_categories`: List. A list of strings corresponding to arXiv categories. The code looks at the string data in the `categories` column and checks if any of the entries in `wanted_categories` appears.\n",
    "4. `primary_classification_only`: Boolean. \n",
    "    * `True` will only match entries in `wanted_categories` to the first substring which appears in the `categories` column. \n",
    "    * `False` will match entries in `wanted_categories` if they appear *anywhere* in the `categories` column.\n",
    "5. `train_size`: Float. Represents a percentage of data to use in creating a training dataset. `(1-train_size)` is used as a non-train dataset *i.e.* combined test and validation set.\n",
    "6. `validation_size`: Float. Represents a percentage of data from the non-train dataset to use as a validation dataset. The remaining percentage, `(1-validation_size)`, is used as a test dataset. The test set is to be used for hyperparameter tuning etc with the validation set left unused until the end to determine final model performance.\n",
    "\n",
    "> Be careful. If you use a list with more than one category for `wanted_categories` e.g. ['gr-qc', 'hep-ph'] then the train/test/validation split does not apply to each category only the sum total. It is better to extract just a single category, perform train/test/validation split and upload to Hugging Face. Multi-category datasets can then be formed by concatenating the single category datasets.."
   ]
  },
  {
   "cell_type": "code",
   "execution_count": 3,
   "metadata": {
    "execution": {
     "iopub.execute_input": "2025-04-09T14:36:47.339510Z",
     "iopub.status.busy": "2025-04-09T14:36:47.339216Z",
     "iopub.status.idle": "2025-04-09T14:36:47.344127Z",
     "shell.execute_reply": "2025-04-09T14:36:47.343087Z",
     "shell.execute_reply.started": "2025-04-09T14:36:47.339487Z"
    }
   },
   "outputs": [],
   "source": [
    "repo_id = \"LLMsForHepth/cs_primary_200k\"\n",
    "commit_message = None # None will use default in `push_to_hub` which is `\"Upload dataset\"`\n",
    "\n",
    "wanted_categories = ['cs.'] \n",
    "primary_classification_only = True\n",
    "\n",
    "train_size = 0.7 # use 70% of the dataset for training, 30% for testing & validation\n",
    "validation_size = 0.5 # test_size is 1 - validation_size"
   ]
  },
  {
   "cell_type": "markdown",
   "metadata": {},
   "source": [
    "<a name=\"2\"></a>\n",
    "## 2 - Load full arXiv metadata (currently ~4.2Gb)\n",
    "\n",
    "The Kaggle dataset is described here: https://www.kaggle.com/datasets/Cornell-University/arxiv\n",
    "\n",
    "In this notebook we've pinned the dataset to be v193 which includes submissions upto around 22nd August 2024.\n",
    "\n",
    "\n",
    "Arxiv submissions are tightly controlled and should follow the instructions given here https://info.arxiv.org/help/prep.html.\n",
    "\n",
    "In particular, the Title and Abstract metadata must be in ASCII input and Unicode characters should be converted to LaTex equivalent.\n",
    "Since ASCII is a subset of utf-8 we can use utf-8 encoding to parse the json file."
   ]
  },
  {
   "cell_type": "code",
   "execution_count": 4,
   "metadata": {
    "execution": {
     "iopub.execute_input": "2025-04-09T14:36:47.346331Z",
     "iopub.status.busy": "2025-04-09T14:36:47.345613Z",
     "iopub.status.idle": "2025-04-09T14:38:41.159653Z",
     "shell.execute_reply": "2025-04-09T14:38:41.158503Z",
     "shell.execute_reply.started": "2025-04-09T14:36:47.346297Z"
    }
   },
   "outputs": [],
   "source": [
    "df_dir='/kaggle/input/arxiv/arxiv-metadata-oai-snapshot.json'\n",
    "json_data = []\n",
    "\n",
    "with open(df_dir, 'r', encoding='utf-8') as f:\n",
    "    for line in f:\n",
    "        # Parse JSON from each line\n",
    "        try:\n",
    "            json_object = json.loads(line)\n",
    "            json_data.append(json_object)\n",
    "        except json.JSONDecodeError as e:\n",
    "            print(f\"Error decoding JSON: {e}\")\n",
    "            continue\n",
    "            \n",
    "df = pd.DataFrame(json_data)"
   ]
  },
  {
   "cell_type": "code",
   "execution_count": 5,
   "metadata": {
    "execution": {
     "iopub.execute_input": "2025-04-09T14:38:41.161627Z",
     "iopub.status.busy": "2025-04-09T14:38:41.161317Z",
     "iopub.status.idle": "2025-04-09T14:38:41.165540Z",
     "shell.execute_reply": "2025-04-09T14:38:41.164428Z",
     "shell.execute_reply.started": "2025-04-09T14:38:41.161602Z"
    }
   },
   "outputs": [],
   "source": [
    "# del json_data"
   ]
  },
  {
   "cell_type": "code",
   "execution_count": 6,
   "metadata": {
    "execution": {
     "iopub.execute_input": "2025-04-09T14:38:41.166978Z",
     "iopub.status.busy": "2025-04-09T14:38:41.166659Z",
     "iopub.status.idle": "2025-04-09T14:38:49.915683Z",
     "shell.execute_reply": "2025-04-09T14:38:49.914779Z",
     "shell.execute_reply.started": "2025-04-09T14:38:41.166953Z"
    }
   },
   "outputs": [],
   "source": [
    "df = pd.DataFrame(json_data)"
   ]
  },
  {
   "cell_type": "markdown",
   "metadata": {},
   "source": [
    "<a name=\"3\"></a>\n",
    "## 3 - Data manipulation"
   ]
  },
  {
   "cell_type": "code",
   "execution_count": 7,
   "metadata": {
    "execution": {
     "iopub.execute_input": "2025-04-09T14:38:49.919259Z",
     "iopub.status.busy": "2025-04-09T14:38:49.918946Z",
     "iopub.status.idle": "2025-04-09T14:38:49.926177Z",
     "shell.execute_reply": "2025-04-09T14:38:49.925215Z",
     "shell.execute_reply.started": "2025-04-09T14:38:49.919234Z"
    }
   },
   "outputs": [
    {
     "data": {
      "text/plain": [
       "(2542615, 14)"
      ]
     },
     "execution_count": 7,
     "metadata": {},
     "output_type": "execute_result"
    }
   ],
   "source": [
    "df.shape"
   ]
  },
  {
   "cell_type": "code",
   "execution_count": 8,
   "metadata": {
    "execution": {
     "iopub.execute_input": "2025-04-09T14:38:49.928185Z",
     "iopub.status.busy": "2025-04-09T14:38:49.927547Z",
     "iopub.status.idle": "2025-04-09T14:38:49.961071Z",
     "shell.execute_reply": "2025-04-09T14:38:49.960090Z",
     "shell.execute_reply.started": "2025-04-09T14:38:49.928149Z"
    }
   },
   "outputs": [
    {
     "data": {
      "text/html": [
       "<div>\n",
       "<style scoped>\n",
       "    .dataframe tbody tr th:only-of-type {\n",
       "        vertical-align: middle;\n",
       "    }\n",
       "\n",
       "    .dataframe tbody tr th {\n",
       "        vertical-align: top;\n",
       "    }\n",
       "\n",
       "    .dataframe thead th {\n",
       "        text-align: right;\n",
       "    }\n",
       "</style>\n",
       "<table border=\"1\" class=\"dataframe\">\n",
       "  <thead>\n",
       "    <tr style=\"text-align: right;\">\n",
       "      <th></th>\n",
       "      <th>id</th>\n",
       "      <th>submitter</th>\n",
       "      <th>authors</th>\n",
       "      <th>title</th>\n",
       "      <th>comments</th>\n",
       "      <th>journal-ref</th>\n",
       "      <th>doi</th>\n",
       "      <th>report-no</th>\n",
       "      <th>categories</th>\n",
       "      <th>license</th>\n",
       "      <th>abstract</th>\n",
       "      <th>versions</th>\n",
       "      <th>update_date</th>\n",
       "      <th>authors_parsed</th>\n",
       "    </tr>\n",
       "  </thead>\n",
       "  <tbody>\n",
       "    <tr>\n",
       "      <th>0</th>\n",
       "      <td>0704.0001</td>\n",
       "      <td>Pavel Nadolsky</td>\n",
       "      <td>C. Bal\\'azs, E. L. Berger, P. M. Nadolsky, C.-...</td>\n",
       "      <td>Calculation of prompt diphoton production cros...</td>\n",
       "      <td>37 pages, 15 figures; published version</td>\n",
       "      <td>Phys.Rev.D76:013009,2007</td>\n",
       "      <td>10.1103/PhysRevD.76.013009</td>\n",
       "      <td>ANL-HEP-PR-07-12</td>\n",
       "      <td>hep-ph</td>\n",
       "      <td>None</td>\n",
       "      <td>A fully differential calculation in perturba...</td>\n",
       "      <td>[{'version': 'v1', 'created': 'Mon, 2 Apr 2007...</td>\n",
       "      <td>2008-11-26</td>\n",
       "      <td>[[Balázs, C., ], [Berger, E. L., ], [Nadolsky,...</td>\n",
       "    </tr>\n",
       "    <tr>\n",
       "      <th>1</th>\n",
       "      <td>0704.0002</td>\n",
       "      <td>Louis Theran</td>\n",
       "      <td>Ileana Streinu and Louis Theran</td>\n",
       "      <td>Sparsity-certifying Graph Decompositions</td>\n",
       "      <td>To appear in Graphs and Combinatorics</td>\n",
       "      <td>None</td>\n",
       "      <td>None</td>\n",
       "      <td>None</td>\n",
       "      <td>math.CO cs.CG</td>\n",
       "      <td>http://arxiv.org/licenses/nonexclusive-distrib...</td>\n",
       "      <td>We describe a new algorithm, the $(k,\\ell)$-...</td>\n",
       "      <td>[{'version': 'v1', 'created': 'Sat, 31 Mar 200...</td>\n",
       "      <td>2008-12-13</td>\n",
       "      <td>[[Streinu, Ileana, ], [Theran, Louis, ]]</td>\n",
       "    </tr>\n",
       "    <tr>\n",
       "      <th>2</th>\n",
       "      <td>0704.0003</td>\n",
       "      <td>Hongjun Pan</td>\n",
       "      <td>Hongjun Pan</td>\n",
       "      <td>The evolution of the Earth-Moon system based o...</td>\n",
       "      <td>23 pages, 3 figures</td>\n",
       "      <td>None</td>\n",
       "      <td>None</td>\n",
       "      <td>None</td>\n",
       "      <td>physics.gen-ph</td>\n",
       "      <td>None</td>\n",
       "      <td>The evolution of Earth-Moon system is descri...</td>\n",
       "      <td>[{'version': 'v1', 'created': 'Sun, 1 Apr 2007...</td>\n",
       "      <td>2008-01-13</td>\n",
       "      <td>[[Pan, Hongjun, ]]</td>\n",
       "    </tr>\n",
       "    <tr>\n",
       "      <th>3</th>\n",
       "      <td>0704.0004</td>\n",
       "      <td>David Callan</td>\n",
       "      <td>David Callan</td>\n",
       "      <td>A determinant of Stirling cycle numbers counts...</td>\n",
       "      <td>11 pages</td>\n",
       "      <td>None</td>\n",
       "      <td>None</td>\n",
       "      <td>None</td>\n",
       "      <td>math.CO</td>\n",
       "      <td>None</td>\n",
       "      <td>We show that a determinant of Stirling cycle...</td>\n",
       "      <td>[{'version': 'v1', 'created': 'Sat, 31 Mar 200...</td>\n",
       "      <td>2007-05-23</td>\n",
       "      <td>[[Callan, David, ]]</td>\n",
       "    </tr>\n",
       "    <tr>\n",
       "      <th>4</th>\n",
       "      <td>0704.0005</td>\n",
       "      <td>Alberto Torchinsky</td>\n",
       "      <td>Wael Abu-Shammala and Alberto Torchinsky</td>\n",
       "      <td>From dyadic $\\Lambda_{\\alpha}$ to $\\Lambda_{\\a...</td>\n",
       "      <td>None</td>\n",
       "      <td>Illinois J. Math. 52 (2008) no.2, 681-689</td>\n",
       "      <td>None</td>\n",
       "      <td>None</td>\n",
       "      <td>math.CA math.FA</td>\n",
       "      <td>None</td>\n",
       "      <td>In this paper we show how to compute the $\\L...</td>\n",
       "      <td>[{'version': 'v1', 'created': 'Mon, 2 Apr 2007...</td>\n",
       "      <td>2013-10-15</td>\n",
       "      <td>[[Abu-Shammala, Wael, ], [Torchinsky, Alberto, ]]</td>\n",
       "    </tr>\n",
       "  </tbody>\n",
       "</table>\n",
       "</div>"
      ],
      "text/plain": [
       "          id           submitter  \\\n",
       "0  0704.0001      Pavel Nadolsky   \n",
       "1  0704.0002        Louis Theran   \n",
       "2  0704.0003         Hongjun Pan   \n",
       "3  0704.0004        David Callan   \n",
       "4  0704.0005  Alberto Torchinsky   \n",
       "\n",
       "                                             authors  \\\n",
       "0  C. Bal\\'azs, E. L. Berger, P. M. Nadolsky, C.-...   \n",
       "1                    Ileana Streinu and Louis Theran   \n",
       "2                                        Hongjun Pan   \n",
       "3                                       David Callan   \n",
       "4           Wael Abu-Shammala and Alberto Torchinsky   \n",
       "\n",
       "                                               title  \\\n",
       "0  Calculation of prompt diphoton production cros...   \n",
       "1           Sparsity-certifying Graph Decompositions   \n",
       "2  The evolution of the Earth-Moon system based o...   \n",
       "3  A determinant of Stirling cycle numbers counts...   \n",
       "4  From dyadic $\\Lambda_{\\alpha}$ to $\\Lambda_{\\a...   \n",
       "\n",
       "                                  comments  \\\n",
       "0  37 pages, 15 figures; published version   \n",
       "1    To appear in Graphs and Combinatorics   \n",
       "2                      23 pages, 3 figures   \n",
       "3                                 11 pages   \n",
       "4                                     None   \n",
       "\n",
       "                                 journal-ref                         doi  \\\n",
       "0                   Phys.Rev.D76:013009,2007  10.1103/PhysRevD.76.013009   \n",
       "1                                       None                        None   \n",
       "2                                       None                        None   \n",
       "3                                       None                        None   \n",
       "4  Illinois J. Math. 52 (2008) no.2, 681-689                        None   \n",
       "\n",
       "          report-no       categories  \\\n",
       "0  ANL-HEP-PR-07-12           hep-ph   \n",
       "1              None    math.CO cs.CG   \n",
       "2              None   physics.gen-ph   \n",
       "3              None          math.CO   \n",
       "4              None  math.CA math.FA   \n",
       "\n",
       "                                             license  \\\n",
       "0                                               None   \n",
       "1  http://arxiv.org/licenses/nonexclusive-distrib...   \n",
       "2                                               None   \n",
       "3                                               None   \n",
       "4                                               None   \n",
       "\n",
       "                                            abstract  \\\n",
       "0    A fully differential calculation in perturba...   \n",
       "1    We describe a new algorithm, the $(k,\\ell)$-...   \n",
       "2    The evolution of Earth-Moon system is descri...   \n",
       "3    We show that a determinant of Stirling cycle...   \n",
       "4    In this paper we show how to compute the $\\L...   \n",
       "\n",
       "                                            versions update_date  \\\n",
       "0  [{'version': 'v1', 'created': 'Mon, 2 Apr 2007...  2008-11-26   \n",
       "1  [{'version': 'v1', 'created': 'Sat, 31 Mar 200...  2008-12-13   \n",
       "2  [{'version': 'v1', 'created': 'Sun, 1 Apr 2007...  2008-01-13   \n",
       "3  [{'version': 'v1', 'created': 'Sat, 31 Mar 200...  2007-05-23   \n",
       "4  [{'version': 'v1', 'created': 'Mon, 2 Apr 2007...  2013-10-15   \n",
       "\n",
       "                                      authors_parsed  \n",
       "0  [[Balázs, C., ], [Berger, E. L., ], [Nadolsky,...  \n",
       "1           [[Streinu, Ileana, ], [Theran, Louis, ]]  \n",
       "2                                 [[Pan, Hongjun, ]]  \n",
       "3                                [[Callan, David, ]]  \n",
       "4  [[Abu-Shammala, Wael, ], [Torchinsky, Alberto, ]]  "
      ]
     },
     "execution_count": 8,
     "metadata": {},
     "output_type": "execute_result"
    }
   ],
   "source": [
    "df.head()"
   ]
  },
  {
   "cell_type": "markdown",
   "metadata": {},
   "source": [
    "<a name=\"3.1\"></a>\n",
    "### 3.1 - Identify small set of papers which we authored\n",
    "\n",
    "We want to create a very small control dataset so we can see how well a LLM completes abstracts as it is being finetuned.\n",
    "\n",
    "We choose the id of the paper which appears as the $n$th entry in each of our inspires record\n",
    "with $n = \\text{entry number of citeable papers} \\, // \\, 2$."
   ]
  },
  {
   "cell_type": "code",
   "execution_count": 9,
   "metadata": {
    "execution": {
     "iopub.execute_input": "2025-04-09T14:38:49.962772Z",
     "iopub.status.busy": "2025-04-09T14:38:49.962488Z",
     "iopub.status.idle": "2025-04-09T14:38:50.452195Z",
     "shell.execute_reply": "2025-04-09T14:38:50.451079Z",
     "shell.execute_reply.started": "2025-04-09T14:38:49.962748Z"
    }
   },
   "outputs": [
    {
     "data": {
      "text/html": [
       "<div>\n",
       "<style scoped>\n",
       "    .dataframe tbody tr th:only-of-type {\n",
       "        vertical-align: middle;\n",
       "    }\n",
       "\n",
       "    .dataframe tbody tr th {\n",
       "        vertical-align: top;\n",
       "    }\n",
       "\n",
       "    .dataframe thead th {\n",
       "        text-align: right;\n",
       "    }\n",
       "</style>\n",
       "<table border=\"1\" class=\"dataframe\">\n",
       "  <thead>\n",
       "    <tr style=\"text-align: right;\">\n",
       "      <th></th>\n",
       "      <th>id</th>\n",
       "      <th>submitter</th>\n",
       "      <th>authors</th>\n",
       "      <th>title</th>\n",
       "      <th>comments</th>\n",
       "      <th>journal-ref</th>\n",
       "      <th>doi</th>\n",
       "      <th>report-no</th>\n",
       "      <th>categories</th>\n",
       "      <th>license</th>\n",
       "      <th>abstract</th>\n",
       "      <th>versions</th>\n",
       "      <th>update_date</th>\n",
       "      <th>authors_parsed</th>\n",
       "    </tr>\n",
       "  </thead>\n",
       "  <tbody>\n",
       "    <tr>\n",
       "      <th>341087</th>\n",
       "      <td>1205.2086</td>\n",
       "      <td>Vasilis Niarchos</td>\n",
       "      <td>Vasilis Niarchos</td>\n",
       "      <td>Seiberg dualities and the 3d/4d connection</td>\n",
       "      <td>harvmac, 17 pages</td>\n",
       "      <td>None</td>\n",
       "      <td>10.1007/JHEP07(2012)075</td>\n",
       "      <td>CCTP-2012-07</td>\n",
       "      <td>hep-th</td>\n",
       "      <td>http://arxiv.org/licenses/nonexclusive-distrib...</td>\n",
       "      <td>We discuss the degeneration limits of d=4 su...</td>\n",
       "      <td>[{'version': 'v1', 'created': 'Wed, 9 May 2012...</td>\n",
       "      <td>2015-06-05</td>\n",
       "      <td>[[Niarchos, Vasilis, ]]</td>\n",
       "    </tr>\n",
       "    <tr>\n",
       "      <th>373079</th>\n",
       "      <td>1209.5915</td>\n",
       "      <td>Michal P. Heller</td>\n",
       "      <td>Jan de Boer, Borun D. Chowdhury, Michal P. Hel...</td>\n",
       "      <td>Towards a holographic realization of the quark...</td>\n",
       "      <td>31 pages, 16 figures; v2: inset plot in Fig. 1...</td>\n",
       "      <td>Phys. Rev. D 87, 066009 (2013)</td>\n",
       "      <td>10.1103/PhysRevD.87.066009</td>\n",
       "      <td>None</td>\n",
       "      <td>hep-th hep-ph nucl-th</td>\n",
       "      <td>http://arxiv.org/licenses/nonexclusive-distrib...</td>\n",
       "      <td>Large-N_c QCD matter at intermediate baryon ...</td>\n",
       "      <td>[{'version': 'v1', 'created': 'Wed, 26 Sep 201...</td>\n",
       "      <td>2013-03-28</td>\n",
       "      <td>[[de Boer, Jan, ], [Chowdhury, Borun D., ], [H...</td>\n",
       "    </tr>\n",
       "    <tr>\n",
       "      <th>513069</th>\n",
       "      <td>1404.0016</td>\n",
       "      <td>Constantinos Papageorgakis</td>\n",
       "      <td>Constantinos Papageorgakis and Andrew B. Royston</td>\n",
       "      <td>Revisiting Soliton Contributions to Perturbati...</td>\n",
       "      <td>Latex, 25 pages; v2: Clarifications added and ...</td>\n",
       "      <td>None</td>\n",
       "      <td>10.1007/JHEP09(2014)128</td>\n",
       "      <td>RUNHETC-2014-03, QMUL-PH-14-06, MIFPA-14-09</td>\n",
       "      <td>hep-th</td>\n",
       "      <td>http://arxiv.org/licenses/nonexclusive-distrib...</td>\n",
       "      <td>It is often said that soliton contributions ...</td>\n",
       "      <td>[{'version': 'v1', 'created': 'Mon, 31 Mar 201...</td>\n",
       "      <td>2020-08-04</td>\n",
       "      <td>[[Papageorgakis, Constantinos, ], [Royston, An...</td>\n",
       "    </tr>\n",
       "    <tr>\n",
       "      <th>944808</th>\n",
       "      <td>1802.05268</td>\n",
       "      <td>Jaewon Song</td>\n",
       "      <td>Prarit Agarwal, Kazunobu Maruyoshi, Jaewon Song</td>\n",
       "      <td>A \"Lagrangian\" for the E7 Superconformal Theory</td>\n",
       "      <td>13 pages + appendices, v2: typos corrected</td>\n",
       "      <td>None</td>\n",
       "      <td>10.1007/JHEP05(2018)193</td>\n",
       "      <td>SNUTP18-001, KIAS-P18021</td>\n",
       "      <td>hep-th</td>\n",
       "      <td>http://arxiv.org/licenses/nonexclusive-distrib...</td>\n",
       "      <td>We find an N=1 gauge theory that flows to th...</td>\n",
       "      <td>[{'version': 'v1', 'created': 'Wed, 14 Feb 201...</td>\n",
       "      <td>2018-07-04</td>\n",
       "      <td>[[Agarwal, Prarit, ], [Maruyoshi, Kazunobu, ],...</td>\n",
       "    </tr>\n",
       "    <tr>\n",
       "      <th>970318</th>\n",
       "      <td>1804.08625</td>\n",
       "      <td>Pietro Benetti Genolini</td>\n",
       "      <td>Pietro Benetti Genolini, Paul Richmond, James ...</td>\n",
       "      <td>Gravitational free energy in topological AdS/CFT</td>\n",
       "      <td>46 pages; v2: corrected typos, updated references</td>\n",
       "      <td>JHEP 1809 (2018) 100</td>\n",
       "      <td>10.1007/JHEP09(2018)100</td>\n",
       "      <td>None</td>\n",
       "      <td>hep-th</td>\n",
       "      <td>http://arxiv.org/licenses/nonexclusive-distrib...</td>\n",
       "      <td>We define and study a holographic dual to th...</td>\n",
       "      <td>[{'version': 'v1', 'created': 'Mon, 23 Apr 201...</td>\n",
       "      <td>2018-09-21</td>\n",
       "      <td>[[Genolini, Pietro Benetti, ], [Richmond, Paul...</td>\n",
       "    </tr>\n",
       "  </tbody>\n",
       "</table>\n",
       "</div>"
      ],
      "text/plain": [
       "                id                   submitter  \\\n",
       "341087   1205.2086            Vasilis Niarchos   \n",
       "373079   1209.5915            Michal P. Heller   \n",
       "513069   1404.0016  Constantinos Papageorgakis   \n",
       "944808  1802.05268                 Jaewon Song   \n",
       "970318  1804.08625     Pietro Benetti Genolini   \n",
       "\n",
       "                                                  authors  \\\n",
       "341087                                   Vasilis Niarchos   \n",
       "373079  Jan de Boer, Borun D. Chowdhury, Michal P. Hel...   \n",
       "513069   Constantinos Papageorgakis and Andrew B. Royston   \n",
       "944808    Prarit Agarwal, Kazunobu Maruyoshi, Jaewon Song   \n",
       "970318  Pietro Benetti Genolini, Paul Richmond, James ...   \n",
       "\n",
       "                                                    title  \\\n",
       "341087         Seiberg dualities and the 3d/4d connection   \n",
       "373079  Towards a holographic realization of the quark...   \n",
       "513069  Revisiting Soliton Contributions to Perturbati...   \n",
       "944808    A \"Lagrangian\" for the E7 Superconformal Theory   \n",
       "970318   Gravitational free energy in topological AdS/CFT   \n",
       "\n",
       "                                                 comments  \\\n",
       "341087                                  harvmac, 17 pages   \n",
       "373079  31 pages, 16 figures; v2: inset plot in Fig. 1...   \n",
       "513069  Latex, 25 pages; v2: Clarifications added and ...   \n",
       "944808         13 pages + appendices, v2: typos corrected   \n",
       "970318  46 pages; v2: corrected typos, updated references   \n",
       "\n",
       "                           journal-ref                         doi  \\\n",
       "341087                            None     10.1007/JHEP07(2012)075   \n",
       "373079  Phys. Rev. D 87, 066009 (2013)  10.1103/PhysRevD.87.066009   \n",
       "513069                            None     10.1007/JHEP09(2014)128   \n",
       "944808                            None     10.1007/JHEP05(2018)193   \n",
       "970318            JHEP 1809 (2018) 100     10.1007/JHEP09(2018)100   \n",
       "\n",
       "                                          report-no             categories  \\\n",
       "341087                                 CCTP-2012-07                 hep-th   \n",
       "373079                                         None  hep-th hep-ph nucl-th   \n",
       "513069  RUNHETC-2014-03, QMUL-PH-14-06, MIFPA-14-09                 hep-th   \n",
       "944808                     SNUTP18-001, KIAS-P18021                 hep-th   \n",
       "970318                                         None                 hep-th   \n",
       "\n",
       "                                                  license  \\\n",
       "341087  http://arxiv.org/licenses/nonexclusive-distrib...   \n",
       "373079  http://arxiv.org/licenses/nonexclusive-distrib...   \n",
       "513069  http://arxiv.org/licenses/nonexclusive-distrib...   \n",
       "944808  http://arxiv.org/licenses/nonexclusive-distrib...   \n",
       "970318  http://arxiv.org/licenses/nonexclusive-distrib...   \n",
       "\n",
       "                                                 abstract  \\\n",
       "341087    We discuss the degeneration limits of d=4 su...   \n",
       "373079    Large-N_c QCD matter at intermediate baryon ...   \n",
       "513069    It is often said that soliton contributions ...   \n",
       "944808    We find an N=1 gauge theory that flows to th...   \n",
       "970318    We define and study a holographic dual to th...   \n",
       "\n",
       "                                                 versions update_date  \\\n",
       "341087  [{'version': 'v1', 'created': 'Wed, 9 May 2012...  2015-06-05   \n",
       "373079  [{'version': 'v1', 'created': 'Wed, 26 Sep 201...  2013-03-28   \n",
       "513069  [{'version': 'v1', 'created': 'Mon, 31 Mar 201...  2020-08-04   \n",
       "944808  [{'version': 'v1', 'created': 'Wed, 14 Feb 201...  2018-07-04   \n",
       "970318  [{'version': 'v1', 'created': 'Mon, 23 Apr 201...  2018-09-21   \n",
       "\n",
       "                                           authors_parsed  \n",
       "341087                            [[Niarchos, Vasilis, ]]  \n",
       "373079  [[de Boer, Jan, ], [Chowdhury, Borun D., ], [H...  \n",
       "513069  [[Papageorgakis, Constantinos, ], [Royston, An...  \n",
       "944808  [[Agarwal, Prarit, ], [Maruyoshi, Kazunobu, ],...  \n",
       "970318  [[Genolini, Pietro Benetti, ], [Richmond, Paul...  "
      ]
     },
     "execution_count": 9,
     "metadata": {},
     "output_type": "execute_result"
    }
   ],
   "source": [
    "ids = [\"1804.08625\", \"1404.0016\", \"1205.2086\", \"1209.5915\", \"1802.05268\"]\n",
    "df_overfit = df[df['id'].isin(ids)]\n",
    "df_overfit"
   ]
  },
  {
   "cell_type": "code",
   "execution_count": 10,
   "metadata": {
    "execution": {
     "iopub.execute_input": "2025-04-09T14:38:50.453856Z",
     "iopub.status.busy": "2025-04-09T14:38:50.453490Z",
     "iopub.status.idle": "2025-04-09T14:38:51.943704Z",
     "shell.execute_reply": "2025-04-09T14:38:51.942713Z",
     "shell.execute_reply.started": "2025-04-09T14:38:50.453822Z"
    }
   },
   "outputs": [],
   "source": [
    "# remove our papers from main dataframe so we don't double count\n",
    "df = df[~df['id'].isin(ids)]"
   ]
  },
  {
   "cell_type": "markdown",
   "metadata": {},
   "source": [
    "<a name=\"3.2\"></a>\n",
    "### 3.2 - Explore categories\n",
    "\n",
    "See https://arxiv.org/category_taxonomy for a desciption of the values which can appear.\n",
    "Each arXiv article has a primary category and may also have one or more cross-lists to other categories.\n",
    "\n",
    "Inspecting `df.head()` we see that `df.iloc[1]['categories'] = 'math.CO cs.CG'`. The *primary* classifcation is `math.CO` and it is also cross-listed to the `cs.BG` category."
   ]
  },
  {
   "cell_type": "code",
   "execution_count": 11,
   "metadata": {
    "execution": {
     "iopub.execute_input": "2025-04-09T14:38:51.945158Z",
     "iopub.status.busy": "2025-04-09T14:38:51.944840Z",
     "iopub.status.idle": "2025-04-09T14:38:52.656245Z",
     "shell.execute_reply": "2025-04-09T14:38:52.655237Z",
     "shell.execute_reply.started": "2025-04-09T14:38:51.945134Z"
    }
   },
   "outputs": [
    {
     "data": {
      "text/plain": [
       "categories\n",
       "astro-ph                                                            86911\n",
       "hep-ph                                                              81611\n",
       "quant-ph                                                            70092\n",
       "cs.CV                                                               60946\n",
       "hep-th                                                              59147\n",
       "                                                                    ...  \n",
       "physics.hist-ph astro-ph.IM eess.SP                                     1\n",
       "physics.plasm-ph cond-mat.mtrl-sci cond-mat.soft physics.flu-dyn        1\n",
       "cs.NA cs.NE physics.comp-ph                                             1\n",
       "physics.soc-ph nucl-ex physics.ins-det                                  1\n",
       "supr-con cond-mat.supr-con quant-ph                                     1\n",
       "Name: count, Length: 84868, dtype: int64"
      ]
     },
     "execution_count": 11,
     "metadata": {},
     "output_type": "execute_result"
    }
   ],
   "source": [
    "# there are many combinations of primary and cross-list categories\n",
    "df['categories'].value_counts()"
   ]
  },
  {
   "cell_type": "code",
   "execution_count": 12,
   "metadata": {
    "execution": {
     "iopub.execute_input": "2025-04-09T14:38:52.657879Z",
     "iopub.status.busy": "2025-04-09T14:38:52.657520Z",
     "iopub.status.idle": "2025-04-09T14:39:05.822197Z",
     "shell.execute_reply": "2025-04-09T14:39:05.821367Z",
     "shell.execute_reply.started": "2025-04-09T14:38:52.657844Z"
    }
   },
   "outputs": [],
   "source": [
    "# split string appearing in `categories` on white space and expand\n",
    "# split_cats[0] is the *primary* classification\n",
    "split_cats = df['categories'].str.split(n=-1, expand=True)\n",
    "primary_cat = split_cats[0]"
   ]
  },
  {
   "cell_type": "code",
   "execution_count": 13,
   "metadata": {
    "execution": {
     "iopub.execute_input": "2025-04-09T14:39:05.823592Z",
     "iopub.status.busy": "2025-04-09T14:39:05.823299Z",
     "iopub.status.idle": "2025-04-09T14:39:06.720895Z",
     "shell.execute_reply": "2025-04-09T14:39:06.719870Z",
     "shell.execute_reply.started": "2025-04-09T14:39:05.823569Z"
    }
   },
   "outputs": [
    {
     "data": {
      "text/plain": [
       "[('hep-ph', 132678),\n",
       " ('quant-ph', 109916),\n",
       " ('hep-th', 105617),\n",
       " ('cs.CV', 99967),\n",
       " ('astro-ph', 94246),\n",
       " ('cs.LG', 87968),\n",
       " ('gr-qc', 63776),\n",
       " ('cond-mat.mes-hall', 63246),\n",
       " ('cond-mat.mtrl-sci', 60664),\n",
       " ('cs.CL', 51717),\n",
       " ('math.AP', 48821),\n",
       " ('cond-mat.str-el', 47924),\n",
       " ('astro-ph.GA', 46346),\n",
       " ('math.CO', 45184),\n",
       " ('astro-ph.SR', 43046),\n",
       " ('cond-mat.stat-mech', 40585),\n",
       " ('astro-ph.CO', 40024),\n",
       " ('astro-ph.HE', 39238),\n",
       " ('math.PR', 38798),\n",
       " ('math.AG', 35704),\n",
       " ('cs.IT', 35461),\n",
       " ('nucl-th', 33374),\n",
       " ('math.NT', 32267),\n",
       " ('math-ph', 31717),\n",
       " ('math.OC', 31480),\n",
       " ('cond-mat.supr-con', 31443),\n",
       " ('physics.optics', 29206),\n",
       " ('math.DG', 28872),\n",
       " ('math.NA', 28631),\n",
       " ('cond-mat.soft', 28076),\n",
       " ('cs.RO', 24310),\n",
       " ('hep-ex', 23111),\n",
       " ('math.DS', 22575),\n",
       " ('cs.CR', 22570),\n",
       " ('cs.AI', 22356),\n",
       " ('astro-ph.EP', 22309),\n",
       " ('math.FA', 19889),\n",
       " ('stat.ME', 19555),\n",
       " ('physics.flu-dyn', 19071),\n",
       " ('astro-ph.IM', 17963),\n",
       " ('hep-lat', 17952),\n",
       " ('stat.ML', 16779),\n",
       " ('eess.SP', 16132),\n",
       " ('cs.NI', 16004),\n",
       " ('math.GT', 15522),\n",
       " ('cs.DS', 15458),\n",
       " ('math.CA', 15097),\n",
       " ('math.RT', 15094),\n",
       " ('eess.IV', 14620),\n",
       " ('math.ST', 14576),\n",
       " ('physics.ins-det', 14211),\n",
       " ('math.GR', 14084),\n",
       " ('eess.SY', 13885),\n",
       " ('cond-mat.quant-gas', 13722),\n",
       " ('cs.SE', 13518),\n",
       " ('cs.DC', 13275),\n",
       " ('physics.soc-ph', 12438),\n",
       " ('physics.atom-ph', 12293),\n",
       " ('physics.chem-ph', 11672),\n",
       " ('nucl-ex', 11597),\n",
       " ('cond-mat.dis-nn', 11548),\n",
       " ('cond-mat', 11357),\n",
       " ('physics.plasm-ph', 11239),\n",
       " ('cs.HC', 11172),\n",
       " ('math.RA', 10794),\n",
       " ('cs.CY', 10565),\n",
       " ('math.CV', 10438),\n",
       " ('cs.LO', 10367),\n",
       " ('cs.IR', 10249),\n",
       " ('cs.SI', 10031),\n",
       " ('physics.app-ph', 9691),\n",
       " ('math.LO', 9637),\n",
       " ('stat.AP', 9101),\n",
       " ('physics.gen-ph', 9008),\n",
       " ('math.QA', 8918),\n",
       " ('math.AT', 8842),\n",
       " ('math.AC', 8387),\n",
       " ('math.OA', 8017),\n",
       " ('physics.comp-ph', 7755),\n",
       " ('cs.GT', 7460),\n",
       " ('q-bio.PE', 7181),\n",
       " ('cs.NE', 6757),\n",
       " ('cond-mat.other', 6735),\n",
       " ('nlin.CD', 6451),\n",
       " ('cs.SD', 6438),\n",
       " ('physics.bio-ph', 6273),\n",
       " ('eess.AS', 6175),\n",
       " ('physics.acc-ph', 6158),\n",
       " ('q-bio.NC', 6070),\n",
       " ('math.MG', 6055),\n",
       " ('cs.DB', 6033),\n",
       " ('nlin.SI', 5116),\n",
       " ('cs.SY', 5113),\n",
       " ('cs.CC', 5106),\n",
       " ('q-bio.QM', 4907),\n",
       " ('cs.PL', 4841),\n",
       " ('math.SG', 4786),\n",
       " ('physics.class-ph', 4755),\n",
       " ('physics.med-ph', 4672),\n",
       " ('math.SP', 4643),\n",
       " ('cs.DM', 4636),\n",
       " ('nlin.PS', 4317),\n",
       " ('cs.CG', 4215),\n",
       " ('math.CT', 4024),\n",
       " ('physics.geo-ph', 3865),\n",
       " ('cs.CE', 3835),\n",
       " ('math.GM', 3798),\n",
       " ('stat.CO', 3638),\n",
       " ('physics.ao-ph', 3617),\n",
       " ('cs.DL', 3404),\n",
       " ('physics.data-an', 3268),\n",
       " ('econ.GN', 3267),\n",
       " ('math.GN', 3234),\n",
       " ('physics.hist-ph', 3137),\n",
       " ('cs.AR', 3101),\n",
       " ('physics.ed-ph', 3085),\n",
       " ('q-bio.BM', 2916),\n",
       " ('math.HO', 2895),\n",
       " ('cs.FL', 2875),\n",
       " ('nlin.AO', 2710),\n",
       " ('cs.MA', 2636),\n",
       " ('econ.EM', 2532),\n",
       " ('cs.GR', 2503),\n",
       " ('math.KT', 2451),\n",
       " ('q-bio.MN', 2216),\n",
       " ('physics.space-ph', 2194),\n",
       " ('cs.MM', 2178),\n",
       " ('cs.ET', 2110),\n",
       " ('cs.OH', 2037),\n",
       " ('q-fin.ST', 1972),\n",
       " ('q-bio.GN', 1791),\n",
       " ('chao-dyn', 1770),\n",
       " ('econ.TH', 1700),\n",
       " ('q-fin.GN', 1536),\n",
       " ('q-fin.MF', 1522),\n",
       " ('physics.pop-ph', 1331),\n",
       " ('q-fin.RM', 1265),\n",
       " ('cs.SC', 1254),\n",
       " ('physics.atm-clus', 1221),\n",
       " ('q-fin.PR', 1210),\n",
       " ('alg-geom', 1209),\n",
       " ('q-fin.CP', 1209),\n",
       " ('q-alg', 1177),\n",
       " ('q-bio.TO', 1155),\n",
       " ('q-fin.PM', 1152),\n",
       " ('cs.PF', 1112),\n",
       " ('cs.NA', 1081),\n",
       " ('q-fin.TR', 1065),\n",
       " ('cs.MS', 1043),\n",
       " ('q-bio.CB', 955),\n",
       " ('cmp-lg', 894),\n",
       " ('q-bio.OT', 865),\n",
       " ('solv-int', 844),\n",
       " ('q-bio.SC', 667),\n",
       " ('stat.OT', 633),\n",
       " ('dg-ga', 562),\n",
       " ('nlin.CG', 523),\n",
       " ('cs.OS', 482),\n",
       " ('patt-sol', 452),\n",
       " ('q-fin.EC', 385),\n",
       " ('funct-an', 320),\n",
       " ('adap-org', 306),\n",
       " ('mtrl-th', 165),\n",
       " ('comp-gas', 140),\n",
       " ('chem-ph', 129),\n",
       " ('cs.GL', 113),\n",
       " ('supr-con', 69),\n",
       " ('atom-ph', 68),\n",
       " ('acc-phys', 46),\n",
       " ('plasm-ph', 28),\n",
       " ('ao-sci', 13),\n",
       " ('bayes-an', 11)]"
      ]
     },
     "execution_count": 13,
     "metadata": {},
     "output_type": "execute_result"
    }
   ],
   "source": [
    "# get a list of primary classifications and associated count\n",
    "# list is ordered in descending count  \n",
    "primary_cats_and_counts = list(zip(split_cats[0].value_counts().keys().tolist(), split_cats[0].value_counts().tolist()))\n",
    "primary_cats_and_counts"
   ]
  },
  {
   "cell_type": "markdown",
   "metadata": {},
   "source": [
    "<a name=\"3.3\"></a>\n",
    "### 3.3 - Extract specific category/categories\n",
    "\n",
    "**NB:** The variables `wanted_categories` and `primary_classification_only` are defined in section [1.2](#1.2)"
   ]
  },
  {
   "cell_type": "code",
   "execution_count": 14,
   "metadata": {
    "execution": {
     "iopub.execute_input": "2025-04-09T14:39:06.722578Z",
     "iopub.status.busy": "2025-04-09T14:39:06.722268Z",
     "iopub.status.idle": "2025-04-09T14:39:08.973253Z",
     "shell.execute_reply": "2025-04-09T14:39:08.972311Z",
     "shell.execute_reply.started": "2025-04-09T14:39:06.722553Z"
    }
   },
   "outputs": [],
   "source": [
    "if primary_classification_only:\n",
    "    # we get those papers whose *primary* classification is in `wanted_categories`\n",
    "    df = df[primary_cat.apply(lambda x: any(k in x for k in wanted_categories))]\n",
    "else:\n",
    "    # we get papers where `wanted_categories` appears anywhere in `categories` i.e. primary and also in cross-listing\n",
    "    df = df[df['categories'].apply(lambda x: any(k in x for k in wanted_categories))]"
   ]
  },
  {
   "cell_type": "code",
   "execution_count": 15,
   "metadata": {
    "execution": {
     "iopub.execute_input": "2025-04-09T14:39:08.974702Z",
     "iopub.status.busy": "2025-04-09T14:39:08.974351Z",
     "iopub.status.idle": "2025-04-09T14:39:10.657265Z",
     "shell.execute_reply": "2025-04-09T14:39:10.656267Z",
     "shell.execute_reply.started": "2025-04-09T14:39:08.974669Z"
    }
   },
   "outputs": [
    {
     "name": "stderr",
     "output_type": "stream",
     "text": [
      "/tmp/ipykernel_33/487055147.py:1: UserWarning: Boolean Series key will be reindexed to match DataFrame index.\n",
      "  df = df[primary_cat.apply(lambda x: x[:3]=='cs.')]\n"
     ]
    }
   ],
   "source": [
    "df = df[primary_cat.apply(lambda x: x[:3]=='cs.')]"
   ]
  },
  {
   "cell_type": "code",
   "execution_count": 16,
   "metadata": {
    "execution": {
     "iopub.execute_input": "2025-04-09T14:39:10.658838Z",
     "iopub.status.busy": "2025-04-09T14:39:10.658483Z",
     "iopub.status.idle": "2025-04-09T14:39:10.665178Z",
     "shell.execute_reply": "2025-04-09T14:39:10.664249Z",
     "shell.execute_reply.started": "2025-04-09T14:39:10.658805Z"
    }
   },
   "outputs": [
    {
     "data": {
      "text/plain": [
       "(535351, 14)"
      ]
     },
     "execution_count": 16,
     "metadata": {},
     "output_type": "execute_result"
    }
   ],
   "source": [
    "df.shape"
   ]
  },
  {
   "cell_type": "markdown",
   "metadata": {},
   "source": [
    "<a name=\"3.4\"></a>\n",
    "### 3.4 - Remove papers that have been withdrawn\n",
    "\n",
    "See https://info.arxiv.org/help/withdraw.html"
   ]
  },
  {
   "cell_type": "code",
   "execution_count": 17,
   "metadata": {
    "execution": {
     "iopub.execute_input": "2025-04-09T14:39:10.666643Z",
     "iopub.status.busy": "2025-04-09T14:39:10.666341Z",
     "iopub.status.idle": "2025-04-09T14:39:11.210062Z",
     "shell.execute_reply": "2025-04-09T14:39:11.208975Z",
     "shell.execute_reply.started": "2025-04-09T14:39:10.666620Z"
    }
   },
   "outputs": [
    {
     "name": "stderr",
     "output_type": "stream",
     "text": [
      "/tmp/ipykernel_33/270111922.py:3: FutureWarning: Downcasting object dtype arrays on .fillna, .ffill, .bfill is deprecated and will change in a future version. Call result.infer_objects(copy=False) instead. To opt-in to the future behavior, set `pd.set_option('future.no_silent_downcasting', True)`\n",
      "  withdrawn.fillna(value=False, inplace=True) # replace None with False\n"
     ]
    },
    {
     "data": {
      "text/plain": [
       "comments\n",
       "False    534291\n",
       "True       1060\n",
       "Name: count, dtype: int64"
      ]
     },
     "execution_count": 17,
     "metadata": {},
     "output_type": "execute_result"
    }
   ],
   "source": [
    "# make an index of comments which contain either 'Withdrawn' or 'withdrawn'\n",
    "withdrawn = df['comments'].str.contains('Withdrawn', case=False) # empty comments return None\n",
    "withdrawn.fillna(value=False, inplace=True) # replace None with False\n",
    "withdrawn.value_counts()"
   ]
  },
  {
   "cell_type": "code",
   "execution_count": 18,
   "metadata": {
    "execution": {
     "iopub.execute_input": "2025-04-09T14:39:11.211823Z",
     "iopub.status.busy": "2025-04-09T14:39:11.211542Z",
     "iopub.status.idle": "2025-04-09T14:39:12.486161Z",
     "shell.execute_reply": "2025-04-09T14:39:12.485201Z",
     "shell.execute_reply.started": "2025-04-09T14:39:11.211799Z"
    }
   },
   "outputs": [
    {
     "data": {
      "text/plain": [
       "abstract\n",
       "False    535173\n",
       "True        178\n",
       "Name: count, dtype: int64"
      ]
     },
     "execution_count": 18,
     "metadata": {},
     "output_type": "execute_result"
    }
   ],
   "source": [
    "# sanity check but takes a while\n",
    "# make an index of abstracts which contain either 'Withdrawn' or 'withdrawn'\n",
    "# this way is quicker than using contains('withdrawn', case=False)\n",
    "withdrawn_abs = df['abstract'].str.contains('Withdrawn') | df['abstract'].str.contains('withdrawn') #| df['abstract'].str.contains('removed') \n",
    "withdrawn_abs.value_counts()"
   ]
  },
  {
   "cell_type": "code",
   "execution_count": 19,
   "metadata": {
    "execution": {
     "iopub.execute_input": "2025-04-09T14:39:12.487806Z",
     "iopub.status.busy": "2025-04-09T14:39:12.487446Z",
     "iopub.status.idle": "2025-04-09T14:39:12.607927Z",
     "shell.execute_reply": "2025-04-09T14:39:12.606974Z",
     "shell.execute_reply.started": "2025-04-09T14:39:12.487776Z"
    }
   },
   "outputs": [
    {
     "data": {
      "text/html": [
       "<div>\n",
       "<style scoped>\n",
       "    .dataframe tbody tr th:only-of-type {\n",
       "        vertical-align: middle;\n",
       "    }\n",
       "\n",
       "    .dataframe tbody tr th {\n",
       "        vertical-align: top;\n",
       "    }\n",
       "\n",
       "    .dataframe thead th {\n",
       "        text-align: right;\n",
       "    }\n",
       "</style>\n",
       "<table border=\"1\" class=\"dataframe\">\n",
       "  <thead>\n",
       "    <tr style=\"text-align: right;\">\n",
       "      <th></th>\n",
       "      <th>id</th>\n",
       "      <th>submitter</th>\n",
       "      <th>authors</th>\n",
       "      <th>title</th>\n",
       "      <th>comments</th>\n",
       "      <th>journal-ref</th>\n",
       "      <th>doi</th>\n",
       "      <th>report-no</th>\n",
       "      <th>categories</th>\n",
       "      <th>license</th>\n",
       "      <th>abstract</th>\n",
       "      <th>versions</th>\n",
       "      <th>update_date</th>\n",
       "      <th>authors_parsed</th>\n",
       "    </tr>\n",
       "  </thead>\n",
       "  <tbody>\n",
       "    <tr>\n",
       "      <th>5444</th>\n",
       "      <td>0705.1442</td>\n",
       "      <td>Karlen Gharibyan</td>\n",
       "      <td>Karlen Garnik Gharibyan</td>\n",
       "      <td>Does P=NP?</td>\n",
       "      <td>None</td>\n",
       "      <td>Karlen Gharibyan, Does P=NP?, in Proceedings o...</td>\n",
       "      <td>None</td>\n",
       "      <td>None</td>\n",
       "      <td>cs.CC</td>\n",
       "      <td>None</td>\n",
       "      <td>This paper has been withdrawn Abstract: This...</td>\n",
       "      <td>[{'version': 'v1', 'created': 'Thu, 10 May 200...</td>\n",
       "      <td>2013-05-07</td>\n",
       "      <td>[[Gharibyan, Karlen Garnik, ]]</td>\n",
       "    </tr>\n",
       "    <tr>\n",
       "      <th>21615</th>\n",
       "      <td>0708.3764</td>\n",
       "      <td>Mylene Pischella Ms</td>\n",
       "      <td>Mylene Pischella, Jean-Claude Belfiore</td>\n",
       "      <td>A Radio Resource Management strategy for downl...</td>\n",
       "      <td>None</td>\n",
       "      <td>None</td>\n",
       "      <td>None</td>\n",
       "      <td>None</td>\n",
       "      <td>cs.IT math.IT</td>\n",
       "      <td>None</td>\n",
       "      <td>This paper has been withdrawn by the author\\n</td>\n",
       "      <td>[{'version': 'v1', 'created': 'Tue, 28 Aug 200...</td>\n",
       "      <td>2007-09-19</td>\n",
       "      <td>[[Pischella, Mylene, ], [Belfiore, Jean-Claude...</td>\n",
       "    </tr>\n",
       "    <tr>\n",
       "      <th>47611</th>\n",
       "      <td>0802.0314</td>\n",
       "      <td>Fran\\c{c}ois Nicolas</td>\n",
       "      <td>Morris Michael and Francois Nicolas and Esko U...</td>\n",
       "      <td>On the complexity of finding gapped motifs</td>\n",
       "      <td>Published in Journal of Discrete Algorithms</td>\n",
       "      <td>None</td>\n",
       "      <td>10.1016/j.jda.2009.12.001</td>\n",
       "      <td>None</td>\n",
       "      <td>cs.CC cs.DM</td>\n",
       "      <td>http://arxiv.org/licenses/nonexclusive-distrib...</td>\n",
       "      <td>This paper has been withdrawn by the corresp...</td>\n",
       "      <td>[{'version': 'v1', 'created': 'Mon, 4 Feb 2008...</td>\n",
       "      <td>2010-09-02</td>\n",
       "      <td>[[Michael, Morris, ], [Nicolas, Francois, ], [...</td>\n",
       "    </tr>\n",
       "    <tr>\n",
       "      <th>50033</th>\n",
       "      <td>0802.2736</td>\n",
       "      <td>Fran\\c{c}ois Nicolas</td>\n",
       "      <td>Sylvain Guillemot, Francois Nicolas, Vincent B...</td>\n",
       "      <td>On the approximability of the Maximum Agreemen...</td>\n",
       "      <td>Published in Discrete Applied Mathematics</td>\n",
       "      <td>None</td>\n",
       "      <td>10.1016/j.dam.2008.06.007</td>\n",
       "      <td>None</td>\n",
       "      <td>cs.CC cs.DM</td>\n",
       "      <td>http://arxiv.org/licenses/nonexclusive-distrib...</td>\n",
       "      <td>This paper has been withdrawn by the corresp...</td>\n",
       "      <td>[{'version': 'v1', 'created': 'Wed, 20 Feb 200...</td>\n",
       "      <td>2010-09-02</td>\n",
       "      <td>[[Guillemot, Sylvain, ], [Nicolas, Francois, ]...</td>\n",
       "    </tr>\n",
       "    <tr>\n",
       "      <th>51604</th>\n",
       "      <td>0802.4307</td>\n",
       "      <td>Moustapha Diaby</td>\n",
       "      <td>Moustapha Diaby</td>\n",
       "      <td>A O(n^8) X O(n^7) Linear Programming Model of ...</td>\n",
       "      <td>Theorem 21 and Corollary 22 are in error; The ...</td>\n",
       "      <td>None</td>\n",
       "      <td>None</td>\n",
       "      <td>None</td>\n",
       "      <td>cs.DM cs.CC</td>\n",
       "      <td>http://arxiv.org/licenses/nonexclusive-distrib...</td>\n",
       "      <td>This paper has been withdrawn because Theore...</td>\n",
       "      <td>[{'version': 'v1', 'created': 'Fri, 29 Feb 200...</td>\n",
       "      <td>2014-03-19</td>\n",
       "      <td>[[Diaby, Moustapha, ]]</td>\n",
       "    </tr>\n",
       "    <tr>\n",
       "      <th>106405</th>\n",
       "      <td>0902.0189</td>\n",
       "      <td>Zouheir Rezki Dr.</td>\n",
       "      <td>Zouheir Rezki, Francois Gagnon, Vijay Bhargava</td>\n",
       "      <td>The Ergodic Capacity of The MIMO Wire-Tap Channel</td>\n",
       "      <td>24 pages, 3 figures</td>\n",
       "      <td>None</td>\n",
       "      <td>None</td>\n",
       "      <td>None</td>\n",
       "      <td>cs.IT math.IT</td>\n",
       "      <td>http://arxiv.org/licenses/nonexclusive-distrib...</td>\n",
       "      <td>This paper has been withdrawn to provide a m...</td>\n",
       "      <td>[{'version': 'v1', 'created': 'Mon, 2 Feb 2009...</td>\n",
       "      <td>2009-09-30</td>\n",
       "      <td>[[Rezki, Zouheir, ], [Gagnon, Francois, ], [Bh...</td>\n",
       "    </tr>\n",
       "    <tr>\n",
       "      <th>121829</th>\n",
       "      <td>0905.0233</td>\n",
       "      <td>John Wright</td>\n",
       "      <td>John Wright, Arvind Ganesh, Shankar Rao, Yi Ma</td>\n",
       "      <td>Robust Principal Component Analysis: Exact Rec...</td>\n",
       "      <td>None</td>\n",
       "      <td>None</td>\n",
       "      <td>None</td>\n",
       "      <td>None</td>\n",
       "      <td>cs.IT math.IT</td>\n",
       "      <td>http://arxiv.org/licenses/nonexclusive-distrib...</td>\n",
       "      <td>This paper has been withdrawn due to a criti...</td>\n",
       "      <td>[{'version': 'v1', 'created': 'Sat, 2 May 2009...</td>\n",
       "      <td>2009-12-09</td>\n",
       "      <td>[[Wright, John, ], [Ganesh, Arvind, ], [Rao, S...</td>\n",
       "    </tr>\n",
       "    <tr>\n",
       "      <th>137653</th>\n",
       "      <td>0907.5488</td>\n",
       "      <td>Lucile Sassatelli</td>\n",
       "      <td>Lucile Sassatelli, Muriel Medard</td>\n",
       "      <td>Network Coding for Delay Tolerant Networks wit...</td>\n",
       "      <td>None</td>\n",
       "      <td>None</td>\n",
       "      <td>None</td>\n",
       "      <td>None</td>\n",
       "      <td>cs.NI</td>\n",
       "      <td>http://arxiv.org/licenses/nonexclusive-distrib...</td>\n",
       "      <td>This article has been withdrawn by the autho...</td>\n",
       "      <td>[{'version': 'v1', 'created': 'Fri, 31 Jul 200...</td>\n",
       "      <td>2010-02-23</td>\n",
       "      <td>[[Sassatelli, Lucile, ], [Medard, Muriel, ]]</td>\n",
       "    </tr>\n",
       "    <tr>\n",
       "      <th>147889</th>\n",
       "      <td>0909.5521</td>\n",
       "      <td>Prabhu Manyem</td>\n",
       "      <td>Prabhu Manyem</td>\n",
       "      <td>Clique and Vertex Cover are solvable in polyno...</td>\n",
       "      <td>The results are incorrect. If phi = phi_1 AND ...</td>\n",
       "      <td>None</td>\n",
       "      <td>None</td>\n",
       "      <td>None</td>\n",
       "      <td>cs.CC cs.LO</td>\n",
       "      <td>http://arxiv.org/licenses/nonexclusive-distrib...</td>\n",
       "      <td>In this manuscript, assuming that Graedel's ...</td>\n",
       "      <td>[{'version': 'v1', 'created': 'Wed, 30 Sep 200...</td>\n",
       "      <td>2022-06-28</td>\n",
       "      <td>[[Manyem, Prabhu, ]]</td>\n",
       "    </tr>\n",
       "    <tr>\n",
       "      <th>163292</th>\n",
       "      <td>0912.3541</td>\n",
       "      <td>Sahand Haji Ali Ahmad</td>\n",
       "      <td>Sahand Ahmad, Cem Tekin, Mingyan Liu, Jianwei ...</td>\n",
       "      <td>Spectrum Sharing as Network Congestion Games</td>\n",
       "      <td>24 pages, 6 figures, 2 tables, Submitted to Jo...</td>\n",
       "      <td>None</td>\n",
       "      <td>None</td>\n",
       "      <td>None</td>\n",
       "      <td>cs.IT cs.GT math.IT math.OC</td>\n",
       "      <td>http://arxiv.org/licenses/nonexclusive-distrib...</td>\n",
       "      <td>This paper has been withdrawn by the first a...</td>\n",
       "      <td>[{'version': 'v1', 'created': 'Thu, 17 Dec 200...</td>\n",
       "      <td>2009-12-24</td>\n",
       "      <td>[[Ahmad, Sahand, ], [Tekin, Cem, ], [Liu, Ming...</td>\n",
       "    </tr>\n",
       "    <tr>\n",
       "      <th>172477</th>\n",
       "      <td>1002.1718</td>\n",
       "      <td>Andriy Burkov</td>\n",
       "      <td>Andriy Burkov and Brahim Chaib-draa</td>\n",
       "      <td>An Approximate Subgame-Perfect Equilibrium Com...</td>\n",
       "      <td>26 pages, 13 figures, 1 table</td>\n",
       "      <td>None</td>\n",
       "      <td>None</td>\n",
       "      <td>None</td>\n",
       "      <td>cs.GT</td>\n",
       "      <td>http://arxiv.org/licenses/nonexclusive-distrib...</td>\n",
       "      <td>This paper presents a technique for approxim...</td>\n",
       "      <td>[{'version': 'v1', 'created': 'Mon, 8 Feb 2010...</td>\n",
       "      <td>2010-02-10</td>\n",
       "      <td>[[Burkov, Andriy, ], [Chaib-draa, Brahim, ]]</td>\n",
       "    </tr>\n",
       "    <tr>\n",
       "      <th>191558</th>\n",
       "      <td>1005.4018</td>\n",
       "      <td>William Jackson</td>\n",
       "      <td>Fred Viezens</td>\n",
       "      <td>A grid environment consisting of heterogeneous...</td>\n",
       "      <td>Author requested a withdrawal</td>\n",
       "      <td>Journal of Computing, Volume 2, Issue 5, May 2010</td>\n",
       "      <td>None</td>\n",
       "      <td>None</td>\n",
       "      <td>cs.NI</td>\n",
       "      <td>http://arxiv.org/licenses/nonexclusive-distrib...</td>\n",
       "      <td>This paper has been withdrawn.\\n</td>\n",
       "      <td>[{'version': 'v1', 'created': 'Fri, 21 May 201...</td>\n",
       "      <td>2010-09-21</td>\n",
       "      <td>[[Viezens, Fred, ]]</td>\n",
       "    </tr>\n",
       "    <tr>\n",
       "      <th>202579</th>\n",
       "      <td>1007.3341</td>\n",
       "      <td>Timur Sultanov</td>\n",
       "      <td>T.G. Sultanov, A.M. Sukhov</td>\n",
       "      <td>Simulation technique for available bandwidth e...</td>\n",
       "      <td>None</td>\n",
       "      <td>None</td>\n",
       "      <td>10.1109/EMS.2010.88</td>\n",
       "      <td>None</td>\n",
       "      <td>cs.NI</td>\n",
       "      <td>http://arxiv.org/licenses/nonexclusive-distrib...</td>\n",
       "      <td>The paper proposes a method for measuring av...</td>\n",
       "      <td>[{'version': 'v1', 'created': 'Tue, 20 Jul 201...</td>\n",
       "      <td>2011-02-18</td>\n",
       "      <td>[[Sultanov, T. G., ], [Sukhov, A. M., ]]</td>\n",
       "    </tr>\n",
       "    <tr>\n",
       "      <th>351680</th>\n",
       "      <td>1206.5587</td>\n",
       "      <td>Shafqat Shad Mr</td>\n",
       "      <td>Shafqat Ali Shad, Enhong Chen</td>\n",
       "      <td>Spatial Outlier Detection from GSM Mobility Data</td>\n",
       "      <td>None</td>\n",
       "      <td>International Journal of Advanced Research in ...</td>\n",
       "      <td>None</td>\n",
       "      <td>None</td>\n",
       "      <td>cs.NI</td>\n",
       "      <td>http://arxiv.org/licenses/nonexclusive-distrib...</td>\n",
       "      <td>This paper has been withdrawn by the authors...</td>\n",
       "      <td>[{'version': 'v1', 'created': 'Mon, 25 Jun 201...</td>\n",
       "      <td>2012-09-24</td>\n",
       "      <td>[[Shad, Shafqat Ali, ], [Chen, Enhong, ]]</td>\n",
       "    </tr>\n",
       "    <tr>\n",
       "      <th>351888</th>\n",
       "      <td>1206.5795</td>\n",
       "      <td>Shafqat Shad Mr</td>\n",
       "      <td>Shafqat Ali Shad, Enhong Chen, Tengfei Bao</td>\n",
       "      <td>Cell Oscillation Resolution in Mobility Profil...</td>\n",
       "      <td>None</td>\n",
       "      <td>International Journal of Computer Science Issu...</td>\n",
       "      <td>None</td>\n",
       "      <td>None</td>\n",
       "      <td>cs.NI</td>\n",
       "      <td>http://arxiv.org/licenses/nonexclusive-distrib...</td>\n",
       "      <td>This paper has been withdrawn by the authors...</td>\n",
       "      <td>[{'version': 'v1', 'created': 'Mon, 25 Jun 201...</td>\n",
       "      <td>2013-10-28</td>\n",
       "      <td>[[Shad, Shafqat Ali, ], [Chen, Enhong, ], [Bao...</td>\n",
       "    </tr>\n",
       "    <tr>\n",
       "      <th>352192</th>\n",
       "      <td>1206.6099</td>\n",
       "      <td>Shafqat Shad Mr</td>\n",
       "      <td>Shafqat Ali Shad, Enhong Chen</td>\n",
       "      <td>Precise Location Acquisition of Mobility Data ...</td>\n",
       "      <td>None</td>\n",
       "      <td>International Journal of Computer Science Issu...</td>\n",
       "      <td>None</td>\n",
       "      <td>None</td>\n",
       "      <td>cs.NI</td>\n",
       "      <td>http://arxiv.org/licenses/nonexclusive-distrib...</td>\n",
       "      <td>This paper has been withdrawn by the authors...</td>\n",
       "      <td>[{'version': 'v1', 'created': 'Mon, 25 Jun 201...</td>\n",
       "      <td>2012-09-24</td>\n",
       "      <td>[[Shad, Shafqat Ali, ], [Chen, Enhong, ]]</td>\n",
       "    </tr>\n",
       "    <tr>\n",
       "      <th>367073</th>\n",
       "      <td>1208.6501</td>\n",
       "      <td>Mingyu Guo</td>\n",
       "      <td>Mingyu Guo, Vincent Conitzer</td>\n",
       "      <td>False-name-proofness with Bid Withdrawal</td>\n",
       "      <td>None</td>\n",
       "      <td>None</td>\n",
       "      <td>None</td>\n",
       "      <td>None</td>\n",
       "      <td>cs.GT</td>\n",
       "      <td>http://arxiv.org/licenses/nonexclusive-distrib...</td>\n",
       "      <td>We study a more powerful variant of false-na...</td>\n",
       "      <td>[{'version': 'v1', 'created': 'Fri, 31 Aug 201...</td>\n",
       "      <td>2012-09-24</td>\n",
       "      <td>[[Guo, Mingyu, ], [Conitzer, Vincent, ]]</td>\n",
       "    </tr>\n",
       "    <tr>\n",
       "      <th>396903</th>\n",
       "      <td>1301.0313</td>\n",
       "      <td>Subhash Kak</td>\n",
       "      <td>Subhash Kak</td>\n",
       "      <td>The Piggy Bank Cryptographic Trope</td>\n",
       "      <td>7 pages, 6 figures</td>\n",
       "      <td>Infocommunications Journal 6: 22-25 (2014)</td>\n",
       "      <td>None</td>\n",
       "      <td>None</td>\n",
       "      <td>cs.CR</td>\n",
       "      <td>http://arxiv.org/licenses/nonexclusive-distrib...</td>\n",
       "      <td>This paper presents applications of the trop...</td>\n",
       "      <td>[{'version': 'v1', 'created': 'Tue, 1 Jan 2013...</td>\n",
       "      <td>2014-04-18</td>\n",
       "      <td>[[Kak, Subhash, ]]</td>\n",
       "    </tr>\n",
       "    <tr>\n",
       "      <th>646716</th>\n",
       "      <td>1508.00060</td>\n",
       "      <td>Shankar Sastry</td>\n",
       "      <td>Shankar Prasad Sastry</td>\n",
       "      <td>Snow Globe: An Advancing-Front 3D Delaunay Mes...</td>\n",
       "      <td>incorrect proofs; does not consider an importa...</td>\n",
       "      <td>None</td>\n",
       "      <td>None</td>\n",
       "      <td>None</td>\n",
       "      <td>cs.CG cs.DS</td>\n",
       "      <td>http://arxiv.org/licenses/nonexclusive-distrib...</td>\n",
       "      <td>&lt;incorrect proofs; does not consider an impo...</td>\n",
       "      <td>[{'version': 'v1', 'created': 'Sat, 1 Aug 2015...</td>\n",
       "      <td>2018-08-07</td>\n",
       "      <td>[[Sastry, Shankar Prasad, ]]</td>\n",
       "    </tr>\n",
       "    <tr>\n",
       "      <th>686766</th>\n",
       "      <td>1512.04114</td>\n",
       "      <td>Emiliano De Cristofaro</td>\n",
       "      <td>Luca Melis and Apostolos Pyrgelis and Emiliano...</td>\n",
       "      <td>Building and Measuring Privacy-Preserving Pred...</td>\n",
       "      <td>Obsolete paper. For more up-to-date work on co...</td>\n",
       "      <td>None</td>\n",
       "      <td>None</td>\n",
       "      <td>None</td>\n",
       "      <td>cs.CR cs.AI</td>\n",
       "      <td>http://arxiv.org/licenses/nonexclusive-distrib...</td>\n",
       "      <td>(Withdrawn) Collaborative security initiativ...</td>\n",
       "      <td>[{'version': 'v1', 'created': 'Sun, 13 Dec 201...</td>\n",
       "      <td>2018-10-09</td>\n",
       "      <td>[[Melis, Luca, ], [Pyrgelis, Apostolos, ], [De...</td>\n",
       "    </tr>\n",
       "    <tr>\n",
       "      <th>714480</th>\n",
       "      <td>1603.05059</td>\n",
       "      <td>Dmitry Lande</td>\n",
       "      <td>A.A. Snarskii, D.I. Zorinets, D.V. Lande</td>\n",
       "      <td>\"Conjectural\" links in complex networks</td>\n",
       "      <td>12 pages, 3 figures</td>\n",
       "      <td>None</td>\n",
       "      <td>10.1016/j.physa.2016.06.077</td>\n",
       "      <td>None</td>\n",
       "      <td>cs.SI physics.soc-ph</td>\n",
       "      <td>http://arxiv.org/licenses/nonexclusive-distrib...</td>\n",
       "      <td>This paper introduces the concept of Conject...</td>\n",
       "      <td>[{'version': 'v1', 'created': 'Wed, 16 Mar 201...</td>\n",
       "      <td>2016-08-03</td>\n",
       "      <td>[[Snarskii, A. A., ], [Zorinets, D. I., ], [La...</td>\n",
       "    </tr>\n",
       "    <tr>\n",
       "      <th>743727</th>\n",
       "      <td>1606.05820</td>\n",
       "      <td>EPTCS</td>\n",
       "      <td>Ulrich Kohlenbach, Steffen van Bakel, Stefano ...</td>\n",
       "      <td>Proceedings Sixth International Workshop on Cl...</td>\n",
       "      <td>None</td>\n",
       "      <td>EPTCS 213, 2016</td>\n",
       "      <td>10.4204/EPTCS.213</td>\n",
       "      <td>None</td>\n",
       "      <td>cs.LO</td>\n",
       "      <td>http://arxiv.org/licenses/nonexclusive-distrib...</td>\n",
       "      <td>The workshop series intends to cover researc...</td>\n",
       "      <td>[{'version': 'v1', 'created': 'Sun, 19 Jun 201...</td>\n",
       "      <td>2016-06-21</td>\n",
       "      <td>[[Kohlenbach, Ulrich, ], [van Bakel, Steffen, ...</td>\n",
       "    </tr>\n",
       "    <tr>\n",
       "      <th>857093</th>\n",
       "      <td>1706.02358</td>\n",
       "      <td>Pedro Moreno-Sanchez</td>\n",
       "      <td>Pedro Moreno-Sanchez, Navin Modi, Raghuvir Son...</td>\n",
       "      <td>Mind Your Credit: Assessing the Health of the ...</td>\n",
       "      <td>None</td>\n",
       "      <td>None</td>\n",
       "      <td>None</td>\n",
       "      <td>None</td>\n",
       "      <td>cs.SI cs.CR</td>\n",
       "      <td>http://arxiv.org/licenses/nonexclusive-distrib...</td>\n",
       "      <td>The Ripple credit network has emerged as a p...</td>\n",
       "      <td>[{'version': 'v1', 'created': 'Wed, 7 Jun 2017...</td>\n",
       "      <td>2018-03-13</td>\n",
       "      <td>[[Moreno-Sanchez, Pedro, ], [Modi, Navin, ], [...</td>\n",
       "    </tr>\n",
       "    <tr>\n",
       "      <th>871798</th>\n",
       "      <td>1707.06766</td>\n",
       "      <td>Irene Teinemaa</td>\n",
       "      <td>Irene Teinemaa, Marlon Dumas, Marcello La Rosa...</td>\n",
       "      <td>Outcome-Oriented Predictive Process Monitoring...</td>\n",
       "      <td>None</td>\n",
       "      <td>None</td>\n",
       "      <td>None</td>\n",
       "      <td>None</td>\n",
       "      <td>cs.AI</td>\n",
       "      <td>http://arxiv.org/licenses/nonexclusive-distrib...</td>\n",
       "      <td>Predictive business process monitoring refer...</td>\n",
       "      <td>[{'version': 'v1', 'created': 'Fri, 21 Jul 201...</td>\n",
       "      <td>2018-10-24</td>\n",
       "      <td>[[Teinemaa, Irene, ], [Dumas, Marlon, ], [La R...</td>\n",
       "    </tr>\n",
       "    <tr>\n",
       "      <th>906654</th>\n",
       "      <td>1710.11271</td>\n",
       "      <td>Mohsen Minaei</td>\n",
       "      <td>Mohsen Minaei, Mainack Mondal, Patrick Loiseau...</td>\n",
       "      <td>Forgetting the Forgotten with Letheia, Conceal...</td>\n",
       "      <td>15 pages, 10 figures</td>\n",
       "      <td>None</td>\n",
       "      <td>None</td>\n",
       "      <td>None</td>\n",
       "      <td>cs.CR cs.SI</td>\n",
       "      <td>http://arxiv.org/licenses/nonexclusive-distrib...</td>\n",
       "      <td>Most social platforms offer mechanisms allow...</td>\n",
       "      <td>[{'version': 'v1', 'created': 'Mon, 30 Oct 201...</td>\n",
       "      <td>2018-09-27</td>\n",
       "      <td>[[Minaei, Mohsen, ], [Mondal, Mainack, ], [Loi...</td>\n",
       "    </tr>\n",
       "    <tr>\n",
       "      <th>992086</th>\n",
       "      <td>1806.06446</td>\n",
       "      <td>Yi Tay</td>\n",
       "      <td>Yi Tay, Shuai Zhang, Luu Anh Tuan, Siu Cheung Hui</td>\n",
       "      <td>Self-Attentive Neural Collaborative Filtering</td>\n",
       "      <td>We discovered a bug in our tensorflow implemen...</td>\n",
       "      <td>None</td>\n",
       "      <td>None</td>\n",
       "      <td>None</td>\n",
       "      <td>cs.IR cs.AI cs.LG cs.NE</td>\n",
       "      <td>http://arxiv.org/licenses/nonexclusive-distrib...</td>\n",
       "      <td>This paper has been withdrawn as we discover...</td>\n",
       "      <td>[{'version': 'v1', 'created': 'Sun, 17 Jun 201...</td>\n",
       "      <td>2018-07-20</td>\n",
       "      <td>[[Tay, Yi, ], [Zhang, Shuai, ], [Tuan, Luu Anh...</td>\n",
       "    </tr>\n",
       "    <tr>\n",
       "      <th>1048391</th>\n",
       "      <td>1811.03758</td>\n",
       "      <td>Filipe Falc\\~ao Batista Dos Santos</td>\n",
       "      <td>Filipe Falc\\~ao, Caio Barbosa, Baldoino Fonsec...</td>\n",
       "      <td>Influence of Technical and Social Factors for ...</td>\n",
       "      <td>The work published in this paper is outdated, ...</td>\n",
       "      <td>None</td>\n",
       "      <td>None</td>\n",
       "      <td>None</td>\n",
       "      <td>cs.SE</td>\n",
       "      <td>http://creativecommons.org/publicdomain/zero/1.0/</td>\n",
       "      <td>[This paper has been withdrawn by the author...</td>\n",
       "      <td>[{'version': 'v1', 'created': 'Fri, 9 Nov 2018...</td>\n",
       "      <td>2020-04-14</td>\n",
       "      <td>[[Falcão, Filipe, ], [Barbosa, Caio, ], [Fonse...</td>\n",
       "    </tr>\n",
       "    <tr>\n",
       "      <th>1103650</th>\n",
       "      <td>1903.11264</td>\n",
       "      <td>Sitansusekhar Roymohapatra</td>\n",
       "      <td>Sitansusekhar Roymohapatra, Ganesh R. Gore, Ak...</td>\n",
       "      <td>A Novel Hierarchical Circuit LUT Model for SOI...</td>\n",
       "      <td>This article was uploaded by mistake without t...</td>\n",
       "      <td>None</td>\n",
       "      <td>None</td>\n",
       "      <td>None</td>\n",
       "      <td>cs.AR</td>\n",
       "      <td>http://arxiv.org/licenses/nonexclusive-distrib...</td>\n",
       "      <td>This article is withdrawn because the co-aut...</td>\n",
       "      <td>[{'version': 'v1', 'created': 'Wed, 27 Mar 201...</td>\n",
       "      <td>2019-04-29</td>\n",
       "      <td>[[Roymohapatra, Sitansusekhar, ], [Gore, Ganes...</td>\n",
       "    </tr>\n",
       "    <tr>\n",
       "      <th>1124673</th>\n",
       "      <td>1905.06237</td>\n",
       "      <td>Antonios Makris</td>\n",
       "      <td>Antonios Makris</td>\n",
       "      <td>Implementation of functions in R tool in paral...</td>\n",
       "      <td>None</td>\n",
       "      <td>None</td>\n",
       "      <td>None</td>\n",
       "      <td>None</td>\n",
       "      <td>cs.DC cs.SE</td>\n",
       "      <td>http://arxiv.org/licenses/nonexclusive-distrib...</td>\n",
       "      <td>Drug promiscuity and polypharmacology are mu...</td>\n",
       "      <td>[{'version': 'v1', 'created': 'Wed, 8 May 2019...</td>\n",
       "      <td>2019-05-16</td>\n",
       "      <td>[[Makris, Antonios, ]]</td>\n",
       "    </tr>\n",
       "    <tr>\n",
       "      <th>1192941</th>\n",
       "      <td>1910.09022</td>\n",
       "      <td>Yan Zheng</td>\n",
       "      <td>Ruimin Shen, Yan Zheng, Jianye Hao, Yinfeng Ch...</td>\n",
       "      <td>Diverse Behavior Is What Game AI Needs: Genera...</td>\n",
       "      <td>1. there is some discrepancy between some cont...</td>\n",
       "      <td>None</td>\n",
       "      <td>None</td>\n",
       "      <td>None</td>\n",
       "      <td>cs.LG stat.ML</td>\n",
       "      <td>http://arxiv.org/licenses/nonexclusive-distrib...</td>\n",
       "      <td>this paper has been withdrawn\\n</td>\n",
       "      <td>[{'version': 'v1', 'created': 'Sun, 20 Oct 201...</td>\n",
       "      <td>2020-04-17</td>\n",
       "      <td>[[Shen, Ruimin, ], [Zheng, Yan, ], [Hao, Jiany...</td>\n",
       "    </tr>\n",
       "    <tr>\n",
       "      <th>1269992</th>\n",
       "      <td>2004.05222</td>\n",
       "      <td>Mirco Nanni</td>\n",
       "      <td>Mirco Nanni, Gennady Andrienko, Albert-L\\'aszl...</td>\n",
       "      <td>Give more data, awareness and control to indiv...</td>\n",
       "      <td>Revised text. Additional authors</td>\n",
       "      <td>Transactions on Data Privacy 13(1): 61-66 (202...</td>\n",
       "      <td>None</td>\n",
       "      <td>None</td>\n",
       "      <td>cs.CY cs.SI</td>\n",
       "      <td>http://arxiv.org/licenses/nonexclusive-distrib...</td>\n",
       "      <td>The rapid dynamics of COVID-19 calls for qui...</td>\n",
       "      <td>[{'version': 'v1', 'created': 'Fri, 10 Apr 202...</td>\n",
       "      <td>2020-04-29</td>\n",
       "      <td>[[Nanni, Mirco, ], [Andrienko, Gennady, ], [Ba...</td>\n",
       "    </tr>\n",
       "    <tr>\n",
       "      <th>1298982</th>\n",
       "      <td>2006.04468</td>\n",
       "      <td>Dr John Stephen Kayode</td>\n",
       "      <td>John Stephen Kayode, Asha Embrandiri, and Adij...</td>\n",
       "      <td>The Covid-19 pandemic's effects on poor rural ...</td>\n",
       "      <td>The manuscript has 15 pages, 10 figures, 1 Tab...</td>\n",
       "      <td>None</td>\n",
       "      <td>None</td>\n",
       "      <td>None</td>\n",
       "      <td>cs.CY</td>\n",
       "      <td>http://creativecommons.org/licenses/by/4.0/</td>\n",
       "      <td>The fear of the invisible but prevalent Coro...</td>\n",
       "      <td>[{'version': 'v1', 'created': 'Mon, 8 Jun 2020...</td>\n",
       "      <td>2020-06-09</td>\n",
       "      <td>[[Kayode, John Stephen, ], [Embrandiri, Asha, ...</td>\n",
       "    </tr>\n",
       "    <tr>\n",
       "      <th>1354490</th>\n",
       "      <td>2009.12987</td>\n",
       "      <td>Sanghyun Son</td>\n",
       "      <td>Sanghyun Son, Jaerin Lee, Seungjun Nah, Radu T...</td>\n",
       "      <td>AIM 2020 Challenge on Video Temporal Super-Res...</td>\n",
       "      <td>Published in ECCV 2020 Workshop (Advances in I...</td>\n",
       "      <td>None</td>\n",
       "      <td>None</td>\n",
       "      <td>None</td>\n",
       "      <td>cs.CV</td>\n",
       "      <td>http://arxiv.org/licenses/nonexclusive-distrib...</td>\n",
       "      <td>Videos in the real-world contain various dyn...</td>\n",
       "      <td>[{'version': 'v1', 'created': 'Mon, 28 Sep 202...</td>\n",
       "      <td>2020-09-29</td>\n",
       "      <td>[[Son, Sanghyun, ], [Lee, Jaerin, ], [Nah, Seu...</td>\n",
       "    </tr>\n",
       "    <tr>\n",
       "      <th>1355510</th>\n",
       "      <td>2009.14007</td>\n",
       "      <td>Tin Tironsakkul</td>\n",
       "      <td>Tin Tironsakkul, Manuel Maarek, Andrea Eross, ...</td>\n",
       "      <td>Tracking Mixed Bitcoins</td>\n",
       "      <td>17 pages, 3 figures, CBT 2020</td>\n",
       "      <td>None</td>\n",
       "      <td>None</td>\n",
       "      <td>None</td>\n",
       "      <td>cs.CR</td>\n",
       "      <td>http://arxiv.org/licenses/nonexclusive-distrib...</td>\n",
       "      <td>Mixer services purportedly remove all connec...</td>\n",
       "      <td>[{'version': 'v1', 'created': 'Tue, 29 Sep 202...</td>\n",
       "      <td>2020-11-02</td>\n",
       "      <td>[[Tironsakkul, Tin, ], [Maarek, Manuel, ], [Er...</td>\n",
       "    </tr>\n",
       "    <tr>\n",
       "      <th>1386331</th>\n",
       "      <td>2011.13583</td>\n",
       "      <td>Apoorv Khandelwal</td>\n",
       "      <td>Margot Hanley, Apoorv Khandelwal, Hadar Averbu...</td>\n",
       "      <td>An Ethical Highlighter for People-Centric Data...</td>\n",
       "      <td>Part of the Navigating the Broader Impacts of ...</td>\n",
       "      <td>None</td>\n",
       "      <td>None</td>\n",
       "      <td>None</td>\n",
       "      <td>cs.CY cs.CV cs.DB</td>\n",
       "      <td>http://arxiv.org/licenses/nonexclusive-distrib...</td>\n",
       "      <td>Important ethical concerns arising from comp...</td>\n",
       "      <td>[{'version': 'v1', 'created': 'Fri, 27 Nov 202...</td>\n",
       "      <td>2020-11-30</td>\n",
       "      <td>[[Hanley, Margot, ], [Khandelwal, Apoorv, ], [...</td>\n",
       "    </tr>\n",
       "    <tr>\n",
       "      <th>1512930</th>\n",
       "      <td>2108.04115</td>\n",
       "      <td>Shervin Halat</td>\n",
       "      <td>Shervin Halat, Mohammad Mehdi Ebadzadeh</td>\n",
       "      <td>Modified Double DQN: addressing stability</td>\n",
       "      <td>None</td>\n",
       "      <td>None</td>\n",
       "      <td>None</td>\n",
       "      <td>None</td>\n",
       "      <td>cs.AI</td>\n",
       "      <td>http://creativecommons.org/licenses/by/4.0/</td>\n",
       "      <td>Inspired by double q learning algorithm, the...</td>\n",
       "      <td>[{'version': 'v1', 'created': 'Mon, 9 Aug 2021...</td>\n",
       "      <td>2021-08-10</td>\n",
       "      <td>[[Halat, Shervin, ], [Ebadzadeh, Mohammad Mehd...</td>\n",
       "    </tr>\n",
       "    <tr>\n",
       "      <th>1686721</th>\n",
       "      <td>2207.10823</td>\n",
       "      <td>Keita Emura</td>\n",
       "      <td>Kota Chin, Keita Emura, Kazumasa Omote, Shingo...</td>\n",
       "      <td>A Sealed-bid Auction with Fund Binding: Preven...</td>\n",
       "      <td>None</td>\n",
       "      <td>None</td>\n",
       "      <td>None</td>\n",
       "      <td>None</td>\n",
       "      <td>cs.CR cs.GT</td>\n",
       "      <td>http://creativecommons.org/licenses/by/4.0/</td>\n",
       "      <td>In an open-bid auction, a bidder can know th...</td>\n",
       "      <td>[{'version': 'v1', 'created': 'Fri, 22 Jul 202...</td>\n",
       "      <td>2023-12-14</td>\n",
       "      <td>[[Chin, Kota, ], [Emura, Keita, ], [Omote, Kaz...</td>\n",
       "    </tr>\n",
       "    <tr>\n",
       "      <th>1716917</th>\n",
       "      <td>2209.11202</td>\n",
       "      <td>Lear Bahack</td>\n",
       "      <td>Lear Bahack</td>\n",
       "      <td>Solving the General Case of Rank-3 Maker-Break...</td>\n",
       "      <td>None</td>\n",
       "      <td>None</td>\n",
       "      <td>None</td>\n",
       "      <td>None</td>\n",
       "      <td>cs.CC math.CO</td>\n",
       "      <td>http://creativecommons.org/licenses/by/4.0/</td>\n",
       "      <td>A rank-3 Maker-Breaker game is played on a h...</td>\n",
       "      <td>[{'version': 'v1', 'created': 'Thu, 22 Sep 202...</td>\n",
       "      <td>2022-09-23</td>\n",
       "      <td>[[Bahack, Lear, ]]</td>\n",
       "    </tr>\n",
       "    <tr>\n",
       "      <th>2288726</th>\n",
       "      <td>cs/0003002</td>\n",
       "      <td>Louis-Sebastien Guimond</td>\n",
       "      <td>Louis-Sebastien Guimond, Zuzana Masakova, Jiri...</td>\n",
       "      <td>Combining Random Number Generators using Quasi...</td>\n",
       "      <td>None</td>\n",
       "      <td>None</td>\n",
       "      <td>None</td>\n",
       "      <td>None</td>\n",
       "      <td>cs.DM</td>\n",
       "      <td>None</td>\n",
       "      <td>This paper has been withdrawn by the author(...</td>\n",
       "      <td>[{'version': 'v1', 'created': 'Wed, 1 Mar 2000...</td>\n",
       "      <td>2007-05-23</td>\n",
       "      <td>[[Guimond, Louis-Sebastien, ], [Masakova, Zuza...</td>\n",
       "    </tr>\n",
       "    <tr>\n",
       "      <th>2289655</th>\n",
       "      <td>cs/0112016</td>\n",
       "      <td>Boaz Tsaban</td>\n",
       "      <td>Boaz Tsaban</td>\n",
       "      <td>Pseudorandom permutations with the fast forwar...</td>\n",
       "      <td>Paper withdrawal</td>\n",
       "      <td>None</td>\n",
       "      <td>None</td>\n",
       "      <td>None</td>\n",
       "      <td>cs.CR cs.CC</td>\n",
       "      <td>None</td>\n",
       "      <td>This paper has been withdrawn by the author(...</td>\n",
       "      <td>[{'version': 'v1', 'created': 'Thu, 13 Dec 200...</td>\n",
       "      <td>2007-05-23</td>\n",
       "      <td>[[Tsaban, Boaz, ]]</td>\n",
       "    </tr>\n",
       "    <tr>\n",
       "      <th>2291930</th>\n",
       "      <td>cs/0502030</td>\n",
       "      <td>Raju Renjit G.</td>\n",
       "      <td>Raju Renjit G</td>\n",
       "      <td>Fixed Type Theorems</td>\n",
       "      <td>None</td>\n",
       "      <td>None</td>\n",
       "      <td>None</td>\n",
       "      <td>None</td>\n",
       "      <td>cs.CC</td>\n",
       "      <td>http://arxiv.org/licenses/nonexclusive-distrib...</td>\n",
       "      <td>This submission has been withdrawn at the re...</td>\n",
       "      <td>[{'version': 'v1', 'created': 'Sat, 5 Feb 2005...</td>\n",
       "      <td>2009-08-25</td>\n",
       "      <td>[[G, Raju Renjit, ]]</td>\n",
       "    </tr>\n",
       "    <tr>\n",
       "      <th>2292096</th>\n",
       "      <td>cs/0504008</td>\n",
       "      <td>Raju Renjit G</td>\n",
       "      <td>Raju Renjit. G</td>\n",
       "      <td>Super Object Oriented Programming</td>\n",
       "      <td>None</td>\n",
       "      <td>None</td>\n",
       "      <td>None</td>\n",
       "      <td>None</td>\n",
       "      <td>cs.PL</td>\n",
       "      <td>http://arxiv.org/licenses/nonexclusive-distrib...</td>\n",
       "      <td>This submission has been withdrawn at the re...</td>\n",
       "      <td>[{'version': 'v1', 'created': 'Mon, 4 Apr 2005...</td>\n",
       "      <td>2009-08-25</td>\n",
       "      <td>[[G, Raju Renjit., ]]</td>\n",
       "    </tr>\n",
       "    <tr>\n",
       "      <th>2292113</th>\n",
       "      <td>cs/0504025</td>\n",
       "      <td>Raju Renjit G</td>\n",
       "      <td>Raju Renjit. G</td>\n",
       "      <td>Incorporating LINQ, State Diagrams Templating ...</td>\n",
       "      <td>None</td>\n",
       "      <td>None</td>\n",
       "      <td>None</td>\n",
       "      <td>None</td>\n",
       "      <td>cs.PL</td>\n",
       "      <td>http://arxiv.org/licenses/nonexclusive-distrib...</td>\n",
       "      <td>This submission has been withdrawn at the re...</td>\n",
       "      <td>[{'version': 'v1', 'created': 'Thu, 7 Apr 2005...</td>\n",
       "      <td>2009-08-25</td>\n",
       "      <td>[[G, Raju Renjit., ]]</td>\n",
       "    </tr>\n",
       "    <tr>\n",
       "      <th>2293961</th>\n",
       "      <td>cs/0608056</td>\n",
       "      <td>Bin Dai</td>\n",
       "      <td>Bin Dai, Yuan Luo</td>\n",
       "      <td>Wiretap Channel With Side Information</td>\n",
       "      <td>None</td>\n",
       "      <td>None</td>\n",
       "      <td>None</td>\n",
       "      <td>None</td>\n",
       "      <td>cs.IT math.IT</td>\n",
       "      <td>None</td>\n",
       "      <td>This submission has been withdrawn by the au...</td>\n",
       "      <td>[{'version': 'v1', 'created': 'Mon, 14 Aug 200...</td>\n",
       "      <td>2007-07-13</td>\n",
       "      <td>[[Dai, Bin, ], [Luo, Yuan, ]]</td>\n",
       "    </tr>\n",
       "    <tr>\n",
       "      <th>2294103</th>\n",
       "      <td>cs/0609073</td>\n",
       "      <td>Mylene Pischella Mrs</td>\n",
       "      <td>Mylene Pischella, Jean-Claude Belfiore</td>\n",
       "      <td>Optimal power allocation for downlink cooperat...</td>\n",
       "      <td>None</td>\n",
       "      <td>None</td>\n",
       "      <td>None</td>\n",
       "      <td>None</td>\n",
       "      <td>cs.IT math.IT</td>\n",
       "      <td>None</td>\n",
       "      <td>This paper has been withdrawn by the author\\n</td>\n",
       "      <td>[{'version': 'v1', 'created': 'Wed, 13 Sep 200...</td>\n",
       "      <td>2007-09-19</td>\n",
       "      <td>[[Pischella, Mylene, ], [Belfiore, Jean-Claude...</td>\n",
       "    </tr>\n",
       "    <tr>\n",
       "      <th>2294519</th>\n",
       "      <td>cs/0611147</td>\n",
       "      <td>Raju Renjit G</td>\n",
       "      <td>Raju Renjit. G</td>\n",
       "      <td>P is not equal to NP</td>\n",
       "      <td>None</td>\n",
       "      <td>None</td>\n",
       "      <td>None</td>\n",
       "      <td>None</td>\n",
       "      <td>cs.CC</td>\n",
       "      <td>http://arxiv.org/licenses/nonexclusive-distrib...</td>\n",
       "      <td>This submission has been withdrawn at the re...</td>\n",
       "      <td>[{'version': 'v1', 'created': 'Wed, 29 Nov 200...</td>\n",
       "      <td>2009-08-25</td>\n",
       "      <td>[[G, Raju Renjit., ]]</td>\n",
       "    </tr>\n",
       "    <tr>\n",
       "      <th>2295000</th>\n",
       "      <td>cs/0702119</td>\n",
       "      <td>Raju Renjit G</td>\n",
       "      <td>Raju Renjit. G</td>\n",
       "      <td>Ulam's Conjecture is True for Connected Graphs</td>\n",
       "      <td>None</td>\n",
       "      <td>None</td>\n",
       "      <td>None</td>\n",
       "      <td>None</td>\n",
       "      <td>cs.DM</td>\n",
       "      <td>http://arxiv.org/licenses/nonexclusive-distrib...</td>\n",
       "      <td>This submission has been withdrawn at the re...</td>\n",
       "      <td>[{'version': 'v1', 'created': 'Wed, 21 Feb 200...</td>\n",
       "      <td>2009-08-25</td>\n",
       "      <td>[[G, Raju Renjit., ]]</td>\n",
       "    </tr>\n",
       "    <tr>\n",
       "      <th>2295584</th>\n",
       "      <td>cs/9902017</td>\n",
       "      <td>Kurt D. Bollacker</td>\n",
       "      <td>Not Available</td>\n",
       "      <td>Not Available</td>\n",
       "      <td>None</td>\n",
       "      <td>None</td>\n",
       "      <td>None</td>\n",
       "      <td>None</td>\n",
       "      <td>cs.DL cs.DB</td>\n",
       "      <td>None</td>\n",
       "      <td>withdrawn by author\\n</td>\n",
       "      <td>[{'version': 'v1', 'created': 'Tue, 9 Feb 1999...</td>\n",
       "      <td>2007-05-23</td>\n",
       "      <td>[[Available, Not, ]]</td>\n",
       "    </tr>\n",
       "  </tbody>\n",
       "</table>\n",
       "</div>"
      ],
      "text/plain": [
       "                 id                           submitter  \\\n",
       "5444      0705.1442                    Karlen Gharibyan   \n",
       "21615     0708.3764                 Mylene Pischella Ms   \n",
       "47611     0802.0314                Fran\\c{c}ois Nicolas   \n",
       "50033     0802.2736                Fran\\c{c}ois Nicolas   \n",
       "51604     0802.4307                     Moustapha Diaby   \n",
       "106405    0902.0189                   Zouheir Rezki Dr.   \n",
       "121829    0905.0233                         John Wright   \n",
       "137653    0907.5488                   Lucile Sassatelli   \n",
       "147889    0909.5521                       Prabhu Manyem   \n",
       "163292    0912.3541               Sahand Haji Ali Ahmad   \n",
       "172477    1002.1718                       Andriy Burkov   \n",
       "191558    1005.4018                     William Jackson   \n",
       "202579    1007.3341                      Timur Sultanov   \n",
       "351680    1206.5587                     Shafqat Shad Mr   \n",
       "351888    1206.5795                     Shafqat Shad Mr   \n",
       "352192    1206.6099                     Shafqat Shad Mr   \n",
       "367073    1208.6501                          Mingyu Guo   \n",
       "396903    1301.0313                         Subhash Kak   \n",
       "646716   1508.00060                      Shankar Sastry   \n",
       "686766   1512.04114              Emiliano De Cristofaro   \n",
       "714480   1603.05059                        Dmitry Lande   \n",
       "743727   1606.05820                               EPTCS   \n",
       "857093   1706.02358                Pedro Moreno-Sanchez   \n",
       "871798   1707.06766                      Irene Teinemaa   \n",
       "906654   1710.11271                       Mohsen Minaei   \n",
       "992086   1806.06446                              Yi Tay   \n",
       "1048391  1811.03758  Filipe Falc\\~ao Batista Dos Santos   \n",
       "1103650  1903.11264          Sitansusekhar Roymohapatra   \n",
       "1124673  1905.06237                     Antonios Makris   \n",
       "1192941  1910.09022                           Yan Zheng   \n",
       "1269992  2004.05222                         Mirco Nanni   \n",
       "1298982  2006.04468              Dr John Stephen Kayode   \n",
       "1354490  2009.12987                        Sanghyun Son   \n",
       "1355510  2009.14007                     Tin Tironsakkul   \n",
       "1386331  2011.13583                   Apoorv Khandelwal   \n",
       "1512930  2108.04115                       Shervin Halat   \n",
       "1686721  2207.10823                         Keita Emura   \n",
       "1716917  2209.11202                         Lear Bahack   \n",
       "2288726  cs/0003002             Louis-Sebastien Guimond   \n",
       "2289655  cs/0112016                         Boaz Tsaban   \n",
       "2291930  cs/0502030                      Raju Renjit G.   \n",
       "2292096  cs/0504008                       Raju Renjit G   \n",
       "2292113  cs/0504025                       Raju Renjit G   \n",
       "2293961  cs/0608056                             Bin Dai   \n",
       "2294103  cs/0609073                Mylene Pischella Mrs   \n",
       "2294519  cs/0611147                       Raju Renjit G   \n",
       "2295000  cs/0702119                       Raju Renjit G   \n",
       "2295584  cs/9902017                   Kurt D. Bollacker   \n",
       "\n",
       "                                                   authors  \\\n",
       "5444                               Karlen Garnik Gharibyan   \n",
       "21615               Mylene Pischella, Jean-Claude Belfiore   \n",
       "47611    Morris Michael and Francois Nicolas and Esko U...   \n",
       "50033    Sylvain Guillemot, Francois Nicolas, Vincent B...   \n",
       "51604                                      Moustapha Diaby   \n",
       "106405      Zouheir Rezki, Francois Gagnon, Vijay Bhargava   \n",
       "121829      John Wright, Arvind Ganesh, Shankar Rao, Yi Ma   \n",
       "137653                    Lucile Sassatelli, Muriel Medard   \n",
       "147889                                       Prabhu Manyem   \n",
       "163292   Sahand Ahmad, Cem Tekin, Mingyan Liu, Jianwei ...   \n",
       "172477                 Andriy Burkov and Brahim Chaib-draa   \n",
       "191558                                        Fred Viezens   \n",
       "202579                          T.G. Sultanov, A.M. Sukhov   \n",
       "351680                       Shafqat Ali Shad, Enhong Chen   \n",
       "351888          Shafqat Ali Shad, Enhong Chen, Tengfei Bao   \n",
       "352192                       Shafqat Ali Shad, Enhong Chen   \n",
       "367073                        Mingyu Guo, Vincent Conitzer   \n",
       "396903                                         Subhash Kak   \n",
       "646716                               Shankar Prasad Sastry   \n",
       "686766   Luca Melis and Apostolos Pyrgelis and Emiliano...   \n",
       "714480            A.A. Snarskii, D.I. Zorinets, D.V. Lande   \n",
       "743727   Ulrich Kohlenbach, Steffen van Bakel, Stefano ...   \n",
       "857093   Pedro Moreno-Sanchez, Navin Modi, Raghuvir Son...   \n",
       "871798   Irene Teinemaa, Marlon Dumas, Marcello La Rosa...   \n",
       "906654   Mohsen Minaei, Mainack Mondal, Patrick Loiseau...   \n",
       "992086   Yi Tay, Shuai Zhang, Luu Anh Tuan, Siu Cheung Hui   \n",
       "1048391  Filipe Falc\\~ao, Caio Barbosa, Baldoino Fonsec...   \n",
       "1103650  Sitansusekhar Roymohapatra, Ganesh R. Gore, Ak...   \n",
       "1124673                                    Antonios Makris   \n",
       "1192941  Ruimin Shen, Yan Zheng, Jianye Hao, Yinfeng Ch...   \n",
       "1269992  Mirco Nanni, Gennady Andrienko, Albert-L\\'aszl...   \n",
       "1298982  John Stephen Kayode, Asha Embrandiri, and Adij...   \n",
       "1354490  Sanghyun Son, Jaerin Lee, Seungjun Nah, Radu T...   \n",
       "1355510  Tin Tironsakkul, Manuel Maarek, Andrea Eross, ...   \n",
       "1386331  Margot Hanley, Apoorv Khandelwal, Hadar Averbu...   \n",
       "1512930            Shervin Halat, Mohammad Mehdi Ebadzadeh   \n",
       "1686721  Kota Chin, Keita Emura, Kazumasa Omote, Shingo...   \n",
       "1716917                                        Lear Bahack   \n",
       "2288726  Louis-Sebastien Guimond, Zuzana Masakova, Jiri...   \n",
       "2289655                                        Boaz Tsaban   \n",
       "2291930                                      Raju Renjit G   \n",
       "2292096                                     Raju Renjit. G   \n",
       "2292113                                     Raju Renjit. G   \n",
       "2293961                                  Bin Dai, Yuan Luo   \n",
       "2294103             Mylene Pischella, Jean-Claude Belfiore   \n",
       "2294519                                     Raju Renjit. G   \n",
       "2295000                                     Raju Renjit. G   \n",
       "2295584                                      Not Available   \n",
       "\n",
       "                                                     title  \\\n",
       "5444                                            Does P=NP?   \n",
       "21615    A Radio Resource Management strategy for downl...   \n",
       "47611           On the complexity of finding gapped motifs   \n",
       "50033    On the approximability of the Maximum Agreemen...   \n",
       "51604    A O(n^8) X O(n^7) Linear Programming Model of ...   \n",
       "106405   The Ergodic Capacity of The MIMO Wire-Tap Channel   \n",
       "121829   Robust Principal Component Analysis: Exact Rec...   \n",
       "137653   Network Coding for Delay Tolerant Networks wit...   \n",
       "147889   Clique and Vertex Cover are solvable in polyno...   \n",
       "163292        Spectrum Sharing as Network Congestion Games   \n",
       "172477   An Approximate Subgame-Perfect Equilibrium Com...   \n",
       "191558   A grid environment consisting of heterogeneous...   \n",
       "202579   Simulation technique for available bandwidth e...   \n",
       "351680    Spatial Outlier Detection from GSM Mobility Data   \n",
       "351888   Cell Oscillation Resolution in Mobility Profil...   \n",
       "352192   Precise Location Acquisition of Mobility Data ...   \n",
       "367073            False-name-proofness with Bid Withdrawal   \n",
       "396903                  The Piggy Bank Cryptographic Trope   \n",
       "646716   Snow Globe: An Advancing-Front 3D Delaunay Mes...   \n",
       "686766   Building and Measuring Privacy-Preserving Pred...   \n",
       "714480             \"Conjectural\" links in complex networks   \n",
       "743727   Proceedings Sixth International Workshop on Cl...   \n",
       "857093   Mind Your Credit: Assessing the Health of the ...   \n",
       "871798   Outcome-Oriented Predictive Process Monitoring...   \n",
       "906654   Forgetting the Forgotten with Letheia, Conceal...   \n",
       "992086       Self-Attentive Neural Collaborative Filtering   \n",
       "1048391  Influence of Technical and Social Factors for ...   \n",
       "1103650  A Novel Hierarchical Circuit LUT Model for SOI...   \n",
       "1124673  Implementation of functions in R tool in paral...   \n",
       "1192941  Diverse Behavior Is What Game AI Needs: Genera...   \n",
       "1269992  Give more data, awareness and control to indiv...   \n",
       "1298982  The Covid-19 pandemic's effects on poor rural ...   \n",
       "1354490  AIM 2020 Challenge on Video Temporal Super-Res...   \n",
       "1355510                            Tracking Mixed Bitcoins   \n",
       "1386331  An Ethical Highlighter for People-Centric Data...   \n",
       "1512930          Modified Double DQN: addressing stability   \n",
       "1686721  A Sealed-bid Auction with Fund Binding: Preven...   \n",
       "1716917  Solving the General Case of Rank-3 Maker-Break...   \n",
       "2288726  Combining Random Number Generators using Quasi...   \n",
       "2289655  Pseudorandom permutations with the fast forwar...   \n",
       "2291930                                Fixed Type Theorems   \n",
       "2292096                  Super Object Oriented Programming   \n",
       "2292113  Incorporating LINQ, State Diagrams Templating ...   \n",
       "2293961              Wiretap Channel With Side Information   \n",
       "2294103  Optimal power allocation for downlink cooperat...   \n",
       "2294519                               P is not equal to NP   \n",
       "2295000     Ulam's Conjecture is True for Connected Graphs   \n",
       "2295584                                      Not Available   \n",
       "\n",
       "                                                  comments  \\\n",
       "5444                                                  None   \n",
       "21615                                                 None   \n",
       "47611          Published in Journal of Discrete Algorithms   \n",
       "50033            Published in Discrete Applied Mathematics   \n",
       "51604    Theorem 21 and Corollary 22 are in error; The ...   \n",
       "106405                                 24 pages, 3 figures   \n",
       "121829                                                None   \n",
       "137653                                                None   \n",
       "147889   The results are incorrect. If phi = phi_1 AND ...   \n",
       "163292   24 pages, 6 figures, 2 tables, Submitted to Jo...   \n",
       "172477                       26 pages, 13 figures, 1 table   \n",
       "191558                       Author requested a withdrawal   \n",
       "202579                                                None   \n",
       "351680                                                None   \n",
       "351888                                                None   \n",
       "352192                                                None   \n",
       "367073                                                None   \n",
       "396903                                  7 pages, 6 figures   \n",
       "646716   incorrect proofs; does not consider an importa...   \n",
       "686766   Obsolete paper. For more up-to-date work on co...   \n",
       "714480                                 12 pages, 3 figures   \n",
       "743727                                                None   \n",
       "857093                                                None   \n",
       "871798                                                None   \n",
       "906654                                15 pages, 10 figures   \n",
       "992086   We discovered a bug in our tensorflow implemen...   \n",
       "1048391  The work published in this paper is outdated, ...   \n",
       "1103650  This article was uploaded by mistake without t...   \n",
       "1124673                                               None   \n",
       "1192941  1. there is some discrepancy between some cont...   \n",
       "1269992                   Revised text. Additional authors   \n",
       "1298982  The manuscript has 15 pages, 10 figures, 1 Tab...   \n",
       "1354490  Published in ECCV 2020 Workshop (Advances in I...   \n",
       "1355510                      17 pages, 3 figures, CBT 2020   \n",
       "1386331  Part of the Navigating the Broader Impacts of ...   \n",
       "1512930                                               None   \n",
       "1686721                                               None   \n",
       "1716917                                               None   \n",
       "2288726                                               None   \n",
       "2289655                                   Paper withdrawal   \n",
       "2291930                                               None   \n",
       "2292096                                               None   \n",
       "2292113                                               None   \n",
       "2293961                                               None   \n",
       "2294103                                               None   \n",
       "2294519                                               None   \n",
       "2295000                                               None   \n",
       "2295584                                               None   \n",
       "\n",
       "                                               journal-ref  \\\n",
       "5444     Karlen Gharibyan, Does P=NP?, in Proceedings o...   \n",
       "21615                                                 None   \n",
       "47611                                                 None   \n",
       "50033                                                 None   \n",
       "51604                                                 None   \n",
       "106405                                                None   \n",
       "121829                                                None   \n",
       "137653                                                None   \n",
       "147889                                                None   \n",
       "163292                                                None   \n",
       "172477                                                None   \n",
       "191558   Journal of Computing, Volume 2, Issue 5, May 2010   \n",
       "202579                                                None   \n",
       "351680   International Journal of Advanced Research in ...   \n",
       "351888   International Journal of Computer Science Issu...   \n",
       "352192   International Journal of Computer Science Issu...   \n",
       "367073                                                None   \n",
       "396903          Infocommunications Journal 6: 22-25 (2014)   \n",
       "646716                                                None   \n",
       "686766                                                None   \n",
       "714480                                                None   \n",
       "743727                                     EPTCS 213, 2016   \n",
       "857093                                                None   \n",
       "871798                                                None   \n",
       "906654                                                None   \n",
       "992086                                                None   \n",
       "1048391                                               None   \n",
       "1103650                                               None   \n",
       "1124673                                               None   \n",
       "1192941                                               None   \n",
       "1269992  Transactions on Data Privacy 13(1): 61-66 (202...   \n",
       "1298982                                               None   \n",
       "1354490                                               None   \n",
       "1355510                                               None   \n",
       "1386331                                               None   \n",
       "1512930                                               None   \n",
       "1686721                                               None   \n",
       "1716917                                               None   \n",
       "2288726                                               None   \n",
       "2289655                                               None   \n",
       "2291930                                               None   \n",
       "2292096                                               None   \n",
       "2292113                                               None   \n",
       "2293961                                               None   \n",
       "2294103                                               None   \n",
       "2294519                                               None   \n",
       "2295000                                               None   \n",
       "2295584                                               None   \n",
       "\n",
       "                                 doi report-no                   categories  \\\n",
       "5444                            None      None                        cs.CC   \n",
       "21615                           None      None                cs.IT math.IT   \n",
       "47611      10.1016/j.jda.2009.12.001      None                  cs.CC cs.DM   \n",
       "50033      10.1016/j.dam.2008.06.007      None                  cs.CC cs.DM   \n",
       "51604                           None      None                  cs.DM cs.CC   \n",
       "106405                          None      None                cs.IT math.IT   \n",
       "121829                          None      None                cs.IT math.IT   \n",
       "137653                          None      None                        cs.NI   \n",
       "147889                          None      None                  cs.CC cs.LO   \n",
       "163292                          None      None  cs.IT cs.GT math.IT math.OC   \n",
       "172477                          None      None                        cs.GT   \n",
       "191558                          None      None                        cs.NI   \n",
       "202579           10.1109/EMS.2010.88      None                        cs.NI   \n",
       "351680                          None      None                        cs.NI   \n",
       "351888                          None      None                        cs.NI   \n",
       "352192                          None      None                        cs.NI   \n",
       "367073                          None      None                        cs.GT   \n",
       "396903                          None      None                        cs.CR   \n",
       "646716                          None      None                  cs.CG cs.DS   \n",
       "686766                          None      None                  cs.CR cs.AI   \n",
       "714480   10.1016/j.physa.2016.06.077      None         cs.SI physics.soc-ph   \n",
       "743727             10.4204/EPTCS.213      None                        cs.LO   \n",
       "857093                          None      None                  cs.SI cs.CR   \n",
       "871798                          None      None                        cs.AI   \n",
       "906654                          None      None                  cs.CR cs.SI   \n",
       "992086                          None      None      cs.IR cs.AI cs.LG cs.NE   \n",
       "1048391                         None      None                        cs.SE   \n",
       "1103650                         None      None                        cs.AR   \n",
       "1124673                         None      None                  cs.DC cs.SE   \n",
       "1192941                         None      None                cs.LG stat.ML   \n",
       "1269992                         None      None                  cs.CY cs.SI   \n",
       "1298982                         None      None                        cs.CY   \n",
       "1354490                         None      None                        cs.CV   \n",
       "1355510                         None      None                        cs.CR   \n",
       "1386331                         None      None            cs.CY cs.CV cs.DB   \n",
       "1512930                         None      None                        cs.AI   \n",
       "1686721                         None      None                  cs.CR cs.GT   \n",
       "1716917                         None      None                cs.CC math.CO   \n",
       "2288726                         None      None                        cs.DM   \n",
       "2289655                         None      None                  cs.CR cs.CC   \n",
       "2291930                         None      None                        cs.CC   \n",
       "2292096                         None      None                        cs.PL   \n",
       "2292113                         None      None                        cs.PL   \n",
       "2293961                         None      None                cs.IT math.IT   \n",
       "2294103                         None      None                cs.IT math.IT   \n",
       "2294519                         None      None                        cs.CC   \n",
       "2295000                         None      None                        cs.DM   \n",
       "2295584                         None      None                  cs.DL cs.DB   \n",
       "\n",
       "                                                   license  \\\n",
       "5444                                                  None   \n",
       "21615                                                 None   \n",
       "47611    http://arxiv.org/licenses/nonexclusive-distrib...   \n",
       "50033    http://arxiv.org/licenses/nonexclusive-distrib...   \n",
       "51604    http://arxiv.org/licenses/nonexclusive-distrib...   \n",
       "106405   http://arxiv.org/licenses/nonexclusive-distrib...   \n",
       "121829   http://arxiv.org/licenses/nonexclusive-distrib...   \n",
       "137653   http://arxiv.org/licenses/nonexclusive-distrib...   \n",
       "147889   http://arxiv.org/licenses/nonexclusive-distrib...   \n",
       "163292   http://arxiv.org/licenses/nonexclusive-distrib...   \n",
       "172477   http://arxiv.org/licenses/nonexclusive-distrib...   \n",
       "191558   http://arxiv.org/licenses/nonexclusive-distrib...   \n",
       "202579   http://arxiv.org/licenses/nonexclusive-distrib...   \n",
       "351680   http://arxiv.org/licenses/nonexclusive-distrib...   \n",
       "351888   http://arxiv.org/licenses/nonexclusive-distrib...   \n",
       "352192   http://arxiv.org/licenses/nonexclusive-distrib...   \n",
       "367073   http://arxiv.org/licenses/nonexclusive-distrib...   \n",
       "396903   http://arxiv.org/licenses/nonexclusive-distrib...   \n",
       "646716   http://arxiv.org/licenses/nonexclusive-distrib...   \n",
       "686766   http://arxiv.org/licenses/nonexclusive-distrib...   \n",
       "714480   http://arxiv.org/licenses/nonexclusive-distrib...   \n",
       "743727   http://arxiv.org/licenses/nonexclusive-distrib...   \n",
       "857093   http://arxiv.org/licenses/nonexclusive-distrib...   \n",
       "871798   http://arxiv.org/licenses/nonexclusive-distrib...   \n",
       "906654   http://arxiv.org/licenses/nonexclusive-distrib...   \n",
       "992086   http://arxiv.org/licenses/nonexclusive-distrib...   \n",
       "1048391  http://creativecommons.org/publicdomain/zero/1.0/   \n",
       "1103650  http://arxiv.org/licenses/nonexclusive-distrib...   \n",
       "1124673  http://arxiv.org/licenses/nonexclusive-distrib...   \n",
       "1192941  http://arxiv.org/licenses/nonexclusive-distrib...   \n",
       "1269992  http://arxiv.org/licenses/nonexclusive-distrib...   \n",
       "1298982        http://creativecommons.org/licenses/by/4.0/   \n",
       "1354490  http://arxiv.org/licenses/nonexclusive-distrib...   \n",
       "1355510  http://arxiv.org/licenses/nonexclusive-distrib...   \n",
       "1386331  http://arxiv.org/licenses/nonexclusive-distrib...   \n",
       "1512930        http://creativecommons.org/licenses/by/4.0/   \n",
       "1686721        http://creativecommons.org/licenses/by/4.0/   \n",
       "1716917        http://creativecommons.org/licenses/by/4.0/   \n",
       "2288726                                               None   \n",
       "2289655                                               None   \n",
       "2291930  http://arxiv.org/licenses/nonexclusive-distrib...   \n",
       "2292096  http://arxiv.org/licenses/nonexclusive-distrib...   \n",
       "2292113  http://arxiv.org/licenses/nonexclusive-distrib...   \n",
       "2293961                                               None   \n",
       "2294103                                               None   \n",
       "2294519  http://arxiv.org/licenses/nonexclusive-distrib...   \n",
       "2295000  http://arxiv.org/licenses/nonexclusive-distrib...   \n",
       "2295584                                               None   \n",
       "\n",
       "                                                  abstract  \\\n",
       "5444       This paper has been withdrawn Abstract: This...   \n",
       "21615        This paper has been withdrawn by the author\\n   \n",
       "47611      This paper has been withdrawn by the corresp...   \n",
       "50033      This paper has been withdrawn by the corresp...   \n",
       "51604      This paper has been withdrawn because Theore...   \n",
       "106405     This paper has been withdrawn to provide a m...   \n",
       "121829     This paper has been withdrawn due to a criti...   \n",
       "137653     This article has been withdrawn by the autho...   \n",
       "147889     In this manuscript, assuming that Graedel's ...   \n",
       "163292     This paper has been withdrawn by the first a...   \n",
       "172477     This paper presents a technique for approxim...   \n",
       "191558                    This paper has been withdrawn.\\n   \n",
       "202579     The paper proposes a method for measuring av...   \n",
       "351680     This paper has been withdrawn by the authors...   \n",
       "351888     This paper has been withdrawn by the authors...   \n",
       "352192     This paper has been withdrawn by the authors...   \n",
       "367073     We study a more powerful variant of false-na...   \n",
       "396903     This paper presents applications of the trop...   \n",
       "646716     <incorrect proofs; does not consider an impo...   \n",
       "686766     (Withdrawn) Collaborative security initiativ...   \n",
       "714480     This paper introduces the concept of Conject...   \n",
       "743727     The workshop series intends to cover researc...   \n",
       "857093     The Ripple credit network has emerged as a p...   \n",
       "871798     Predictive business process monitoring refer...   \n",
       "906654     Most social platforms offer mechanisms allow...   \n",
       "992086     This paper has been withdrawn as we discover...   \n",
       "1048391    [This paper has been withdrawn by the author...   \n",
       "1103650    This article is withdrawn because the co-aut...   \n",
       "1124673    Drug promiscuity and polypharmacology are mu...   \n",
       "1192941                    this paper has been withdrawn\\n   \n",
       "1269992    The rapid dynamics of COVID-19 calls for qui...   \n",
       "1298982    The fear of the invisible but prevalent Coro...   \n",
       "1354490    Videos in the real-world contain various dyn...   \n",
       "1355510    Mixer services purportedly remove all connec...   \n",
       "1386331    Important ethical concerns arising from comp...   \n",
       "1512930    Inspired by double q learning algorithm, the...   \n",
       "1686721    In an open-bid auction, a bidder can know th...   \n",
       "1716917    A rank-3 Maker-Breaker game is played on a h...   \n",
       "2288726    This paper has been withdrawn by the author(...   \n",
       "2289655    This paper has been withdrawn by the author(...   \n",
       "2291930    This submission has been withdrawn at the re...   \n",
       "2292096    This submission has been withdrawn at the re...   \n",
       "2292113    This submission has been withdrawn at the re...   \n",
       "2293961    This submission has been withdrawn by the au...   \n",
       "2294103      This paper has been withdrawn by the author\\n   \n",
       "2294519    This submission has been withdrawn at the re...   \n",
       "2295000    This submission has been withdrawn at the re...   \n",
       "2295584                              withdrawn by author\\n   \n",
       "\n",
       "                                                  versions update_date  \\\n",
       "5444     [{'version': 'v1', 'created': 'Thu, 10 May 200...  2013-05-07   \n",
       "21615    [{'version': 'v1', 'created': 'Tue, 28 Aug 200...  2007-09-19   \n",
       "47611    [{'version': 'v1', 'created': 'Mon, 4 Feb 2008...  2010-09-02   \n",
       "50033    [{'version': 'v1', 'created': 'Wed, 20 Feb 200...  2010-09-02   \n",
       "51604    [{'version': 'v1', 'created': 'Fri, 29 Feb 200...  2014-03-19   \n",
       "106405   [{'version': 'v1', 'created': 'Mon, 2 Feb 2009...  2009-09-30   \n",
       "121829   [{'version': 'v1', 'created': 'Sat, 2 May 2009...  2009-12-09   \n",
       "137653   [{'version': 'v1', 'created': 'Fri, 31 Jul 200...  2010-02-23   \n",
       "147889   [{'version': 'v1', 'created': 'Wed, 30 Sep 200...  2022-06-28   \n",
       "163292   [{'version': 'v1', 'created': 'Thu, 17 Dec 200...  2009-12-24   \n",
       "172477   [{'version': 'v1', 'created': 'Mon, 8 Feb 2010...  2010-02-10   \n",
       "191558   [{'version': 'v1', 'created': 'Fri, 21 May 201...  2010-09-21   \n",
       "202579   [{'version': 'v1', 'created': 'Tue, 20 Jul 201...  2011-02-18   \n",
       "351680   [{'version': 'v1', 'created': 'Mon, 25 Jun 201...  2012-09-24   \n",
       "351888   [{'version': 'v1', 'created': 'Mon, 25 Jun 201...  2013-10-28   \n",
       "352192   [{'version': 'v1', 'created': 'Mon, 25 Jun 201...  2012-09-24   \n",
       "367073   [{'version': 'v1', 'created': 'Fri, 31 Aug 201...  2012-09-24   \n",
       "396903   [{'version': 'v1', 'created': 'Tue, 1 Jan 2013...  2014-04-18   \n",
       "646716   [{'version': 'v1', 'created': 'Sat, 1 Aug 2015...  2018-08-07   \n",
       "686766   [{'version': 'v1', 'created': 'Sun, 13 Dec 201...  2018-10-09   \n",
       "714480   [{'version': 'v1', 'created': 'Wed, 16 Mar 201...  2016-08-03   \n",
       "743727   [{'version': 'v1', 'created': 'Sun, 19 Jun 201...  2016-06-21   \n",
       "857093   [{'version': 'v1', 'created': 'Wed, 7 Jun 2017...  2018-03-13   \n",
       "871798   [{'version': 'v1', 'created': 'Fri, 21 Jul 201...  2018-10-24   \n",
       "906654   [{'version': 'v1', 'created': 'Mon, 30 Oct 201...  2018-09-27   \n",
       "992086   [{'version': 'v1', 'created': 'Sun, 17 Jun 201...  2018-07-20   \n",
       "1048391  [{'version': 'v1', 'created': 'Fri, 9 Nov 2018...  2020-04-14   \n",
       "1103650  [{'version': 'v1', 'created': 'Wed, 27 Mar 201...  2019-04-29   \n",
       "1124673  [{'version': 'v1', 'created': 'Wed, 8 May 2019...  2019-05-16   \n",
       "1192941  [{'version': 'v1', 'created': 'Sun, 20 Oct 201...  2020-04-17   \n",
       "1269992  [{'version': 'v1', 'created': 'Fri, 10 Apr 202...  2020-04-29   \n",
       "1298982  [{'version': 'v1', 'created': 'Mon, 8 Jun 2020...  2020-06-09   \n",
       "1354490  [{'version': 'v1', 'created': 'Mon, 28 Sep 202...  2020-09-29   \n",
       "1355510  [{'version': 'v1', 'created': 'Tue, 29 Sep 202...  2020-11-02   \n",
       "1386331  [{'version': 'v1', 'created': 'Fri, 27 Nov 202...  2020-11-30   \n",
       "1512930  [{'version': 'v1', 'created': 'Mon, 9 Aug 2021...  2021-08-10   \n",
       "1686721  [{'version': 'v1', 'created': 'Fri, 22 Jul 202...  2023-12-14   \n",
       "1716917  [{'version': 'v1', 'created': 'Thu, 22 Sep 202...  2022-09-23   \n",
       "2288726  [{'version': 'v1', 'created': 'Wed, 1 Mar 2000...  2007-05-23   \n",
       "2289655  [{'version': 'v1', 'created': 'Thu, 13 Dec 200...  2007-05-23   \n",
       "2291930  [{'version': 'v1', 'created': 'Sat, 5 Feb 2005...  2009-08-25   \n",
       "2292096  [{'version': 'v1', 'created': 'Mon, 4 Apr 2005...  2009-08-25   \n",
       "2292113  [{'version': 'v1', 'created': 'Thu, 7 Apr 2005...  2009-08-25   \n",
       "2293961  [{'version': 'v1', 'created': 'Mon, 14 Aug 200...  2007-07-13   \n",
       "2294103  [{'version': 'v1', 'created': 'Wed, 13 Sep 200...  2007-09-19   \n",
       "2294519  [{'version': 'v1', 'created': 'Wed, 29 Nov 200...  2009-08-25   \n",
       "2295000  [{'version': 'v1', 'created': 'Wed, 21 Feb 200...  2009-08-25   \n",
       "2295584  [{'version': 'v1', 'created': 'Tue, 9 Feb 1999...  2007-05-23   \n",
       "\n",
       "                                            authors_parsed  \n",
       "5444                        [[Gharibyan, Karlen Garnik, ]]  \n",
       "21615    [[Pischella, Mylene, ], [Belfiore, Jean-Claude...  \n",
       "47611    [[Michael, Morris, ], [Nicolas, Francois, ], [...  \n",
       "50033    [[Guillemot, Sylvain, ], [Nicolas, Francois, ]...  \n",
       "51604                               [[Diaby, Moustapha, ]]  \n",
       "106405   [[Rezki, Zouheir, ], [Gagnon, Francois, ], [Bh...  \n",
       "121829   [[Wright, John, ], [Ganesh, Arvind, ], [Rao, S...  \n",
       "137653        [[Sassatelli, Lucile, ], [Medard, Muriel, ]]  \n",
       "147889                                [[Manyem, Prabhu, ]]  \n",
       "163292   [[Ahmad, Sahand, ], [Tekin, Cem, ], [Liu, Ming...  \n",
       "172477        [[Burkov, Andriy, ], [Chaib-draa, Brahim, ]]  \n",
       "191558                                 [[Viezens, Fred, ]]  \n",
       "202579            [[Sultanov, T. G., ], [Sukhov, A. M., ]]  \n",
       "351680           [[Shad, Shafqat Ali, ], [Chen, Enhong, ]]  \n",
       "351888   [[Shad, Shafqat Ali, ], [Chen, Enhong, ], [Bao...  \n",
       "352192           [[Shad, Shafqat Ali, ], [Chen, Enhong, ]]  \n",
       "367073            [[Guo, Mingyu, ], [Conitzer, Vincent, ]]  \n",
       "396903                                  [[Kak, Subhash, ]]  \n",
       "646716                        [[Sastry, Shankar Prasad, ]]  \n",
       "686766   [[Melis, Luca, ], [Pyrgelis, Apostolos, ], [De...  \n",
       "714480   [[Snarskii, A. A., ], [Zorinets, D. I., ], [La...  \n",
       "743727   [[Kohlenbach, Ulrich, ], [van Bakel, Steffen, ...  \n",
       "857093   [[Moreno-Sanchez, Pedro, ], [Modi, Navin, ], [...  \n",
       "871798   [[Teinemaa, Irene, ], [Dumas, Marlon, ], [La R...  \n",
       "906654   [[Minaei, Mohsen, ], [Mondal, Mainack, ], [Loi...  \n",
       "992086   [[Tay, Yi, ], [Zhang, Shuai, ], [Tuan, Luu Anh...  \n",
       "1048391  [[Falcão, Filipe, ], [Barbosa, Caio, ], [Fonse...  \n",
       "1103650  [[Roymohapatra, Sitansusekhar, ], [Gore, Ganes...  \n",
       "1124673                             [[Makris, Antonios, ]]  \n",
       "1192941  [[Shen, Ruimin, ], [Zheng, Yan, ], [Hao, Jiany...  \n",
       "1269992  [[Nanni, Mirco, ], [Andrienko, Gennady, ], [Ba...  \n",
       "1298982  [[Kayode, John Stephen, ], [Embrandiri, Asha, ...  \n",
       "1354490  [[Son, Sanghyun, ], [Lee, Jaerin, ], [Nah, Seu...  \n",
       "1355510  [[Tironsakkul, Tin, ], [Maarek, Manuel, ], [Er...  \n",
       "1386331  [[Hanley, Margot, ], [Khandelwal, Apoorv, ], [...  \n",
       "1512930  [[Halat, Shervin, ], [Ebadzadeh, Mohammad Mehd...  \n",
       "1686721  [[Chin, Kota, ], [Emura, Keita, ], [Omote, Kaz...  \n",
       "1716917                                 [[Bahack, Lear, ]]  \n",
       "2288726  [[Guimond, Louis-Sebastien, ], [Masakova, Zuza...  \n",
       "2289655                                 [[Tsaban, Boaz, ]]  \n",
       "2291930                               [[G, Raju Renjit, ]]  \n",
       "2292096                              [[G, Raju Renjit., ]]  \n",
       "2292113                              [[G, Raju Renjit., ]]  \n",
       "2293961                      [[Dai, Bin, ], [Luo, Yuan, ]]  \n",
       "2294103  [[Pischella, Mylene, ], [Belfiore, Jean-Claude...  \n",
       "2294519                              [[G, Raju Renjit., ]]  \n",
       "2295000                              [[G, Raju Renjit., ]]  \n",
       "2295584                               [[Available, Not, ]]  "
      ]
     },
     "execution_count": 19,
     "metadata": {},
     "output_type": "execute_result"
    }
   ],
   "source": [
    "# look at entries with `withdrawn` in abstract but not in comments\n",
    "df[~withdrawn & withdrawn_abs]"
   ]
  },
  {
   "cell_type": "code",
   "execution_count": 20,
   "metadata": {
    "execution": {
     "iopub.execute_input": "2025-04-09T14:39:12.609684Z",
     "iopub.status.busy": "2025-04-09T14:39:12.609329Z",
     "iopub.status.idle": "2025-04-09T14:39:12.884540Z",
     "shell.execute_reply": "2025-04-09T14:39:12.883426Z",
     "shell.execute_reply.started": "2025-04-09T14:39:12.609654Z"
    }
   },
   "outputs": [
    {
     "data": {
      "text/plain": [
       "(534243, 14)"
      ]
     },
     "execution_count": 20,
     "metadata": {},
     "output_type": "execute_result"
    }
   ],
   "source": [
    "# drop the withdrawn papers\n",
    "df = df[~(withdrawn | withdrawn_abs)]\n",
    "df.shape"
   ]
  },
  {
   "cell_type": "markdown",
   "metadata": {},
   "source": [
    "<a name=\"4\"></a>\n",
    "## 4 - Look at the abstracts"
   ]
  },
  {
   "cell_type": "markdown",
   "metadata": {},
   "source": [
    "<a name=\"4.1\"></a>\n",
    "### 4.1 - Length of abstracts"
   ]
  },
  {
   "cell_type": "code",
   "execution_count": 21,
   "metadata": {
    "execution": {
     "iopub.execute_input": "2025-04-09T14:39:12.886357Z",
     "iopub.status.busy": "2025-04-09T14:39:12.886013Z",
     "iopub.status.idle": "2025-04-09T14:39:12.891470Z",
     "shell.execute_reply": "2025-04-09T14:39:12.890368Z",
     "shell.execute_reply.started": "2025-04-09T14:39:12.886332Z"
    }
   },
   "outputs": [],
   "source": [
    "df.reset_index(drop=True, inplace=True)"
   ]
  },
  {
   "cell_type": "code",
   "execution_count": 22,
   "metadata": {
    "execution": {
     "iopub.execute_input": "2025-04-09T14:39:12.896784Z",
     "iopub.status.busy": "2025-04-09T14:39:12.896434Z",
     "iopub.status.idle": "2025-04-09T14:39:13.225634Z",
     "shell.execute_reply": "2025-04-09T14:39:13.224548Z",
     "shell.execute_reply.started": "2025-04-09T14:39:12.896759Z"
    }
   },
   "outputs": [
    {
     "data": {
      "text/plain": [
       "count    534243.000000\n",
       "mean       1152.501431\n",
       "std         366.894162\n",
       "min           6.000000\n",
       "25%         901.000000\n",
       "50%        1148.000000\n",
       "75%        1404.000000\n",
       "max        3857.000000\n",
       "Name: abstract, dtype: float64"
      ]
     },
     "execution_count": 22,
     "metadata": {},
     "output_type": "execute_result"
    }
   ],
   "source": [
    "# get the number of characters in each abstract\n",
    "abstract_len = df['abstract'].map(lambda x: len(x))\n",
    "# look at the summary statistics for abstract_len\n",
    "abstract_len.describe()\n",
    "# According to https://info.arxiv.org/help/prep.html\n",
    "# abstracts longer than 1920 characters are not accepted. \n",
    "# So when did this rule begin as we have examples of abstract_len > 1920?"
   ]
  },
  {
   "cell_type": "code",
   "execution_count": 23,
   "metadata": {
    "execution": {
     "iopub.execute_input": "2025-04-09T14:39:13.227370Z",
     "iopub.status.busy": "2025-04-09T14:39:13.226958Z",
     "iopub.status.idle": "2025-04-09T14:39:13.706698Z",
     "shell.execute_reply": "2025-04-09T14:39:13.705454Z",
     "shell.execute_reply.started": "2025-04-09T14:39:13.227336Z"
    }
   },
   "outputs": [
    {
     "data": {
      "text/plain": [
       "<Axes: >"
      ]
     },
     "execution_count": 23,
     "metadata": {},
     "output_type": "execute_result"
    },
    {
     "data": {
      "image/png": "[encoded data removed]",
      "text/plain": [
       "<Figure size 640x480 with 1 Axes>"
      ]
     },
     "metadata": {},
     "output_type": "display_data"
    }
   ],
   "source": [
    "abstract_len.hist()"
   ]
  },
  {
   "cell_type": "code",
   "execution_count": 24,
   "metadata": {
    "execution": {
     "iopub.execute_input": "2025-04-09T14:39:13.708453Z",
     "iopub.status.busy": "2025-04-09T14:39:13.708123Z",
     "iopub.status.idle": "2025-04-09T14:39:13.715861Z",
     "shell.execute_reply": "2025-04-09T14:39:13.714926Z",
     "shell.execute_reply.started": "2025-04-09T14:39:13.708427Z"
    }
   },
   "outputs": [
    {
     "data": {
      "text/plain": [
       "\"  While the search for new solvents in the chemical industry is of uttermost\\nimportance with respect to environmental considerations, this domain remains\\nstrongly tied to highly manual and visual inspection tasks by human experts. As\\nthe manipulated chemicals may imply a critical danger (CMR substances),\\nmechanical protection barrier are used (fume hoods, gloveboxes). This, in turn,\\ncan induce postural discomfort in the long term. Carrying out this task using a\\nremotely controlled robot to reproduce the desired vial motions would alleviate\\nthese postural constraints. Nevertheless, the adoption of such a system will\\ndepend on its ability to transcribe the users' expertise. Particular attention\\nmust be paid to the intuitiveness of the system : transparency of the actions\\nperformed, relevance of the perceptual feedback, etc. and, in particular, the\\nfidelity of the movements performed in relation to the user's commands.\\nHowever, the extent of the rotational movements to be generated and the task\\ninteractivity complicates the problem both from the point of view of the motor\\ncapacities of industrial robots and for the transparency/responsiveness of the\\ncontrol.To tackle the problen of guaranteeing a secure and reactive expression\\nof the manual characteristics of this task, we propose to separate the control\\nof movement into two parts: control of the path (set of spatial poses) and of\\nthe trajectories associated with this path (speed, direction of travel along\\nthe path). The user can then partially control the robot's movements, by\\nchoosing the type of generic, secure path and modulating the trajectory\\nperformed on this path in real time. Although this drastically limits the\\npossibilities for interaction, we assume that this teleoperated system can\\nenable this type of observation task to be carried out as effectively as for\\ndirect manipulation. This hypothesis was tested through an experiment in which\\na reading task, less dangerous but with similar characteristics to the\\napplication task, had to be performed using different variants of trajectory\\nmodulation. This experiment consisted in reading words printed on four white\\ncapsules (dimensions 6 x 12 mm) placed into cylindrical vials ( dimensions 16\\nmm x 70 mm). Four randomly selected vials were tested by each variant. Firstly,\\nusers had to perform the task via direct handling, then under conditions\\nsecured by a protection barrier. Users were then invited to perform the task\\nusing different trajectory modulation variants (modulation and passive viewing\\nof a pre-recorded video, modulation of the trajectory of a Franka-Emika Panda\\nrobot performing the task in real time in front of a monocular Logitech Brio 4K\\ncamera). After each trial of a variant, users evaluate different aspects of\\nthis variant (manual and visual performance, ease of use, acceptability of the\\ninterface) through a questionnaire. During the trials, various objective\\ncriteria are also measured (number and nature of interaction with the\\ninterface, time and degree of success in the task). This experiment was carried\\nout with 37 subjects (age : 27$\\\\pm$5, 20 females). The data recorded showed\\nthat the proportion of successes, as well as the subjects' perceptions of\\nvisual performance, comfort of use and acceptability of the interface, were\\nsimilar and high for all the variants. This suggests that this task is indeed\\nachievable via the proposed interface. However, data also showed that average\\ntask completion times when using the trajectory modulation variants were\\nsignificantly higher than handling by hand variants, which implies that the\\nproposed remote semi-automatic control procedure fails to achieve satisfactory\\nperformance regarding execution time. An interface allowing more reactive\\nmanipulation of the vial's movements seems necessary, and will be tested in a\\nfuture experiment.\\n\""
      ]
     },
     "execution_count": 24,
     "metadata": {},
     "output_type": "execute_result"
    }
   ],
   "source": [
    "# Take a look at the longest abstract\n",
    "df.iloc[abstract_len.idxmax()]['abstract']"
   ]
  },
  {
   "cell_type": "markdown",
   "metadata": {},
   "source": [
    "Things to notice about the above abstract\n",
    "- there is lots of whitespace at the start\n",
    "- there are many \\n instead of spaces\n",
    "\n",
    "This suggests we replace \\n with ' ' and strip out the extra leading/trailing whitespaces."
   ]
  },
  {
   "cell_type": "markdown",
   "metadata": {},
   "source": [
    "<a name=\"4.2\"></a>\n",
    "### 4.2 - Keywords/PACS at end of abstracts"
   ]
  },
  {
   "cell_type": "code",
   "execution_count": 25,
   "metadata": {
    "execution": {
     "iopub.execute_input": "2025-04-09T14:39:13.717429Z",
     "iopub.status.busy": "2025-04-09T14:39:13.717109Z",
     "iopub.status.idle": "2025-04-09T14:39:36.560715Z",
     "shell.execute_reply": "2025-04-09T14:39:36.559668Z",
     "shell.execute_reply.started": "2025-04-09T14:39:13.717406Z"
    }
   },
   "outputs": [
    {
     "data": {
      "text/plain": [
       "3042"
      ]
     },
     "execution_count": 25,
     "metadata": {},
     "output_type": "execute_result"
    }
   ],
   "source": [
    "# Turns out there's PACS numbers and Keywords at the end of some abstracts,\n",
    "# should we remove these for training a LLM?\n",
    "# Find which abstracts contain either 'Keyword' or 'PACS'\n",
    "has_keyword = df['abstract'].str.contains('Keyword|PACS', case=False)\n",
    "df[has_keyword].shape[0]"
   ]
  },
  {
   "cell_type": "code",
   "execution_count": 26,
   "metadata": {
    "execution": {
     "iopub.execute_input": "2025-04-09T14:39:36.562246Z",
     "iopub.status.busy": "2025-04-09T14:39:36.561952Z",
     "iopub.status.idle": "2025-04-09T14:39:36.566341Z",
     "shell.execute_reply": "2025-04-09T14:39:36.565442Z",
     "shell.execute_reply.started": "2025-04-09T14:39:36.562221Z"
    }
   },
   "outputs": [],
   "source": [
    "# df[has_keyword].iloc[0]['abstract']"
   ]
  },
  {
   "cell_type": "code",
   "execution_count": 27,
   "metadata": {
    "execution": {
     "iopub.execute_input": "2025-04-09T14:39:36.567610Z",
     "iopub.status.busy": "2025-04-09T14:39:36.567342Z",
     "iopub.status.idle": "2025-04-09T14:39:36.598428Z",
     "shell.execute_reply": "2025-04-09T14:39:36.597442Z",
     "shell.execute_reply.started": "2025-04-09T14:39:36.567588Z"
    }
   },
   "outputs": [
    {
     "name": "stdout",
     "output_type": "stream",
     "text": [
      "Percentage of abstacts with Keywords or PACS is 0.569%\n"
     ]
    }
   ],
   "source": [
    "print(f\"Percentage of abstacts with Keywords or PACS is {100 * df[has_keyword].shape[0] / df.shape[0]:.3f}%\")"
   ]
  },
  {
   "cell_type": "markdown",
   "metadata": {},
   "source": [
    "<a name=\"4.3\"></a>\n",
    "### 4.3 - Multi-lingual abstracts\n",
    "\n",
    "See https://info.arxiv.org/help/faq/multilang.html"
   ]
  },
  {
   "cell_type": "markdown",
   "metadata": {},
   "source": [
    "First we find any multi-lingual abstracts"
   ]
  },
  {
   "cell_type": "code",
   "execution_count": 28,
   "metadata": {
    "execution": {
     "iopub.execute_input": "2025-04-09T14:39:36.600220Z",
     "iopub.status.busy": "2025-04-09T14:39:36.599779Z",
     "iopub.status.idle": "2025-04-09T14:39:37.205170Z",
     "shell.execute_reply": "2025-04-09T14:39:37.204217Z",
     "shell.execute_reply.started": "2025-04-09T14:39:36.600184Z"
    }
   },
   "outputs": [
    {
     "data": {
      "text/plain": [
       "abstract\n",
       "False    534197\n",
       "True         46\n",
       "Name: count, dtype: int64"
      ]
     },
     "execution_count": 28,
     "metadata": {},
     "output_type": "execute_result"
    }
   ],
   "source": [
    "multi = df['abstract'].str.contains(\"-----\")\n",
    "multi.value_counts()"
   ]
  },
  {
   "cell_type": "code",
   "execution_count": 29,
   "metadata": {
    "execution": {
     "iopub.execute_input": "2025-04-09T14:39:37.206569Z",
     "iopub.status.busy": "2025-04-09T14:39:37.206270Z",
     "iopub.status.idle": "2025-04-09T14:39:37.212781Z",
     "shell.execute_reply": "2025-04-09T14:39:37.211843Z",
     "shell.execute_reply.started": "2025-04-09T14:39:37.206545Z"
    }
   },
   "outputs": [
    {
     "name": "stdout",
     "output_type": "stream",
     "text": [
      "Percentage of multi-lingual abstacts is 0.009%\n"
     ]
    }
   ],
   "source": [
    "print(f\"Percentage of multi-lingual abstacts is {100 * df[multi].shape[0] / df.shape[0]:.3f}%\")"
   ]
  },
  {
   "cell_type": "code",
   "execution_count": 30,
   "metadata": {
    "execution": {
     "iopub.execute_input": "2025-04-09T14:39:37.214062Z",
     "iopub.status.busy": "2025-04-09T14:39:37.213750Z",
     "iopub.status.idle": "2025-04-09T14:39:37.628427Z",
     "shell.execute_reply": "2025-04-09T14:39:37.627553Z",
     "shell.execute_reply.started": "2025-04-09T14:39:37.214038Z"
    }
   },
   "outputs": [],
   "source": [
    "english_only = df['abstract'].apply(lambda x: x.split(\"-----\")[0])"
   ]
  },
  {
   "cell_type": "markdown",
   "metadata": {},
   "source": [
    "We have to be careful because there are some abstracts which have metric signatures denoted by $+-----$ as can be seen below!"
   ]
  },
  {
   "cell_type": "code",
   "execution_count": 31,
   "metadata": {
    "execution": {
     "iopub.execute_input": "2025-04-09T14:39:37.629777Z",
     "iopub.status.busy": "2025-04-09T14:39:37.629526Z",
     "iopub.status.idle": "2025-04-09T14:39:37.633783Z",
     "shell.execute_reply": "2025-04-09T14:39:37.632804Z",
     "shell.execute_reply.started": "2025-04-09T14:39:37.629757Z"
    }
   },
   "outputs": [],
   "source": [
    "# df[multi]['abstract'].iloc[3]"
   ]
  },
  {
   "cell_type": "markdown",
   "metadata": {},
   "source": [
    "To remove the \"-----\" and everything after it we would use the following"
   ]
  },
  {
   "cell_type": "code",
   "execution_count": 32,
   "metadata": {
    "execution": {
     "iopub.execute_input": "2025-04-09T14:39:37.635138Z",
     "iopub.status.busy": "2025-04-09T14:39:37.634851Z",
     "iopub.status.idle": "2025-04-09T14:39:38.086182Z",
     "shell.execute_reply": "2025-04-09T14:39:38.085352Z",
     "shell.execute_reply.started": "2025-04-09T14:39:37.635117Z"
    }
   },
   "outputs": [],
   "source": [
    "english_only = df['abstract'].apply(lambda x: x.split(\"-----\")[0])"
   ]
  },
  {
   "cell_type": "markdown",
   "metadata": {},
   "source": [
    "However, since there are very few examples we leave things as they are"
   ]
  },
  {
   "cell_type": "markdown",
   "metadata": {},
   "source": [
    "<a name=\"4.4\"></a>\n",
    "### 4.4 - Look at distribution of dates from `id` column\n",
    "\n",
    "Old scheme identifiers are of the form hep-th/9901001.\n",
    "\n",
    "New scheme identifiers are of the form 0704.0001 or 1501.00001"
   ]
  },
  {
   "cell_type": "code",
   "execution_count": 33,
   "metadata": {
    "execution": {
     "iopub.execute_input": "2025-04-09T14:39:38.087803Z",
     "iopub.status.busy": "2025-04-09T14:39:38.087431Z",
     "iopub.status.idle": "2025-04-09T14:39:38.096437Z",
     "shell.execute_reply": "2025-04-09T14:39:38.095389Z",
     "shell.execute_reply.started": "2025-04-09T14:39:38.087772Z"
    }
   },
   "outputs": [
    {
     "data": {
      "text/plain": [
       "0          0704.0047\n",
       "1          0704.0050\n",
       "2          0704.0062\n",
       "3          0704.0090\n",
       "4          0704.0098\n",
       "             ...    \n",
       "534228    cs/9912007\n",
       "534229    cs/9912008\n",
       "534230    cs/9912009\n",
       "534231    cs/9912010\n",
       "534232    cs/9912011\n",
       "Name: id, Length: 534233, dtype: object"
      ]
     },
     "execution_count": 33,
     "metadata": {},
     "output_type": "execute_result"
    }
   ],
   "source": [
    "# The dataframes look to be ordered by identifier\n",
    "df['id'][:-10]"
   ]
  },
  {
   "cell_type": "code",
   "execution_count": 34,
   "metadata": {
    "execution": {
     "iopub.execute_input": "2025-04-09T14:39:38.097710Z",
     "iopub.status.busy": "2025-04-09T14:39:38.097452Z",
     "iopub.status.idle": "2025-04-09T14:39:38.107181Z",
     "shell.execute_reply": "2025-04-09T14:39:38.106371Z",
     "shell.execute_reply.started": "2025-04-09T14:39:38.097688Z"
    }
   },
   "outputs": [],
   "source": [
    "def get_year_from_id(id):\n",
    "    if '.' in id:\n",
    "        year = id[:2]\n",
    "    else:\n",
    "        tmp = id.split('/')[1]\n",
    "        year = tmp[:2]\n",
    "    if year[0] == '9':\n",
    "        year = '19' + year\n",
    "    else:\n",
    "        year = '20' + year\n",
    "    return year"
   ]
  },
  {
   "cell_type": "code",
   "execution_count": 35,
   "metadata": {
    "execution": {
     "iopub.execute_input": "2025-04-09T14:39:38.108486Z",
     "iopub.status.busy": "2025-04-09T14:39:38.108212Z",
     "iopub.status.idle": "2025-04-09T14:39:38.429639Z",
     "shell.execute_reply": "2025-04-09T14:39:38.428751Z",
     "shell.execute_reply.started": "2025-04-09T14:39:38.108463Z"
    }
   },
   "outputs": [],
   "source": [
    "years = df['id'].map(get_year_from_id)"
   ]
  },
  {
   "cell_type": "code",
   "execution_count": 36,
   "metadata": {
    "execution": {
     "iopub.execute_input": "2025-04-09T14:39:38.431038Z",
     "iopub.status.busy": "2025-04-09T14:39:38.430722Z",
     "iopub.status.idle": "2025-04-09T14:39:39.610086Z",
     "shell.execute_reply": "2025-04-09T14:39:39.609146Z",
     "shell.execute_reply.started": "2025-04-09T14:39:38.431014Z"
    }
   },
   "outputs": [
    {
     "data": {
      "text/plain": [
       "<Axes: >"
      ]
     },
     "execution_count": 36,
     "metadata": {},
     "output_type": "execute_result"
    },
    {
     "data": {
      "image/png": "[encoded data removed]",
      "text/plain": [
       "<Figure size 1500x300 with 1 Axes>"
      ]
     },
     "metadata": {},
     "output_type": "display_data"
    }
   ],
   "source": [
    "years.sort_values(ascending=True).hist(figsize=(15,3))"
   ]
  },
  {
   "cell_type": "markdown",
   "metadata": {},
   "source": [
    "<a name=\"5\"></a>\n",
    "## 5 - Clean the abstract data"
   ]
  },
  {
   "cell_type": "code",
   "execution_count": 37,
   "metadata": {
    "execution": {
     "iopub.execute_input": "2025-04-09T14:39:39.612143Z",
     "iopub.status.busy": "2025-04-09T14:39:39.611481Z",
     "iopub.status.idle": "2025-04-09T14:39:39.617069Z",
     "shell.execute_reply": "2025-04-09T14:39:39.616085Z",
     "shell.execute_reply.started": "2025-04-09T14:39:39.612107Z"
    }
   },
   "outputs": [],
   "source": [
    "def clean_abstracts(abstract):\n",
    "    abstract = re.sub(r'\\n\\s*', ' ', abstract)  # replace '\\n' and any whitespace immediately after it with a single whitespace\n",
    "    abstract = abstract.strip()  # remove leading/trailing whitespace\n",
    "    return abstract"
   ]
  },
  {
   "cell_type": "code",
   "execution_count": 38,
   "metadata": {
    "execution": {
     "iopub.execute_input": "2025-04-09T14:39:39.618881Z",
     "iopub.status.busy": "2025-04-09T14:39:39.618556Z",
     "iopub.status.idle": "2025-04-09T14:39:44.526347Z",
     "shell.execute_reply": "2025-04-09T14:39:44.525474Z",
     "shell.execute_reply.started": "2025-04-09T14:39:39.618847Z"
    }
   },
   "outputs": [],
   "source": [
    "# apply `clean_abstracts` function to Series. Don't know how to do this inplace\n",
    "# so we add a new column and then do some renaming\n",
    "df['cleaned_abstract'] = df['abstract'].map(clean_abstracts)\n",
    "df = df.rename(columns={\"abstract\": \"orig_abstract\", \"cleaned_abstract\": \"abstract\"})"
   ]
  },
  {
   "cell_type": "code",
   "execution_count": 39,
   "metadata": {
    "execution": {
     "iopub.execute_input": "2025-04-09T14:39:44.527769Z",
     "iopub.status.busy": "2025-04-09T14:39:44.527479Z",
     "iopub.status.idle": "2025-04-09T14:39:44.534087Z",
     "shell.execute_reply": "2025-04-09T14:39:44.533146Z",
     "shell.execute_reply.started": "2025-04-09T14:39:44.527745Z"
    }
   },
   "outputs": [
    {
     "data": {
      "text/plain": [
       "'The intelligent acoustic emission locator is described in Part I, while Part II discusses blind source separation, time delay estimation and location of two simultaneously active continuous acoustic emission sources. The location of acoustic emission on complicated aircraft frame structures is a difficult problem of non-destructive testing. This article describes an intelligent acoustic emission source locator. The intelligent locator comprises a sensor antenna and a general regression neural network, which solves the location problem based on learning from examples. Locator performance was tested on different test specimens. Tests have shown that the accuracy of location depends on sound velocity and attenuation in the specimen, the dimensions of the tested area, and the properties of stored data. The location accuracy achieved by the intelligent locator is comparable to that obtained by the conventional triangulation method, while the applicability of the intelligent locator is more general since analysis of sonic ray paths is avoided. This is a promising method for non-destructive testing of aircraft frame structures by the acoustic emission method.'"
      ]
     },
     "execution_count": 39,
     "metadata": {},
     "output_type": "execute_result"
    }
   ],
   "source": [
    "df['abstract'].iloc[0]"
   ]
  },
  {
   "cell_type": "markdown",
   "metadata": {},
   "source": [
    "<a name=\"6\"></a>\n",
    "## 6 - Convert to Huggingface dataset and push"
   ]
  },
  {
   "cell_type": "code",
   "execution_count": 40,
   "metadata": {
    "execution": {
     "iopub.execute_input": "2025-04-09T14:39:44.535487Z",
     "iopub.status.busy": "2025-04-09T14:39:44.535215Z",
     "iopub.status.idle": "2025-04-09T14:39:45.392657Z",
     "shell.execute_reply": "2025-04-09T14:39:45.391509Z",
     "shell.execute_reply.started": "2025-04-09T14:39:44.535463Z"
    }
   },
   "outputs": [],
   "source": [
    "# For cs we take 200,000 random rows\n",
    "if wanted_categories == ['cs.']: \n",
    "    df = df.sample(n=200000, replace=False, random_state=42)"
   ]
  },
  {
   "cell_type": "markdown",
   "metadata": {},
   "source": [
    "<a name=\"6.1\"></a>\n",
    "### 6.1 - Convert Pandas DataFrame to dataset Dataset"
   ]
  },
  {
   "cell_type": "code",
   "execution_count": 41,
   "metadata": {
    "execution": {
     "iopub.execute_input": "2025-04-09T14:39:45.395074Z",
     "iopub.status.busy": "2025-04-09T14:39:45.394673Z",
     "iopub.status.idle": "2025-04-09T14:39:52.539914Z",
     "shell.execute_reply": "2025-04-09T14:39:52.539148Z",
     "shell.execute_reply.started": "2025-04-09T14:39:45.395038Z"
    }
   },
   "outputs": [],
   "source": [
    "raw_dataset = datasets.Dataset.from_pandas(df, preserve_index=False)"
   ]
  },
  {
   "cell_type": "markdown",
   "metadata": {},
   "source": [
    "<a name=\"6.2\"></a>\n",
    "### 6.2 - Split dataset into train, test and validation datasets\n",
    "\n",
    "use `?datasets.Dataset.train_test_split` to get full documentation.\n",
    "\n",
    "Since the DataFrame seems to be ordered by `id` column we must randomly shuffle before splitting.\n",
    "\n",
    "**NB:** The variables `train_size` and `validation_size` are defined in section [1.2](#1.2)"
   ]
  },
  {
   "cell_type": "code",
   "execution_count": 42,
   "metadata": {
    "execution": {
     "iopub.execute_input": "2025-04-09T14:39:52.541610Z",
     "iopub.status.busy": "2025-04-09T14:39:52.541327Z",
     "iopub.status.idle": "2025-04-09T14:39:52.633967Z",
     "shell.execute_reply": "2025-04-09T14:39:52.632937Z",
     "shell.execute_reply.started": "2025-04-09T14:39:52.541587Z"
    }
   },
   "outputs": [],
   "source": [
    "train_testvalid = raw_dataset.train_test_split(train_size=train_size, seed=42, shuffle=True)\n",
    "test_valid = train_testvalid['test'].train_test_split(test_size=validation_size, seed=42, shuffle=True)\n",
    "\n",
    "train_test_valid_dataset = datasets.DatasetDict({'train': train_testvalid['train'],\n",
    "                                                 'test': test_valid['test'],\n",
    "                                                 'validation': test_valid['train']})"
   ]
  },
  {
   "cell_type": "code",
   "execution_count": 43,
   "metadata": {
    "execution": {
     "iopub.execute_input": "2025-04-09T14:39:52.635444Z",
     "iopub.status.busy": "2025-04-09T14:39:52.635151Z",
     "iopub.status.idle": "2025-04-09T14:39:52.641073Z",
     "shell.execute_reply": "2025-04-09T14:39:52.640048Z",
     "shell.execute_reply.started": "2025-04-09T14:39:52.635418Z"
    }
   },
   "outputs": [
    {
     "name": "stdout",
     "output_type": "stream",
     "text": [
      "Dataset train has size 140000\n",
      "Dataset test has size 30000\n",
      "Dataset validation has size 30000\n"
     ]
    }
   ],
   "source": [
    "# print the number of entries in each dataset\n",
    "for name, data in train_test_valid_dataset.items():\n",
    "    print(f\"Dataset {name} has size {data.shape[0]}\")"
   ]
  },
  {
   "cell_type": "markdown",
   "metadata": {},
   "source": [
    "<a name=\"6.3\"></a>\n",
    "### 6.3 - Upload data to Huggingface\n",
    "\n",
    "See `?datasets.Dataset.push_to_hub` for full documentation.\n",
    "\n",
    "**NB:** The variables `repo_id` and `commit_message` are defined in section [1.2](#1.2)"
   ]
  },
  {
   "cell_type": "code",
   "execution_count": null,
   "metadata": {},
   "outputs": [],
   "source": [
    "# Push the Dataset to Huggingface\n",
    "try:\n",
    "    train_test_valid_dataset.push_to_hub(repo_id, commit_message=commit_message)\n",
    "except:\n",
    "    huggingface_hub.create_repo(repo_id=repo_id,\n",
    "                                repo_type=\"dataset\",\n",
    "                                private=True,\n",
    "                                commit_message=commit_message)\n",
    "    train_test_valid_dataset.push_to_hub(repo_id)"
   ]
  },
  {
   "cell_type": "code",
   "execution_count": 105,
   "metadata": {
    "execution": {
     "iopub.execute_input": "2025-02-28T16:57:45.803198Z",
     "iopub.status.busy": "2025-02-28T16:57:45.802799Z",
     "iopub.status.idle": "2025-02-28T16:57:45.833703Z",
     "shell.execute_reply": "2025-02-28T16:57:45.832551Z",
     "shell.execute_reply.started": "2025-02-28T16:57:45.803166Z"
    }
   },
   "outputs": [
    {
     "name": "stdout",
     "output_type": "stream",
     "text": [
      "Successfully logged out.\n"
     ]
    }
   ],
   "source": [
    "# logout from Huggingface\n",
    "huggingface_hub.logout()"
   ]
  },
  {
   "cell_type": "markdown",
   "metadata": {
    "execution": {
     "iopub.execute_input": "2024-08-28T07:33:04.582462Z",
     "iopub.status.busy": "2024-08-28T07:33:04.581733Z",
     "iopub.status.idle": "2024-08-28T07:33:20.156723Z",
     "shell.execute_reply": "2024-08-28T07:33:20.155819Z",
     "shell.execute_reply.started": "2024-08-28T07:33:04.582423Z"
    }
   },
   "source": [
    "****NB: we can get previous instances of datasets by using****\n",
    "\n",
    "```\n",
    "ds_old = datasets.load_dataset('LLMsForHepth/arxiv_hepth_first', \n",
    "                               revision='346140be7a01f109af9845a0e3742b9fcd66fd9a')\n",
    "                               ```\n",
    "                               \n",
    "where '346140be7a01f109af9845a0e3742b9fcd66fd9a' is a commit hash found on the repo website"
   ]
  },
  {
   "cell_type": "code",
   "execution_count": null,
   "metadata": {
    "execution": {
     "iopub.execute_input": "2024-09-23T13:32:27.263594Z",
     "iopub.status.busy": "2024-09-23T13:32:27.262700Z",
     "iopub.status.idle": "2024-09-23T13:32:49.850959Z",
     "shell.execute_reply": "2024-09-23T13:32:49.849757Z",
     "shell.execute_reply.started": "2024-09-23T13:32:27.263558Z"
    }
   },
   "outputs": [],
   "source": [
    "ds = load_dataset('LLMsForHepth/hep-th_primary')"
   ]
  },
  {
   "cell_type": "markdown",
   "metadata": {},
   "source": [
    "<a name=\"7\"></a>\n",
    "## 7 - Concatenate hep-th_primary and hep-ph_gr-qc_primary datasets"
   ]
  },
  {
   "cell_type": "code",
   "execution_count": null,
   "metadata": {
    "execution": {
     "iopub.execute_input": "2024-10-31T11:55:05.122102Z",
     "iopub.status.busy": "2024-10-31T11:55:05.121619Z",
     "iopub.status.idle": "2024-10-31T11:55:05.127450Z",
     "shell.execute_reply": "2024-10-31T11:55:05.126165Z",
     "shell.execute_reply.started": "2024-10-31T11:55:05.122039Z"
    }
   },
   "outputs": [],
   "source": [
    "from datasets import load_dataset, concatenate_datasets, DatasetDict"
   ]
  },
  {
   "cell_type": "code",
   "execution_count": null,
   "metadata": {
    "execution": {
     "iopub.execute_input": "2024-10-31T11:55:06.962741Z",
     "iopub.status.busy": "2024-10-31T11:55:06.962301Z",
     "iopub.status.idle": "2024-10-31T11:55:30.225822Z",
     "shell.execute_reply": "2024-10-31T11:55:30.224646Z",
     "shell.execute_reply.started": "2024-10-31T11:55:06.962708Z"
    }
   },
   "outputs": [],
   "source": [
    "ds_1 = load_dataset('LLMsForHepth/hep-th_primary')\n",
    "ds_2 = load_dataset('LLMsForHepth/hep-ph_gr-qc_primary')"
   ]
  },
  {
   "cell_type": "code",
   "execution_count": null,
   "metadata": {
    "execution": {
     "iopub.execute_input": "2024-10-31T11:55:46.922421Z",
     "iopub.status.busy": "2024-10-31T11:55:46.921821Z",
     "iopub.status.idle": "2024-10-31T11:55:46.961709Z",
     "shell.execute_reply": "2024-10-31T11:55:46.960520Z",
     "shell.execute_reply.started": "2024-10-31T11:55:46.922383Z"
    }
   },
   "outputs": [],
   "source": [
    "ds_concat = DatasetDict()\n",
    "names = ds_1.keys()\n",
    "\n",
    "for name in names:\n",
    "    ds_concat[name] = concatenate_datasets([ds_1[name], ds_2[name]])"
   ]
  },
  {
   "cell_type": "code",
   "execution_count": null,
   "metadata": {
    "execution": {
     "iopub.execute_input": "2024-10-31T11:55:54.847997Z",
     "iopub.status.busy": "2024-10-31T11:55:54.847588Z",
     "iopub.status.idle": "2024-10-31T11:55:54.856301Z",
     "shell.execute_reply": "2024-10-31T11:55:54.855069Z",
     "shell.execute_reply.started": "2024-10-31T11:55:54.847952Z"
    }
   },
   "outputs": [],
   "source": [
    "ds_concat"
   ]
  },
  {
   "cell_type": "code",
   "execution_count": null,
   "metadata": {
    "execution": {
     "iopub.execute_input": "2024-10-31T11:56:00.624751Z",
     "iopub.status.busy": "2024-10-31T11:56:00.624336Z",
     "iopub.status.idle": "2024-10-31T11:57:45.966569Z",
     "shell.execute_reply": "2024-10-31T11:57:45.963853Z",
     "shell.execute_reply.started": "2024-10-31T11:56:00.624720Z"
    }
   },
   "outputs": [],
   "source": [
    "ds_concat['train'] = ds_concat['train'].shuffle(seed=42)\n",
    "ds_concat['train'] = ds_concat['train'].flatten_indices()\n",
    "\n",
    "ds_concat['test'] = ds_concat['test'].shuffle(seed=42)\n",
    "ds_concat['test'] = ds_concat['test'].flatten_indices()\n",
    "\n",
    "ds_concat['validation'] = ds_concat['validation'].shuffle(seed=42)\n",
    "ds_concat['validation'] = ds_concat['validation'].flatten_indices()"
   ]
  },
  {
   "cell_type": "code",
   "execution_count": null,
   "metadata": {
    "execution": {
     "iopub.execute_input": "2024-10-31T11:59:17.109574Z",
     "iopub.status.busy": "2024-10-31T11:59:17.109171Z",
     "iopub.status.idle": "2024-10-31T11:59:17.119475Z",
     "shell.execute_reply": "2024-10-31T11:59:17.118306Z",
     "shell.execute_reply.started": "2024-10-31T11:59:17.109543Z"
    }
   },
   "outputs": [],
   "source": [
    "print(ds_1['train'][0:5]['id'])\n",
    "print(ds_2['train'][0:5]['id'])\n",
    "print(ds_concat['train'][0:5]['id'])"
   ]
  },
  {
   "cell_type": "code",
   "execution_count": null,
   "metadata": {
    "execution": {
     "iopub.execute_input": "2024-10-31T11:59:49.829532Z",
     "iopub.status.busy": "2024-10-31T11:59:49.829133Z",
     "iopub.status.idle": "2024-10-31T12:00:10.061167Z",
     "shell.execute_reply": "2024-10-31T12:00:10.060035Z",
     "shell.execute_reply.started": "2024-10-31T11:59:49.829501Z"
    }
   },
   "outputs": [],
   "source": [
    "# Push the Dataset to Huggingface\n",
    "try:\n",
    "    ds_concat.push_to_hub('LLMsForHepth/hep-th_hep-ph_gr-qc_primary_v3')\n",
    "except:\n",
    "    huggingface_hub.create_repo(repo_id='LLMsForHepth/hep-th_hep-ph_gr-qc_primary_v3',\n",
    "                                repo_type=\"dataset\",\n",
    "                                private=False)\n",
    "    ds_concat.push_to_hub(repo_id)"
   ]
  },
  {
   "cell_type": "code",
   "execution_count": null,
   "metadata": {},
   "outputs": [],
   "source": []
  }
 ],
 "metadata": {
  "kaggle": {
   "accelerator": "none",
   "dataSources": [
    {
     "datasetId": 612177,
     "isSourceIdPinned": true,
     "sourceId": 9193845,
     "sourceType": "datasetVersion"
    }
   ],
   "dockerImageVersionId": 30684,
   "isGpuEnabled": false,
   "isInternetEnabled": true,
   "language": "python",
   "sourceType": "notebook"
  },
  "kernelspec": {
   "display_name": "llmsforhepth",
   "language": "python",
   "name": "llmsforhepth"
  },
  "language_info": {
   "codemirror_mode": {
    "name": "ipython",
    "version": 3
   },
   "file_extension": ".py",
   "mimetype": "text/x-python",
   "name": "python",
   "nbconvert_exporter": "python",
   "pygments_lexer": "ipython3",
   "version": "3.10.10"
  }
 },
 "nbformat": 4,
 "nbformat_minor": 4
}
