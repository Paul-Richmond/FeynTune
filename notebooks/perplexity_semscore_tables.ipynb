{
 "cells": [
  {
   "cell_type": "markdown",
   "id": "dba75498-7866-41cd-b577-284c1e6baa33",
   "metadata": {},
   "source": [
    "# Extract evaluation data from datasets and format "
   ]
  },
  {
   "cell_type": "code",
   "execution_count": null,
   "id": "7449de71-c336-4172-a4e2-8515410e8e3a",
   "metadata": {},
   "outputs": [],
   "source": [
    "import os\n",
    "\n",
    "import pandas as pd\n",
    "from datasets import load_dataset\n",
    "from tabulate import tabulate\n",
    "\n",
    "%load_ext dotenv\n",
    "%dotenv"
   ]
  },
  {
   "cell_type": "code",
   "execution_count": null,
   "id": "b37b9226-1ced-4945-a41b-a61cbcaefc45",
   "metadata": {},
   "outputs": [],
   "source": [
    "try:\n",
    "    hf_token = os.getenv(\"HUGGINGFACE_API_KEY\")\n",
    "    huggingface_hub.login(token=hf_token)\n",
    "except:\n",
    "    huggingface_hub.login()"
   ]
  },
  {
   "cell_type": "code",
   "execution_count": null,
   "id": "925effc6-c433-494c-ae30-4fce0dc63dca",
   "metadata": {},
   "outputs": [],
   "source": [
    "models = ['Llama', \n",
    "          's1', 's2', 's3', 's4', 's5', \n",
    "          's6', 's7', 's8', 's9', 's10', \n",
    "          's1_qkv', 's2_qkv', 's3_qkv', 's4_qkv', 's5_qkv', \n",
    "          's6_qkv', 's7_qkv', 's8_qkv', 's9_qkv', 's10_qkv']"
   ]
  },
  {
   "cell_type": "markdown",
   "id": "fad8927e-fae5-45b2-be0c-1f6dac5b1620",
   "metadata": {},
   "source": [
    "## Get perplexities in nice table format"
   ]
  },
  {
   "cell_type": "code",
   "execution_count": null,
   "id": "99eec698-0421-427e-b600-8864e9414681",
   "metadata": {},
   "outputs": [],
   "source": [
    "ds = load_dataset('LLMsForHepth/hep-th_perplexities', split='test')\n",
    "df = ds.to_pandas()\n",
    "desc = df.describe()\n",
    "desc"
   ]
  },
  {
   "cell_type": "code",
   "execution_count": null,
   "id": "e16dae78-2e80-41b3-8e67-cdbebdd6afc1",
   "metadata": {},
   "outputs": [],
   "source": [
    "perplexity_cols = [name for name in ds.column_names if name.startswith('perplexity')]\n",
    "\n",
    "col_dict = {perplexity_col: model for perplexity_col, model in zip(perplexity_cols, models)}"
   ]
  },
  {
   "cell_type": "code",
   "execution_count": null,
   "id": "36c99d10-4842-4022-9c9d-b9fea658a8d3",
   "metadata": {},
   "outputs": [],
   "source": [
    "desc_no_count = desc.drop('count')\n",
    "desc_renamed = desc_no_count.rename(columns=col_dict)\n",
    "print(tabulate(desc_renamed.T, headers='keys', tablefmt='latex'))"
   ]
  },
  {
   "cell_type": "markdown",
   "id": "c6c5b9a7-518a-4cb9-ac8c-d07385ff68ee",
   "metadata": {},
   "source": [
    "## Get SemScores in nice table format"
   ]
  },
  {
   "cell_type": "code",
   "execution_count": null,
   "id": "dae4e8f3-c17b-4ab7-a779-d23b622b90c5",
   "metadata": {},
   "outputs": [],
   "source": [
    "ds = load_dataset('LLMsForHepth/sem_scores_hep_th', split='test')"
   ]
  },
  {
   "cell_type": "code",
   "execution_count": null,
   "id": "8a8d2faf-ad0c-426e-b3a1-be6506c7f5c2",
   "metadata": {},
   "outputs": [],
   "source": [
    "score_cols = [name for name in ds.column_names if name.startswith('score')]\n",
    "\n",
    "col_dict = {score_col: model for score_col, model in zip(score_cols, models)}"
   ]
  },
  {
   "cell_type": "code",
   "execution_count": null,
   "id": "2697dc20-43e0-469f-9070-b0649b2825e4",
   "metadata": {},
   "outputs": [],
   "source": [
    "df = ds.to_pandas()\n",
    "df = df[score_cols]\n",
    "desc = df.describe()\n",
    "desc_no_count = desc.drop('count')\n",
    "desc_renamed = desc_no_count.rename(columns=col_dict)\n",
    "print(tabulate(desc_renamed.T, headers='keys', tablefmt='latex'))"
   ]
  }
 ],
 "metadata": {
  "kernelspec": {
   "display_name": "llmsforhepth",
   "language": "python",
   "name": "llmsforhepth"
  },
  "language_info": {
   "codemirror_mode": {
    "name": "ipython",
    "version": 3
   },
   "file_extension": ".py",
   "mimetype": "text/x-python",
   "name": "python",
   "nbconvert_exporter": "python",
   "pygments_lexer": "ipython3",
   "version": "3.10.10"
  }
 },
 "nbformat": 4,
 "nbformat_minor": 5
}
